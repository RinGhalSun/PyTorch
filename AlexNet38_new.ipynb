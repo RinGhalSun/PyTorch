{
 "cells": [
  {
   "cell_type": "code",
   "execution_count": 1,
   "id": "c16e56a5",
   "metadata": {
    "ExecuteTime": {
     "end_time": "2021-09-27T07:35:25.725045Z",
     "start_time": "2021-09-27T07:35:24.797836Z"
    }
   },
   "outputs": [],
   "source": [
    "import os\n",
    "import torch\n",
    "import matplotlib.pyplot as plt\n",
    "import torch.nn as nn\n",
    "from torch.utils.data import DataLoader\n",
    "from PIL import Image\n",
    "import torch.nn.functional as F\n",
    "import torchvision.transforms as transforms\n",
    "from torchvision.datasets import ImageFolder  \n",
    "%matplotlib inline"
   ]
  },
  {
   "cell_type": "code",
   "execution_count": 2,
   "id": "2e28a78f",
   "metadata": {
    "ExecuteTime": {
     "end_time": "2021-09-27T07:35:25.741049Z",
     "start_time": "2021-09-27T07:35:25.727045Z"
    }
   },
   "outputs": [
    {
     "name": "stdout",
     "output_type": "stream",
     "text": [
      "['Apple___Apple_scab', 'Apple___Black_rot', 'Apple___Cedar_apple_rust', 'Apple___healthy', 'Blueberry___healthy', 'Cherry_(including_sour)___healthy', 'Cherry_(including_sour)___Powdery_mildew', 'Corn_(maize)___Cercospora_leaf_spot Gray_leaf_spot', 'Corn_(maize)___Common_rust_', 'Corn_(maize)___healthy', 'Corn_(maize)___Northern_Leaf_Blight', 'Grape___Black_rot', 'Grape___Esca_(Black_Measles)', 'Grape___healthy', 'Grape___Leaf_blight_(Isariopsis_Leaf_Spot)', 'Orange___Haunglongbing_(Citrus_greening)', 'Peach___Bacterial_spot', 'Peach___healthy', 'Pepper,_bell___Bacterial_spot', 'Pepper,_bell___healthy', 'Potato___Early_blight', 'Potato___healthy', 'Potato___Late_blight', 'Raspberry___healthy', 'Soybean___healthy', 'Squash___Powdery_mildew', 'Strawberry___healthy', 'Strawberry___Leaf_scorch', 'Tomato___Bacterial_spot', 'Tomato___Early_blight', 'Tomato___healthy', 'Tomato___Late_blight', 'Tomato___Leaf_Mold', 'Tomato___Septoria_leaf_spot', 'Tomato___Spider_mites Two-spotted_spider_mite', 'Tomato___Target_Spot', 'Tomato___Tomato_mosaic_virus', 'Tomato___Tomato_Yellow_Leaf_Curl_Virus']\n",
      "38\n"
     ]
    }
   ],
   "source": [
    "data_dir = \"../input/New Plant Diseases Dataset\"\n",
    "train_dir = data_dir + \"/train\"\n",
    "valid_dir = data_dir + \"/valid\"\n",
    "diseases = os.listdir(train_dir)\n",
    "print(diseases)\n",
    "print(len(diseases))"
   ]
  },
  {
   "cell_type": "code",
   "execution_count": 3,
   "id": "5e96e6dd",
   "metadata": {
    "ExecuteTime": {
     "end_time": "2021-09-27T07:35:25.757052Z",
     "start_time": "2021-09-27T07:35:25.742049Z"
    }
   },
   "outputs": [],
   "source": [
    "transform= transforms.Compose([\n",
    "    transforms.Resize(256),\n",
    "    transforms.CenterCrop(224),\n",
    "    transforms.ToTensor(),\n",
    "    transforms.Normalize(mean=[0.485, 0.456, 0.406], std=[0.229, 0.224, 0.225]),\n",
    "])"
   ]
  },
  {
   "cell_type": "code",
   "execution_count": 4,
   "id": "b08a86eb",
   "metadata": {
    "ExecuteTime": {
     "end_time": "2021-09-27T07:35:26.477215Z",
     "start_time": "2021-09-27T07:35:25.758052Z"
    }
   },
   "outputs": [],
   "source": [
    "batch_size = 128\n",
    "train = ImageFolder(train_dir, transform=transform)\n",
    "valid = ImageFolder(valid_dir, transform=transform) \n",
    "train_dl = DataLoader(train, batch_size, shuffle=True, num_workers=0, pin_memory=True)\n",
    "valid_dl = DataLoader(valid, batch_size, num_workers=0, pin_memory=True)"
   ]
  },
  {
   "cell_type": "code",
   "execution_count": 5,
   "id": "07dece7d",
   "metadata": {
    "ExecuteTime": {
     "end_time": "2021-09-27T07:35:27.802618Z",
     "start_time": "2021-09-27T07:35:26.478215Z"
    }
   },
   "outputs": [],
   "source": [
    "AlexNet = nn.Sequential(\n",
    "    # 这里，我们使Q用一个11*11的更大窗口来捕捉对象。\n",
    "    # 同时，步幅为4，以减少输出的高度和宽度。\n",
    "    # 另外，输出通道的数目远大于LeNet\n",
    "    nn.Conv2d(3, 64, kernel_size=11, stride=4, padding=2), nn.ReLU(),\n",
    "    nn.MaxPool2d(kernel_size=3, stride=2),\n",
    "    # 减小卷积窗口，使用填充为2来使得输入与输出的高和宽一致，且增大输出通道数\n",
    "    nn.Conv2d(64, 192, kernel_size=5, padding=2), nn.ReLU(),\n",
    "    nn.MaxPool2d(kernel_size=3, stride=2),\n",
    "    # 使用三个连续的卷积层和较小的卷积窗口。\n",
    "    # 除了最后的卷积层，输出通道的数量进一步增加。\n",
    "    # 在前两个卷积层之后，汇聚层不用于减少输入的高度和宽度\n",
    "    nn.Conv2d(192, 384, kernel_size=3, padding=1), nn.ReLU(),\n",
    "    nn.Conv2d(384, 256, kernel_size=3, padding=1), nn.ReLU(),\n",
    "    nn.Conv2d(256, 256, kernel_size=3, padding=1), nn.ReLU(),\n",
    "    nn.MaxPool2d(kernel_size=3, stride=2),\n",
    "    nn.Flatten(),\n",
    "    # 这里，全连接层的输出数量是LeNet中的好几倍。使用dropout层来减轻过度拟合\n",
    "    nn.Linear(9216, 2048), nn.ReLU(),\n",
    "    nn.Dropout(p=0.5),\n",
    "    nn.Linear(2048, 512), nn.ReLU(),\n",
    "    nn.Dropout(p=0.5),\n",
    "    # 最后是输出层。由于这里使用Fashion-MNIST，所以用类别数为10，而非论文中的1000\n",
    "    nn.Linear(512, 38)).cuda()"
   ]
  },
  {
   "cell_type": "code",
   "execution_count": 6,
   "id": "a925ad5b",
   "metadata": {
    "ExecuteTime": {
     "end_time": "2021-09-27T07:35:27.818623Z",
     "start_time": "2021-09-27T07:35:27.803619Z"
    }
   },
   "outputs": [
    {
     "data": {
      "text/plain": [
       "device(type='cuda', index=0)"
      ]
     },
     "execution_count": 6,
     "metadata": {},
     "output_type": "execute_result"
    }
   ],
   "source": [
    "device = torch.device('cuda:0')\n",
    "device"
   ]
  },
  {
   "cell_type": "code",
   "execution_count": 7,
   "id": "36159296",
   "metadata": {
    "ExecuteTime": {
     "end_time": "2021-09-27T07:35:27.834626Z",
     "start_time": "2021-09-27T07:35:27.819622Z"
    }
   },
   "outputs": [
    {
     "data": {
      "text/plain": [
       "Sequential(\n",
       "  (0): Conv2d(3, 64, kernel_size=(11, 11), stride=(4, 4), padding=(2, 2))\n",
       "  (1): ReLU()\n",
       "  (2): MaxPool2d(kernel_size=3, stride=2, padding=0, dilation=1, ceil_mode=False)\n",
       "  (3): Conv2d(64, 192, kernel_size=(5, 5), stride=(1, 1), padding=(2, 2))\n",
       "  (4): ReLU()\n",
       "  (5): MaxPool2d(kernel_size=3, stride=2, padding=0, dilation=1, ceil_mode=False)\n",
       "  (6): Conv2d(192, 384, kernel_size=(3, 3), stride=(1, 1), padding=(1, 1))\n",
       "  (7): ReLU()\n",
       "  (8): Conv2d(384, 256, kernel_size=(3, 3), stride=(1, 1), padding=(1, 1))\n",
       "  (9): ReLU()\n",
       "  (10): Conv2d(256, 256, kernel_size=(3, 3), stride=(1, 1), padding=(1, 1))\n",
       "  (11): ReLU()\n",
       "  (12): MaxPool2d(kernel_size=3, stride=2, padding=0, dilation=1, ceil_mode=False)\n",
       "  (13): Flatten(start_dim=1, end_dim=-1)\n",
       "  (14): Linear(in_features=9216, out_features=2048, bias=True)\n",
       "  (15): ReLU()\n",
       "  (16): Dropout(p=0.5, inplace=False)\n",
       "  (17): Linear(in_features=2048, out_features=512, bias=True)\n",
       "  (18): ReLU()\n",
       "  (19): Dropout(p=0.5, inplace=False)\n",
       "  (20): Linear(in_features=512, out_features=38, bias=True)\n",
       ")"
      ]
     },
     "execution_count": 7,
     "metadata": {},
     "output_type": "execute_result"
    }
   ],
   "source": [
    "AlexNet"
   ]
  },
  {
   "cell_type": "code",
   "execution_count": 8,
   "id": "a42d8991",
   "metadata": {
    "ExecuteTime": {
     "end_time": "2021-09-27T07:35:27.850630Z",
     "start_time": "2021-09-27T07:35:27.835626Z"
    }
   },
   "outputs": [],
   "source": [
    "import torch.optim as optim\n",
    "\n",
    "criterion = nn.CrossEntropyLoss()\n",
    "optimizer = optim.SGD(AlexNet.parameters(), lr=0.008, momentum=0.9)"
   ]
  },
  {
   "cell_type": "code",
   "execution_count": 9,
   "id": "7657ad2f",
   "metadata": {
    "ExecuteTime": {
     "end_time": "2021-09-27T08:44:42.539359Z",
     "start_time": "2021-09-27T07:35:27.851629Z"
    }
   },
   "outputs": [
    {
     "name": "stderr",
     "output_type": "stream",
     "text": [
      "C:\\Users\\Yueqiao\\anaconda3\\envs\\ttorch\\lib\\site-packages\\torch\\nn\\functional.py:718: UserWarning: Named tensors and all their associated APIs are an experimental feature and subject to change. Please do not use them for anything important until they are released as stable. (Triggered internally at  ..\\c10/core/TensorImpl.h:1156.)\n",
      "  return torch.max_pool2d(input, kernel_size, stride, padding, dilation, ceil_mode)\n"
     ]
    },
    {
     "name": "stdout",
     "output_type": "stream",
     "text": [
      "Epoch [1/20], Step [275/550], Accuracy: 13.28125%, Loss: 3.2891\n",
      "Epoch [1/20], Step [550/550], Accuracy: 37.5%, Loss: 2.1492\n",
      "Accuracy: 46.65 %\n",
      "1.7665215045431235\n",
      "Epoch [2/20], Step [275/550], Accuracy: 55.46875%, Loss: 1.3871\n",
      "Epoch [2/20], Step [550/550], Accuracy: 83.33333333333333%, Loss: 0.6532\n",
      "Accuracy: 74.12 %\n",
      "0.8222477646123101\n",
      "Epoch [3/20], Step [275/550], Accuracy: 81.25%, Loss: 0.6990\n",
      "Epoch [3/20], Step [550/550], Accuracy: 100.0%, Loss: 0.1679\n",
      "Accuracy: 85.80 %\n",
      "0.4567157455930745\n",
      "Epoch [4/20], Step [275/550], Accuracy: 84.375%, Loss: 0.5194\n",
      "Epoch [4/20], Step [550/550], Accuracy: 95.83333333333333%, Loss: 0.2224\n",
      "Accuracy: 90.21 %\n",
      "0.31005372167870837\n",
      "Epoch [5/20], Step [275/550], Accuracy: 92.96875%, Loss: 0.2666\n",
      "Epoch [5/20], Step [550/550], Accuracy: 95.83333333333333%, Loss: 0.1824\n",
      "Accuracy: 94.00 %\n",
      "0.18688758538464886\n",
      "Epoch [6/20], Step [275/550], Accuracy: 93.75%, Loss: 0.1564\n",
      "Epoch [6/20], Step [550/550], Accuracy: 91.66666666666667%, Loss: 0.2201\n",
      "Accuracy: 94.22 %\n",
      "0.18251647461073162\n",
      "Epoch [7/20], Step [275/550], Accuracy: 91.40625%, Loss: 0.2354\n",
      "Epoch [7/20], Step [550/550], Accuracy: 87.5%, Loss: 0.2041\n",
      "Accuracy: 95.34 %\n",
      "0.14545753891898994\n",
      "Epoch [8/20], Step [275/550], Accuracy: 96.875%, Loss: 0.0711\n",
      "Epoch [8/20], Step [550/550], Accuracy: 91.66666666666667%, Loss: 0.2760\n",
      "Accuracy: 93.55 %\n",
      "0.20437569737567798\n",
      "Epoch [9/20], Step [275/550], Accuracy: 92.96875%, Loss: 0.2191\n",
      "Epoch [9/20], Step [550/550], Accuracy: 91.66666666666667%, Loss: 0.1008\n",
      "Accuracy: 94.92 %\n",
      "0.16280656926105322\n",
      "Epoch [10/20], Step [275/550], Accuracy: 95.3125%, Loss: 0.1393\n",
      "Epoch [10/20], Step [550/550], Accuracy: 95.83333333333333%, Loss: 0.0894\n",
      "Accuracy: 96.27 %\n",
      "0.11885752449412049\n",
      "Epoch [11/20], Step [275/550], Accuracy: 96.875%, Loss: 0.1114\n",
      "Epoch [11/20], Step [550/550], Accuracy: 100.0%, Loss: 0.0030\n",
      "Accuracy: 96.63 %\n",
      "0.10618546991863828\n",
      "Epoch [12/20], Step [275/550], Accuracy: 99.21875%, Loss: 0.0628\n",
      "Epoch [12/20], Step [550/550], Accuracy: 100.0%, Loss: 0.0250\n",
      "Accuracy: 96.89 %\n",
      "0.0974189554050285\n",
      "Epoch [13/20], Step [275/550], Accuracy: 96.875%, Loss: 0.0829\n",
      "Epoch [13/20], Step [550/550], Accuracy: 100.0%, Loss: 0.0557\n",
      "Accuracy: 96.90 %\n",
      "0.1022334960800492\n",
      "Epoch [14/20], Step [275/550], Accuracy: 99.21875%, Loss: 0.0244\n",
      "Epoch [14/20], Step [550/550], Accuracy: 100.0%, Loss: 0.0056\n",
      "Accuracy: 96.40 %\n",
      "0.11832155488854282\n",
      "Epoch [15/20], Step [275/550], Accuracy: 96.875%, Loss: 0.0790\n",
      "Epoch [15/20], Step [550/550], Accuracy: 95.83333333333333%, Loss: 0.0494\n",
      "Accuracy: 97.31 %\n",
      "0.09237786668118995\n",
      "Epoch [16/20], Step [275/550], Accuracy: 98.4375%, Loss: 0.0428\n",
      "Epoch [16/20], Step [550/550], Accuracy: 100.0%, Loss: 0.0081\n",
      "Accuracy: 97.22 %\n",
      "0.09108100813063819\n",
      "Epoch [17/20], Step [275/550], Accuracy: 99.21875%, Loss: 0.0236\n",
      "Epoch [17/20], Step [550/550], Accuracy: 100.0%, Loss: 0.0121\n",
      "Accuracy: 96.69 %\n",
      "0.12713640296864018\n",
      "Epoch [18/20], Step [275/550], Accuracy: 99.21875%, Loss: 0.0219\n",
      "Epoch [18/20], Step [550/550], Accuracy: 95.83333333333333%, Loss: 0.0652\n",
      "Accuracy: 97.58 %\n",
      "0.08895185799312531\n",
      "Epoch [19/20], Step [275/550], Accuracy: 98.4375%, Loss: 0.0482\n",
      "Epoch [19/20], Step [550/550], Accuracy: 95.83333333333333%, Loss: 0.0514\n",
      "Accuracy: 96.72 %\n",
      "0.13025237275464682\n",
      "Epoch [20/20], Step [275/550], Accuracy: 99.21875%, Loss: 0.0416\n",
      "Epoch [20/20], Step [550/550], Accuracy: 100.0%, Loss: 0.0202\n",
      "Accuracy: 97.24 %\n",
      "0.09362887871117831\n",
      "Finished Training of AlexNet\n"
     ]
    }
   ],
   "source": [
    "total_step = len(train_dl)\n",
    "num_epoch = 20\n",
    "List_acc_valid=[]\n",
    "List_acc_train=[]  \n",
    "List_loss_valid=[]\n",
    "List_loss_train=[]\n",
    "for epoch in range(num_epoch):  # loop over the dataset multiple times\n",
    "\n",
    "    running_loss = 0.0\n",
    "    AlexNet.train()\n",
    "    for i, data in enumerate(train_dl, 0):\n",
    "        # get the inputs; data is a list of [inputs, labels]\n",
    "        inputs, labels = data[0].to(device), data[1].to(device)\n",
    "\n",
    "        # zero the parameter gradients\n",
    "        optimizer.zero_grad()\n",
    "\n",
    "        # forward + backward + optimize\n",
    "        output = AlexNet(inputs)\n",
    "        loss = criterion(output, labels)\n",
    "        loss.backward()\n",
    "        optimizer.step()\n",
    "\n",
    "        # print statistics\n",
    "        running_loss += loss.item()\n",
    "        if i % 275 == 274:    # print every 1000 mini-batches\n",
    "            correct_train = 0\n",
    "            total_train = 0\n",
    "            _, predicted = torch.max(output.data, 1)\n",
    "            total_train += labels.size(0)\n",
    "            correct_train += (predicted == labels).sum().item()\n",
    "            acc_train = 100 * correct_train/total_train\n",
    "            running_loss = 0.0\n",
    "            print ('Epoch [{}/{}], Step [{}/{}], Accuracy: {}%, Loss: {:.4f}'.format(epoch+1, num_epoch, i+1, total_step, acc_train, loss.item()))\n",
    "    \n",
    "    correct = 0\n",
    "    total = 0\n",
    "    AlexNet.eval()\n",
    "    total_loss_per_epoch = 0\n",
    "    with torch.no_grad():\n",
    "        for i, data in enumerate(valid_dl):\n",
    "            images_valid, labels_valid = data[0].to(device), data[1].to(device)\n",
    "            outputs_valid = AlexNet(images_valid)\n",
    "            loss_valid = criterion(outputs_valid, labels_valid)\n",
    "            total_loss_per_epoch += loss_valid.item()\n",
    "            _, predicted = torch.max(outputs_valid.data, 1)\n",
    "            total += labels_valid.size(0)\n",
    "            correct += (predicted == labels_valid).sum().item()\n",
    "            acc_valid = 100 * correct / total\n",
    "        loss_per_epoch = total_loss_per_epoch/i    \n",
    "        print('Accuracy: %.2f %%' % (100 * correct / total))\n",
    "        print(loss_per_epoch)\n",
    "        \n",
    "        List_acc_valid.append(acc_valid)\n",
    "        List_acc_train.append(acc_train)\n",
    "        List_loss_valid.append(loss_valid.item())\n",
    "        List_loss_train.append(loss.item()) \n",
    "print('Finished Training of AlexNet')"
   ]
  },
  {
   "cell_type": "code",
   "execution_count": 10,
   "id": "3196cab4",
   "metadata": {
    "ExecuteTime": {
     "end_time": "2021-09-27T08:44:42.825424Z",
     "start_time": "2021-09-27T08:44:42.541360Z"
    }
   },
   "outputs": [],
   "source": [
    "dataiter = iter(train_dl)\n",
    "images, labels = dataiter.next()\n",
    "classes = ('Apple___Apple_scab', 'Apple___Black_rot', 'Apple___Cedar_apple_rust', 'Apple___healthy', 'Blueberry___healthy', 'Cherry_(including_sour)___healthy', 'Cherry_(including_sour)___Powdery_mildew', 'Corn_(maize)___Cercospora_leaf_spot Gray_leaf_spot', 'Corn_(maize)___Common_rust_', 'Corn_(maize)___healthy', 'Corn_(maize)___Northern_Leaf_Blight', 'Grape___Black_rot', 'Grape___Esca_(Black_Measles)', 'Grape___healthy', 'Grape___Leaf_blight_(Isariopsis_Leaf_Spot)', 'Orange___Haunglongbing_(Citrus_greening)', 'Peach___Bacterial_spot', 'Peach___healthy', 'Pepper,_bell___Bacterial_spot', 'Pepper,_bell___healthy', 'Potato___Early_blight', 'Potato___healthy', 'Potato___Late_blight', 'Raspberry___healthy', 'Soybean___healthy', 'Squash___Powdery_mildew', 'Strawberry___healthy', 'Strawberry___Leaf_scorch', 'Tomato___Bacterial_spot', 'Tomato___Early_blight', 'Tomato___healthy', 'Tomato___Late_blight', 'Tomato___Leaf_Mold', 'Tomato___Septoria_leaf_spot', 'Tomato___Spider_mites Two-spotted_spider_mite', 'Tomato___Target_Spot', 'Tomato___Tomato_mosaic_virus', 'Tomato___Tomato_Yellow_Leaf_Curl_Virus')"
   ]
  },
  {
   "cell_type": "code",
   "execution_count": 12,
   "id": "697b4d59",
   "metadata": {
    "ExecuteTime": {
     "end_time": "2021-09-27T12:14:34.953693Z",
     "start_time": "2021-09-27T12:13:56.091912Z"
    }
   },
   "outputs": [
    {
     "name": "stdout",
     "output_type": "stream",
     "text": [
      "Accuracy of Apple___Apple_scab : 100 %\n",
      "Accuracy of Apple___Black_rot : 99 %\n",
      "Accuracy of Apple___Cedar_apple_rust : 96 %\n",
      "Accuracy of Apple___healthy : 98 %\n",
      "Accuracy of Blueberry___healthy : 96 %\n",
      "Accuracy of Cherry_(including_sour)___healthy : 98 %\n",
      "Accuracy of Cherry_(including_sour)___Powdery_mildew : 100 %\n",
      "Accuracy of Corn_(maize)___Cercospora_leaf_spot Gray_leaf_spot : 85 %\n",
      "Accuracy of Corn_(maize)___Common_rust_ : 97 %\n",
      "Accuracy of Corn_(maize)___healthy : 96 %\n",
      "Accuracy of Corn_(maize)___Northern_Leaf_Blight : 100 %\n",
      "Accuracy of Grape___Black_rot : 97 %\n",
      "Accuracy of Grape___Esca_(Black_Measles) : 99 %\n",
      "Accuracy of Grape___healthy : 100 %\n",
      "Accuracy of Grape___Leaf_blight_(Isariopsis_Leaf_Spot) : 100 %\n",
      "Accuracy of Orange___Haunglongbing_(Citrus_greening) : 100 %\n",
      "Accuracy of Peach___Bacterial_spot : 92 %\n",
      "Accuracy of Peach___healthy : 100 %\n",
      "Accuracy of Pepper,_bell___Bacterial_spot : 98 %\n",
      "Accuracy of Pepper,_bell___healthy : 88 %\n",
      "Accuracy of Potato___Early_blight : 100 %\n",
      "Accuracy of Potato___healthy : 97 %\n",
      "Accuracy of Potato___Late_blight : 97 %\n",
      "Accuracy of Raspberry___healthy : 100 %\n",
      "Accuracy of Soybean___healthy : 99 %\n",
      "Accuracy of Squash___Powdery_mildew : 99 %\n",
      "Accuracy of Strawberry___healthy : 97 %\n",
      "Accuracy of Strawberry___Leaf_scorch : 99 %\n",
      "Accuracy of Tomato___Bacterial_spot : 95 %\n",
      "Accuracy of Tomato___Early_blight : 95 %\n",
      "Accuracy of Tomato___healthy : 91 %\n",
      "Accuracy of Tomato___Late_blight : 94 %\n",
      "Accuracy of Tomato___Leaf_Mold : 96 %\n",
      "Accuracy of Tomato___Septoria_leaf_spot : 96 %\n",
      "Accuracy of Tomato___Spider_mites Two-spotted_spider_mite : 92 %\n",
      "Accuracy of Tomato___Target_Spot : 100 %\n",
      "Accuracy of Tomato___Tomato_mosaic_virus : 100 %\n",
      "Accuracy of Tomato___Tomato_Yellow_Leaf_Curl_Virus : 97 %\n"
     ]
    }
   ],
   "source": [
    "class_correct = list(0. for i in range(38))\n",
    "class_total = list(0. for i in range(38))\n",
    "with torch.no_grad():\n",
    "    for data in valid_dl:\n",
    "        images, labels = data[0].to(device), data[1].to(device)\n",
    "        outputs = AlexNet(images)\n",
    "        _, predicted = torch.max(outputs, 1)\n",
    "        c = (predicted == labels).squeeze()\n",
    "        for i in range(36):\n",
    "            label = labels[i]\n",
    "            class_correct[label] += c[i].item()\n",
    "            class_total[label] += 1\n",
    "            \n",
    "\n",
    "\n",
    "for i in range(38):\n",
    "    print('Accuracy of %5s : %2d %%' % (\n",
    "        classes[i], 100 * class_correct[i] / class_total[i]))"
   ]
  },
  {
   "cell_type": "code",
   "execution_count": 15,
   "id": "d72154d2",
   "metadata": {
    "ExecuteTime": {
     "end_time": "2021-09-27T12:20:31.251143Z",
     "start_time": "2021-09-27T12:20:30.913067Z"
    }
   },
   "outputs": [],
   "source": [
    "PATH = './plant38_AlexNet_full.pth'\n",
    "torch.save(AlexNet, PATH)"
   ]
  },
  {
   "cell_type": "code",
   "execution_count": 13,
   "id": "fd7fd80c",
   "metadata": {
    "ExecuteTime": {
     "end_time": "2021-09-27T12:20:19.983594Z",
     "start_time": "2021-09-27T12:20:19.684527Z"
    }
   },
   "outputs": [
    {
     "name": "stdout",
     "output_type": "stream",
     "text": [
      "\u001b[1m Accuracy for train dataset:100.00%\u001b[0m\n",
      "\u001b[1m Accuracy for valid dataset:97.24%\u001b[0m\n",
      "\n",
      "\n"
     ]
    },
    {
     "data": {
      "image/png": "[encoded data removed]",
      "text/plain": [
       "<Figure size 1080x504 with 2 Axes>"
      ]
     },
     "metadata": {
      "needs_background": "light"
     },
     "output_type": "display_data"
    }
   ],
   "source": [
    "\n",
    "print('\\033[1m Accuracy for train dataset:{:.2f}%\\033[0m'.format(List_acc_train[-1]))\n",
    "print('\\033[1m Accuracy for valid dataset:{:.2f}%\\033[0m'.format(List_acc_valid[-1]))\n",
    "print('\\n')\n",
    "\n",
    "plt.figure(figsize=(15,7))\n",
    "plt.subplot(121)\n",
    "plt.plot(List_acc_train,\"royalblue\",linewidth=2)\n",
    "plt.plot(List_acc_valid,\"tomato\",linewidth=2)\n",
    "plt.title('Model accuracy per epoch',fontsize=16)\n",
    "plt.ylabel('accuracy',fontsize=14)\n",
    "plt.xlabel('epoch',fontsize=14)\n",
    "plt.legend(['train', 'valid'], loc='right',fontsize=14)\n",
    "\n",
    "plt.subplot(122)\n",
    "plt.plot(List_loss_train,\"royalblue\",linewidth=2)\n",
    "plt.plot(List_loss_valid,\"tomato\",linewidth=2)\n",
    "plt.title('Model loss per epoch',fontsize=16)\n",
    "plt.ylabel('loss',fontsize=14)\n",
    "plt.xlabel('epoch',fontsize=14)\n",
    "plt.legend(['train', 'valid'], loc='right',fontsize=14)\n",
    "plt.show()"
   ]
  },
  {
   "cell_type": "code",
   "execution_count": 1,
   "id": "aa0d49ce",
   "metadata": {
    "ExecuteTime": {
     "end_time": "2021-09-27T19:25:32.011042Z",
     "start_time": "2021-09-27T19:25:31.865009Z"
    }
   },
   "outputs": [
    {
     "ename": "NameError",
     "evalue": "name 'torch' is not defined",
     "output_type": "error",
     "traceback": [
      "\u001b[1;31m---------------------------------------------------------------------------\u001b[0m",
      "\u001b[1;31mNameError\u001b[0m                                 Traceback (most recent call last)",
      "\u001b[1;32m~\\AppData\\Local\\Temp/ipykernel_752/3641539434.py\u001b[0m in \u001b[0;36m<module>\u001b[1;34m\u001b[0m\n\u001b[0;32m      1\u001b[0m \u001b[0mPATH\u001b[0m \u001b[1;33m=\u001b[0m \u001b[1;34m'./plant38_AlexNet_full.pth'\u001b[0m\u001b[1;33m\u001b[0m\u001b[1;33m\u001b[0m\u001b[0m\n\u001b[1;32m----> 2\u001b[1;33m \u001b[0mmodel\u001b[0m \u001b[1;33m=\u001b[0m \u001b[0mtorch\u001b[0m\u001b[1;33m.\u001b[0m\u001b[0mload\u001b[0m\u001b[1;33m(\u001b[0m\u001b[0mPATH\u001b[0m\u001b[1;33m)\u001b[0m\u001b[1;33m\u001b[0m\u001b[1;33m\u001b[0m\u001b[0m\n\u001b[0m",
      "\u001b[1;31mNameError\u001b[0m: name 'torch' is not defined"
     ]
    }
   ],
   "source": [
    "PATH = './plant38_AlexNet_full.pth'\n",
    "model = torch.load(PATH)"
   ]
  },
  {
   "cell_type": "code",
   "execution_count": null,
   "id": "736a68fe",
   "metadata": {},
   "outputs": [],
   "source": []
  }
 ],
 "metadata": {
  "kernelspec": {
   "display_name": "Python 3 (ipykernel)",
   "language": "python",
   "name": "python3"
  },
  "language_info": {
   "codemirror_mode": {
    "name": "ipython",
    "version": 3
   },
   "file_extension": ".py",
   "mimetype": "text/x-python",
   "name": "python",
   "nbconvert_exporter": "python",
   "pygments_lexer": "ipython3",
   "version": "3.8.11"
  }
 },
 "nbformat": 4,
 "nbformat_minor": 5
}

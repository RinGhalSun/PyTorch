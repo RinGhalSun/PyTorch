{
 "cells": [
  {
   "cell_type": "markdown",
   "id": "9c285d45",
   "metadata": {},
   "source": [
    "# 多个输入和输出通道 Channels\n",
    "### 多个输入通道\n",
    "* 彩色图像可能有RGB三个通道\n",
    "* 转换为灰度会丢失信息\n",
    "* 每个通道都有一个卷积核,结果就是所有通道卷积结果的和\n",
    "![多通道](pic/2101.svg)"
   ]
  },
  {
   "cell_type": "code",
   "execution_count": null,
   "id": "0a1ba548",
   "metadata": {},
   "outputs": [],
   "source": []
  }
 ],
 "metadata": {
  "kernelspec": {
   "display_name": "Python 3 (ipykernel)",
   "language": "python",
   "name": "python3"
  },
  "language_info": {
   "codemirror_mode": {
    "name": "ipython",
    "version": 3
   },
   "file_extension": ".py",
   "mimetype": "text/x-python",
   "name": "python",
   "nbconvert_exporter": "python",
   "pygments_lexer": "ipython3",
   "version": "3.8.11"
  }
 },
 "nbformat": 4,
 "nbformat_minor": 5
}

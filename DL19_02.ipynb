{
 "cells": [
  {
   "cell_type": "markdown",
   "id": "4912f13d",
   "metadata": {},
   "source": [
    "# 卷积层\n",
    "### 二维交叉相关\n",
    "![1901](pic/1901.png)\n",
    "![1902](pic/1902.png)\n",
    "\n",
    "### 二维卷积层\n",
    "* 输入$\\mathsf{X}:n_h  \\times  n_w$\n",
    "* 核$\\mathsf{W}:k_h\\times k_w$\n",
    "* 偏差$b \\in \\mathbb{R}$\n",
    "* 输出$\\mathsf{Y}:\\left( n_h - k_h + 1 \\right) \\times (n_w -k_w +1)$\n",
    "$$\\mathsf{Y} = \\mathsf{X} \\star \\mathsf{W} + b$$\n",
    "* $\\mathsf{W}$和$\\mathsf{b}$是可学习的参数\n",
    "\n",
    "### 交叉相关和卷积\n",
    "* 二维交叉相关\n",
    "$$y_{i,j} = \\sum^{h}_{a=1}\\sum^{w}_{b=1}w_{a,b}x{i+a,j+b}$$\n",
    "* 二维卷积\n",
    "$$y_{i,j} = \\sum^{h}_{a=1}\\sum^{w}_{b=1}w_{-a,-b}x{i+a,j+b}$$\n",
    "* 由于对称性,在实际使用中没有区别\n",
    "\n",
    "### 一维与三维交叉相关\n",
    "* 一维: 文本,语言,时序序列\n",
    "$$y_i = \\sum^{h}_{a=1}w_ax_{i+a} $$\n",
    "* 三维: 视频,医学图像,气象地图\n",
    "$$y_{i,j,k}=\\sum^h_{a=1}\\sum^w_{b=1}\\sum^d_{c=1}w_{a,b,c}x_{i+a,j+b,k+c}$$"
   ]
  },
  {
   "cell_type": "markdown",
   "id": "56d7130a",
   "metadata": {},
   "source": [
    "## 总结\n",
    "* 卷积层将输入和核矩阵进行交叉相关,加上偏移吼得到输出\n",
    "* 核矩阵和偏移是可学习的参数\n",
    "* 核矩阵的大小是超参数"
   ]
  },
  {
   "cell_type": "code",
   "execution_count": null,
   "id": "7cbf1ba0",
   "metadata": {},
   "outputs": [],
   "source": []
  }
 ],
 "metadata": {
  "kernelspec": {
   "display_name": "Python 3 (ipykernel)",
   "language": "python",
   "name": "python3"
  },
  "language_info": {
   "codemirror_mode": {
    "name": "ipython",
    "version": 3
   },
   "file_extension": ".py",
   "mimetype": "text/x-python",
   "name": "python",
   "nbconvert_exporter": "python",
   "pygments_lexer": "ipython3",
   "version": "3.8.11"
  }
 },
 "nbformat": 4,
 "nbformat_minor": 5
}

{
 "cells": [
  {
   "cell_type": "markdown",
   "id": "250495a8",
   "metadata": {},
   "source": [
    "# 权重衰退 Weight Decay\n",
    "### 使用均方范数作为硬性限制\n",
    "* 通过限制参数值的选择方位来控制模型容量\n",
    "![模型容量](pic/1201.png)\n",
    "    * 通常不会限制偏移b\n",
    "    * 小的限制意味着更强的正则项\n",
    "### 使用均方范数作为柔性限制\n",
    "* 对于每个$\\theta$,都可以找到$\\lambda$使得之前的目标函数等价于下面\n",
    "![柔性](pic/1202.png)\n",
    "    * 可以通过拉格朗日乘子来证明\n",
    "* 超参数$\\lambda$控制了正则项的重要程度\n",
    "    * $\\lambda = 0$: 无作用\n",
    "    * $\\lambda \\rightarrow \\infty, w^* \\rightarrow \\infty$"
   ]
  },
  {
   "cell_type": "markdown",
   "id": "9a343c72",
   "metadata": {},
   "source": [
    "### 演示对最优解的影响\n",
    "![最优解](pic/1203.png)\n",
    "![最优解](pic/1204.png)\n",
    "最优解的值向原点拉扯"
   ]
  },
  {
   "cell_type": "markdown",
   "id": "ff4acdc9",
   "metadata": {},
   "source": [
    "### 参数更新法则\n",
    "* 计算梯度:\n",
    "![梯度计算](pic/1205.png)\n",
    "* 时间t更新参数\n",
    "![时间t更新参数](pic/1206.png)\n",
    "    * 通常$\\eta \\lambda < 1$,在深度学习中通常叫做权重衰退"
   ]
  },
  {
   "cell_type": "markdown",
   "id": "e87c8fb8",
   "metadata": {},
   "source": [
    "## 总结\n",
    "* 权重衰退通过L2正则项使得模型参数不会过大,从而控制模型负责度\n",
    "* 正则项权重是控制模型复杂度的超参数模型"
   ]
  }
 ],
 "metadata": {
  "kernelspec": {
   "display_name": "Python 3 (ipykernel)",
   "language": "python",
   "name": "python3"
  },
  "language_info": {
   "codemirror_mode": {
    "name": "ipython",
    "version": 3
   },
   "file_extension": ".py",
   "mimetype": "text/x-python",
   "name": "python",
   "nbconvert_exporter": "python",
   "pygments_lexer": "ipython3",
   "version": "3.8.11"
  }
 },
 "nbformat": 4,
 "nbformat_minor": 5
}

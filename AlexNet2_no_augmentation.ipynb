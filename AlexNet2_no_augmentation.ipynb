{
 "cells": [
  {
   "cell_type": "code",
   "execution_count": 1,
   "id": "fde1e96e",
   "metadata": {
    "ExecuteTime": {
     "end_time": "2021-09-28T07:57:41.566027Z",
     "start_time": "2021-09-28T07:57:40.670825Z"
    }
   },
   "outputs": [],
   "source": [
    "import os\n",
    "import torch\n",
    "import matplotlib.pyplot as plt\n",
    "import torch.nn as nn\n",
    "from torch.utils.data import DataLoader\n",
    "from PIL import Image\n",
    "import torch.nn.functional as F\n",
    "import torchvision.transforms as transforms\n",
    "from torchvision.datasets import ImageFolder  \n",
    "%matplotlib inline"
   ]
  },
  {
   "cell_type": "code",
   "execution_count": 2,
   "id": "8bb3d2bf",
   "metadata": {
    "ExecuteTime": {
     "end_time": "2021-09-28T07:57:41.582030Z",
     "start_time": "2021-09-28T07:57:41.568027Z"
    }
   },
   "outputs": [
    {
     "name": "stdout",
     "output_type": "stream",
     "text": [
      "['Healthy', 'Powdery', 'Rust']\n",
      "3\n"
     ]
    }
   ],
   "source": [
    "data_dir = \"../input/plant disease regonition\"\n",
    "train_dir = data_dir + \"/train\"\n",
    "valid_dir = data_dir + \"/valid\"\n",
    "diseases = os.listdir(train_dir)\n",
    "print(diseases)\n",
    "print(len(diseases))"
   ]
  },
  {
   "cell_type": "code",
   "execution_count": 3,
   "id": "8c5b2aaf",
   "metadata": {
    "ExecuteTime": {
     "end_time": "2021-09-28T07:57:41.598034Z",
     "start_time": "2021-09-28T07:57:41.583031Z"
    }
   },
   "outputs": [],
   "source": [
    "transform= transforms.Compose([\n",
    "    transforms.Resize(256),\n",
    "    transforms.CenterCrop(224),\n",
    "    transforms.ToTensor()\n",
    "])"
   ]
  },
  {
   "cell_type": "code",
   "execution_count": 4,
   "id": "90d32644",
   "metadata": {
    "ExecuteTime": {
     "end_time": "2021-09-28T07:57:41.614037Z",
     "start_time": "2021-09-28T07:57:41.600034Z"
    }
   },
   "outputs": [],
   "source": [
    "batch_size = 64\n",
    "train = ImageFolder(train_dir, transform=transform)\n",
    "valid = ImageFolder(valid_dir, transform=transform) \n",
    "train_dl = DataLoader(train, batch_size, shuffle=True, num_workers=0, pin_memory=True)\n",
    "valid_dl = DataLoader(valid, batch_size, num_workers=0, pin_memory=True)"
   ]
  },
  {
   "cell_type": "code",
   "execution_count": 5,
   "id": "80516a67",
   "metadata": {
    "ExecuteTime": {
     "end_time": "2021-09-28T07:57:42.983345Z",
     "start_time": "2021-09-28T07:57:41.615038Z"
    }
   },
   "outputs": [],
   "source": [
    "AlexNet = nn.Sequential(\n",
    "    # 这里，我们使Q用一个11*11的更大窗口来捕捉对象。\n",
    "    # 同时，步幅为4，以减少输出的高度和宽度。\n",
    "    # 另外，输出通道的数目远大于LeNet\n",
    "    nn.Conv2d(3, 64, kernel_size=11, stride=4, padding=2), nn.ReLU(),\n",
    "    nn.MaxPool2d(kernel_size=3, stride=2),\n",
    "    # 减小卷积窗口，使用填充为2来使得输入与输出的高和宽一致，且增大输出通道数\n",
    "    nn.Conv2d(64, 192, kernel_size=5, padding=2), nn.ReLU(),\n",
    "    nn.MaxPool2d(kernel_size=3, stride=2),\n",
    "    # 使用三个连续的卷积层和较小的卷积窗口。\n",
    "    # 除了最后的卷积层，输出通道的数量进一步增加。\n",
    "    # 在前两个卷积层之后，汇聚层不用于减少输入的高度和宽度\n",
    "    nn.Conv2d(192, 384, kernel_size=3, padding=1), nn.ReLU(),\n",
    "    nn.Conv2d(384, 256, kernel_size=3, padding=1), nn.ReLU(),\n",
    "    nn.Conv2d(256, 256, kernel_size=3, padding=1), nn.ReLU(),\n",
    "    nn.MaxPool2d(kernel_size=3, stride=2),\n",
    "    nn.Flatten(),\n",
    "    # 这里，全连接层的输出数量是LeNet中的好几倍。使用dropout层来减轻过度拟合\n",
    "    nn.Linear(9216, 2048), nn.ReLU(),\n",
    "    nn.Dropout(p=0.5),\n",
    "    nn.Linear(2048, 512), nn.ReLU(),\n",
    "    nn.Dropout(p=0.5),\n",
    "    # 最后是输出层。由于这里使用Fashion-MNIST，所以用类别数为10，而非论文中的1000\n",
    "    nn.Linear(512, 3)).cuda()"
   ]
  },
  {
   "cell_type": "code",
   "execution_count": 6,
   "id": "8b8a9837",
   "metadata": {
    "ExecuteTime": {
     "end_time": "2021-09-28T07:57:42.999349Z",
     "start_time": "2021-09-28T07:57:42.984346Z"
    }
   },
   "outputs": [
    {
     "data": {
      "text/plain": [
       "device(type='cuda', index=0)"
      ]
     },
     "execution_count": 6,
     "metadata": {},
     "output_type": "execute_result"
    }
   ],
   "source": [
    "device = torch.device('cuda:0')\n",
    "device"
   ]
  },
  {
   "cell_type": "code",
   "execution_count": 7,
   "id": "654169bb",
   "metadata": {
    "ExecuteTime": {
     "end_time": "2021-09-28T07:57:43.015353Z",
     "start_time": "2021-09-28T07:57:43.000350Z"
    }
   },
   "outputs": [],
   "source": [
    "import torch.optim as optim\n",
    "\n",
    "criterion = nn.CrossEntropyLoss()\n",
    "optimizer = optim.SGD(AlexNet.parameters(), lr=0.01, momentum=0.9)"
   ]
  },
  {
   "cell_type": "code",
   "execution_count": 8,
   "id": "cbded9cb",
   "metadata": {
    "ExecuteTime": {
     "end_time": "2021-09-28T09:01:37.986772Z",
     "start_time": "2021-09-28T07:57:43.016353Z"
    }
   },
   "outputs": [
    {
     "name": "stderr",
     "output_type": "stream",
     "text": [
      "C:\\Users\\Yueqiao\\anaconda3\\envs\\ttorch\\lib\\site-packages\\torch\\nn\\functional.py:718: UserWarning: Named tensors and all their associated APIs are an experimental feature and subject to change. Please do not use them for anything important until they are released as stable. (Triggered internally at  ..\\c10/core/TensorImpl.h:1156.)\n",
      "  return torch.max_pool2d(input, kernel_size, stride, padding, dilation, ceil_mode)\n"
     ]
    },
    {
     "name": "stdout",
     "output_type": "stream",
     "text": [
      "Epoch [1/20], Step [7/21], Accuracy: 29.6875%, Loss: 1.0986\n",
      "Epoch [1/20], Step [14/21], Accuracy: 43.75%, Loss: 1.0994\n",
      "Epoch [1/20], Step [21/21], Accuracy: 38.095238095238095%, Loss: 1.0991\n",
      "Epoch [2/20], Step [7/21], Accuracy: 37.5%, Loss: 1.0962\n",
      "Epoch [2/20], Step [14/21], Accuracy: 35.9375%, Loss: 1.1000\n",
      "Epoch [2/20], Step [21/21], Accuracy: 40.476190476190474%, Loss: 1.0952\n",
      "Epoch [3/20], Step [7/21], Accuracy: 31.25%, Loss: 1.1025\n",
      "Epoch [3/20], Step [14/21], Accuracy: 26.5625%, Loss: 1.1040\n",
      "Epoch [3/20], Step [21/21], Accuracy: 38.095238095238095%, Loss: 1.0945\n",
      "Epoch [4/20], Step [7/21], Accuracy: 32.8125%, Loss: 1.0988\n",
      "Epoch [4/20], Step [14/21], Accuracy: 51.5625%, Loss: 1.0925\n",
      "Epoch [4/20], Step [21/21], Accuracy: 30.952380952380953%, Loss: 1.0986\n",
      "Epoch [5/20], Step [7/21], Accuracy: 43.75%, Loss: 1.0948\n",
      "Epoch [5/20], Step [14/21], Accuracy: 31.25%, Loss: 1.0973\n",
      "Epoch [5/20], Step [21/21], Accuracy: 30.952380952380953%, Loss: 1.1009\n",
      "Epoch [6/20], Step [7/21], Accuracy: 31.25%, Loss: 1.1009\n",
      "Epoch [6/20], Step [14/21], Accuracy: 40.625%, Loss: 1.0928\n",
      "Epoch [6/20], Step [21/21], Accuracy: 28.571428571428573%, Loss: 1.1016\n",
      "Epoch [7/20], Step [7/21], Accuracy: 32.8125%, Loss: 1.0948\n",
      "Epoch [7/20], Step [14/21], Accuracy: 34.375%, Loss: 1.0948\n",
      "Epoch [7/20], Step [21/21], Accuracy: 33.333333333333336%, Loss: 1.0951\n",
      "Epoch [8/20], Step [7/21], Accuracy: 29.6875%, Loss: 1.0960\n",
      "Epoch [8/20], Step [14/21], Accuracy: 39.0625%, Loss: 1.0891\n",
      "Epoch [8/20], Step [21/21], Accuracy: 45.23809523809524%, Loss: 1.0839\n",
      "Epoch [9/20], Step [7/21], Accuracy: 42.1875%, Loss: 1.0791\n",
      "Epoch [9/20], Step [14/21], Accuracy: 53.125%, Loss: 1.0728\n",
      "Epoch [9/20], Step [21/21], Accuracy: 69.04761904761905%, Loss: 1.0448\n",
      "Epoch [10/20], Step [7/21], Accuracy: 60.9375%, Loss: 1.0077\n",
      "Epoch [10/20], Step [14/21], Accuracy: 43.75%, Loss: 1.0118\n",
      "Epoch [10/20], Step [21/21], Accuracy: 33.333333333333336%, Loss: 1.1323\n",
      "Epoch [11/20], Step [7/21], Accuracy: 28.125%, Loss: 1.0996\n",
      "Epoch [11/20], Step [14/21], Accuracy: 39.0625%, Loss: 1.0986\n",
      "Epoch [11/20], Step [21/21], Accuracy: 35.714285714285715%, Loss: 1.0994\n",
      "Epoch [12/20], Step [7/21], Accuracy: 34.375%, Loss: 1.0988\n",
      "Epoch [12/20], Step [14/21], Accuracy: 42.1875%, Loss: 1.0973\n",
      "Epoch [12/20], Step [21/21], Accuracy: 35.714285714285715%, Loss: 1.0964\n",
      "Epoch [13/20], Step [7/21], Accuracy: 39.0625%, Loss: 1.0945\n",
      "Epoch [13/20], Step [14/21], Accuracy: 26.5625%, Loss: 1.1009\n",
      "Epoch [13/20], Step [21/21], Accuracy: 50.0%, Loss: 1.0909\n",
      "Epoch [14/20], Step [7/21], Accuracy: 39.0625%, Loss: 1.0954\n",
      "Epoch [14/20], Step [14/21], Accuracy: 31.25%, Loss: 1.0976\n",
      "Epoch [14/20], Step [21/21], Accuracy: 42.857142857142854%, Loss: 1.0908\n",
      "Epoch [15/20], Step [7/21], Accuracy: 32.8125%, Loss: 1.1013\n",
      "Epoch [15/20], Step [14/21], Accuracy: 26.5625%, Loss: 1.1025\n",
      "Epoch [15/20], Step [21/21], Accuracy: 28.571428571428573%, Loss: 1.0968\n",
      "Epoch [16/20], Step [7/21], Accuracy: 42.1875%, Loss: 1.0853\n",
      "Epoch [16/20], Step [14/21], Accuracy: 43.75%, Loss: 1.0825\n",
      "Epoch [16/20], Step [21/21], Accuracy: 61.904761904761905%, Loss: 1.0765\n",
      "Epoch [17/20], Step [7/21], Accuracy: 50.0%, Loss: 1.0761\n",
      "Epoch [17/20], Step [14/21], Accuracy: 53.125%, Loss: 1.0604\n",
      "Epoch [17/20], Step [21/21], Accuracy: 59.523809523809526%, Loss: 1.0122\n",
      "Epoch [18/20], Step [7/21], Accuracy: 60.9375%, Loss: 0.9554\n",
      "Epoch [18/20], Step [14/21], Accuracy: 67.1875%, Loss: 0.8172\n",
      "Epoch [18/20], Step [21/21], Accuracy: 54.76190476190476%, Loss: 0.8803\n",
      "Epoch [19/20], Step [7/21], Accuracy: 62.5%, Loss: 0.8514\n",
      "Epoch [19/20], Step [14/21], Accuracy: 50.0%, Loss: 0.8622\n",
      "Epoch [19/20], Step [21/21], Accuracy: 61.904761904761905%, Loss: 0.7676\n",
      "Epoch [20/20], Step [7/21], Accuracy: 59.375%, Loss: 0.7347\n",
      "Epoch [20/20], Step [14/21], Accuracy: 59.375%, Loss: 0.8184\n",
      "Epoch [20/20], Step [21/21], Accuracy: 50.0%, Loss: 0.9073\n",
      "Finished Training of AlexNet\n"
     ]
    }
   ],
   "source": [
    "total_step = len(train_dl)\n",
    "num_epoch = 20\n",
    "List_acc_valid=[]\n",
    "List_acc_train=[]  \n",
    "List_loss_valid=[]\n",
    "List_loss_train=[]\n",
    "for epoch in range(num_epoch):  # loop over the dataset multiple times\n",
    "\n",
    "    running_loss = 0.0\n",
    "    AlexNet.train()\n",
    "    for i, data in enumerate(train_dl, 0):\n",
    "        # get the inputs; data is a list of [inputs, labels]\n",
    "        inputs, labels = data[0].to(device), data[1].to(device)\n",
    "\n",
    "        # zero the parameter gradients\n",
    "        optimizer.zero_grad()\n",
    "\n",
    "        # forward + backward + optimize\n",
    "        output = AlexNet(inputs)\n",
    "        loss = criterion(output, labels)\n",
    "        loss.backward()\n",
    "        optimizer.step()\n",
    "\n",
    "        # print statistics\n",
    "        running_loss += loss.item()\n",
    "        if i % 7 == 6:    # print every 1000 mini-batches\n",
    "            correct_train = 0\n",
    "            total_train = 0\n",
    "            _, predicted = torch.max(output.data, 1)\n",
    "            total_train += labels.size(0)\n",
    "            correct_train += (predicted == labels).sum().item()\n",
    "            acc_train = 100 * correct_train/total_train\n",
    "            running_loss = 0.0\n",
    "            print ('Epoch [{}/{}], Step [{}/{}], Accuracy: {}%, Loss: {:.4f}'.format(epoch+1, num_epoch, i+1, total_step, acc_train, loss.item()))\n",
    "    \n",
    "print('Finished Training of AlexNet')"
   ]
  },
  {
   "cell_type": "code",
   "execution_count": 10,
   "id": "0f3a3584",
   "metadata": {
    "ExecuteTime": {
     "end_time": "2021-09-28T14:07:56.146627Z",
     "start_time": "2021-09-28T14:07:55.829564Z"
    }
   },
   "outputs": [],
   "source": [
    "PATH = './plant3_AlexNet_full_no_augment.pth'\n",
    "torch.save(AlexNet, PATH)"
   ]
  },
  {
   "cell_type": "code",
   "execution_count": 11,
   "id": "4a542bce",
   "metadata": {
    "ExecuteTime": {
     "end_time": "2021-09-28T14:08:23.757795Z",
     "start_time": "2021-09-28T14:08:14.332672Z"
    }
   },
   "outputs": [],
   "source": [
    "dataiter = iter(train_dl)\n",
    "images, labels = dataiter.next()\n",
    "classes = ('Healthy', 'Powdery', 'Rust')"
   ]
  },
  {
   "cell_type": "code",
   "execution_count": 12,
   "id": "c0ad68a0",
   "metadata": {
    "ExecuteTime": {
     "end_time": "2021-09-28T14:08:48.480324Z",
     "start_time": "2021-09-28T14:08:26.458366Z"
    }
   },
   "outputs": [
    {
     "name": "stdout",
     "output_type": "stream",
     "text": [
      "Accuracy: 56.67 %\n"
     ]
    }
   ],
   "source": [
    "correct = 0\n",
    "total = 0\n",
    "with torch.no_grad():\n",
    "    for data in valid_dl:\n",
    "        images, labels = data[0].to(device), data[1].to(device)\n",
    "        outputs = AlexNet(images)\n",
    "        _, predicted = torch.max(outputs.data, 1)\n",
    "        total += labels.size(0)\n",
    "        correct += (predicted == labels).sum().item()\n",
    "\n",
    "print('Accuracy: %.2f %%' % (100 * correct / total))"
   ]
  },
  {
   "cell_type": "code",
   "execution_count": 13,
   "id": "337f1c99",
   "metadata": {
    "ExecuteTime": {
     "end_time": "2021-09-28T14:09:10.344246Z",
     "start_time": "2021-09-28T14:08:48.481324Z"
    }
   },
   "outputs": [
    {
     "name": "stdout",
     "output_type": "stream",
     "text": [
      "Accuracy of Healthy : 50 %\n",
      "Accuracy of Powdery : 100 %\n",
      "Accuracy of  Rust :  9 %\n"
     ]
    }
   ],
   "source": [
    "class_correct = list(0. for i in range(3))\n",
    "class_total = list(0. for i in range(3))\n",
    "with torch.no_grad():\n",
    "    for data in valid_dl:\n",
    "        images, labels = data[0].to(device), data[1].to(device)\n",
    "        outputs = AlexNet(images)\n",
    "        _, predicted = torch.max(outputs, 1)\n",
    "        c = (predicted == labels).squeeze()\n",
    "        for i in range(22):\n",
    "            label = labels[i]\n",
    "            class_correct[label] += c[i].item()\n",
    "            class_total[label] += 1\n",
    "\n",
    "\n",
    "for i in range(3):\n",
    "    print('Accuracy of %5s : %2d %%' % (\n",
    "        classes[i], 100 * class_correct[i] / class_total[i]))"
   ]
  },
  {
   "cell_type": "code",
   "execution_count": null,
   "id": "785c9506",
   "metadata": {},
   "outputs": [],
   "source": []
  }
 ],
 "metadata": {
  "kernelspec": {
   "display_name": "Python 3 (ipykernel)",
   "language": "python",
   "name": "python3"
  },
  "language_info": {
   "codemirror_mode": {
    "name": "ipython",
    "version": 3
   },
   "file_extension": ".py",
   "mimetype": "text/x-python",
   "name": "python",
   "nbconvert_exporter": "python",
   "pygments_lexer": "ipython3",
   "version": "3.8.11"
  }
 },
 "nbformat": 4,
 "nbformat_minor": 5
}

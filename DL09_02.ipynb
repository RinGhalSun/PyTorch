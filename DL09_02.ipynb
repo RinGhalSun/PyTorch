{
 "cells": [
  {
   "attachments": {},
   "cell_type": "markdown",
   "id": "95c02ff9",
   "metadata": {},
   "source": [
    "# 损失函数\n",
    "### L2 Loss\n",
    "![0906](pic/0906.png)\n",
    "### L1 Loss\n",
    "![0906](pic/0907.png)\n",
    "### Huber's Robust Loss\n",
    "![0906](pic/0908.png)"
   ]
  },
  {
   "cell_type": "code",
   "execution_count": null,
   "id": "e84c4453",
   "metadata": {},
   "outputs": [],
   "source": []
  }
 ],
 "metadata": {
  "kernelspec": {
   "display_name": "Python 3 (ipykernel)",
   "language": "python",
   "name": "python3"
  },
  "language_info": {
   "codemirror_mode": {
    "name": "ipython",
    "version": 3
   },
   "file_extension": ".py",
   "mimetype": "text/x-python",
   "name": "python",
   "nbconvert_exporter": "python",
   "pygments_lexer": "ipython3",
   "version": "3.8.11"
  }
 },
 "nbformat": 4,
 "nbformat_minor": 5
}

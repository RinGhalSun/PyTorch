{
 "cells": [
  {
   "cell_type": "markdown",
   "id": "b948d09a",
   "metadata": {},
   "source": [
    "# 2.线性回归的简洁实现\n",
    "通过使用深度学习框架来简洁的实现线性回归模型生成数据集"
   ]
  },
  {
   "cell_type": "code",
   "execution_count": 6,
   "id": "af0efd99",
   "metadata": {},
   "outputs": [],
   "source": [
    "import numpy as np\n",
    "import torch\n",
    "from torch.utils import data\n",
    "from d2l import torch as d2l\n",
    "\n",
    "true_w = torch.tensor([2,-3.4])\n",
    "true_b = 4.2\n",
    "features, labels = d2l.synthetic_data(true_w, true_b, 1000)"
   ]
  },
  {
   "cell_type": "code",
   "execution_count": 18,
   "id": "ed965bdd",
   "metadata": {},
   "outputs": [
    {
     "data": {
      "text/plain": [
       "[tensor([[ 0.6607, -0.3790],\n",
       "         [-0.5338, -0.9895],\n",
       "         [ 0.1548, -0.2955],\n",
       "         [ 0.2551,  1.0463],\n",
       "         [ 1.4377,  0.5601],\n",
       "         [ 0.6007, -0.2934],\n",
       "         [-1.5218, -0.3433],\n",
       "         [ 0.8943,  0.2157],\n",
       "         [ 0.5965, -1.3689],\n",
       "         [-0.2993, -0.2647]]),\n",
       " tensor([[ 6.8150],\n",
       "         [ 6.4914],\n",
       "         [ 5.5141],\n",
       "         [ 1.1381],\n",
       "         [ 5.1764],\n",
       "         [ 6.4129],\n",
       "         [ 2.3276],\n",
       "         [ 5.2700],\n",
       "         [10.0435],\n",
       "         [ 4.5203]])]"
      ]
     },
     "execution_count": 18,
     "metadata": {},
     "output_type": "execute_result"
    }
   ],
   "source": [
    "def load_array(data_arrays, batch_size, is_train = True):\n",
    "    \"\"\"构造一个PyTorch数据迭代器\"\"\"\n",
    "    dataset = data.TensorDataset(*data_arrays)\n",
    "    return data.DataLoader(dataset, batch_size, shuffle = is_train)\n",
    "\n",
    "batch_size = 10\n",
    "data_iter = load_array((features, labels), batch_size)\n",
    "\n",
    "next(iter(data_iter))"
   ]
  },
  {
   "cell_type": "markdown",
   "id": "6cf80a5f",
   "metadata": {},
   "source": [
    "#### 使用框架的预定义好的层"
   ]
  },
  {
   "cell_type": "code",
   "execution_count": 19,
   "id": "7a469b2c",
   "metadata": {},
   "outputs": [],
   "source": [
    "# `nn`是neural network的缩写\n",
    "from torch import nn\n",
    "\n",
    "net = nn.Sequential(nn.Linear(2, 1))"
   ]
  },
  {
   "cell_type": "markdown",
   "id": "2d7aaadb",
   "metadata": {},
   "source": [
    "#### 初始化模型参数"
   ]
  },
  {
   "cell_type": "code",
   "execution_count": 24,
   "id": "51781e07",
   "metadata": {},
   "outputs": [
    {
     "data": {
      "text/plain": [
       "tensor([0.])"
      ]
     },
     "execution_count": 24,
     "metadata": {},
     "output_type": "execute_result"
    }
   ],
   "source": [
    "net[0].weight.data.normal_(0, 0.01)\n",
    "net[0].bias.data.fill_(0)"
   ]
  },
  {
   "cell_type": "markdown",
   "id": "143f9ea9",
   "metadata": {},
   "source": [
    "#### 计算均方误差使用的是`MSELoss`类,也称平方范数"
   ]
  },
  {
   "cell_type": "code",
   "execution_count": 25,
   "id": "d3e4678f",
   "metadata": {},
   "outputs": [],
   "source": [
    "loss = nn.MSELoss()"
   ]
  },
  {
   "cell_type": "markdown",
   "id": "c31caf7f",
   "metadata": {},
   "source": [
    "#### 实例化`SGD`实例"
   ]
  },
  {
   "cell_type": "code",
   "execution_count": 26,
   "id": "d58a1292",
   "metadata": {},
   "outputs": [],
   "source": [
    "trainer = torch.optim.SGD(net.parameters(), lr = 0.03)\n",
    "# net.parameters为所有参数包括w和b"
   ]
  },
  {
   "cell_type": "markdown",
   "id": "18e48aa1",
   "metadata": {},
   "source": [
    "#### 训练过程代码与我们从零开始实现是所做的非常类似"
   ]
  },
  {
   "cell_type": "code",
   "execution_count": 27,
   "id": "b67d9fec",
   "metadata": {},
   "outputs": [
    {
     "name": "stdout",
     "output_type": "stream",
     "text": [
      "epoch 1, loss 0.000331\n",
      "epoch 2, loss 0.000099\n",
      "epoch 3, loss 0.000098\n"
     ]
    }
   ],
   "source": [
    "num_epochs = 3\n",
    "for epoch in range(num_epochs):\n",
    "    for X, y in data_iter:\n",
    "        l = loss(net(X),y)\n",
    "        trainer.zero_grad()\n",
    "        l.backward()\n",
    "        trainer.step()\n",
    "        # 调用step函数对模型进行更新\n",
    "    l = loss(net(features), labels)\n",
    "    print(f'epoch {epoch + 1}, loss {l:f}')"
   ]
  },
  {
   "cell_type": "code",
   "execution_count": null,
   "id": "b75a6739",
   "metadata": {},
   "outputs": [],
   "source": []
  }
 ],
 "metadata": {
  "kernelspec": {
   "display_name": "Python 3 (ipykernel)",
   "language": "python",
   "name": "python3"
  },
  "language_info": {
   "codemirror_mode": {
    "name": "ipython",
    "version": 3
   },
   "file_extension": ".py",
   "mimetype": "text/x-python",
   "name": "python",
   "nbconvert_exporter": "python",
   "pygments_lexer": "ipython3",
   "version": "3.8.11"
  }
 },
 "nbformat": 4,
 "nbformat_minor": 5
}

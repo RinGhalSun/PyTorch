{
 "cells": [
  {
   "cell_type": "code",
   "execution_count": 1,
   "id": "142a9aff",
   "metadata": {
    "ExecuteTime": {
     "end_time": "2021-09-27T15:30:48.316277Z",
     "start_time": "2021-09-27T15:30:47.491090Z"
    }
   },
   "outputs": [],
   "source": [
    "import os\n",
    "import torch\n",
    "import matplotlib.pyplot as plt\n",
    "import torch.nn as nn\n",
    "from torch.utils.data import DataLoader\n",
    "from PIL import Image\n",
    "import torch.nn.functional as F\n",
    "import torchvision.transforms as transforms\n",
    "from torchvision.datasets import ImageFolder  \n",
    "from torchvision import models\n",
    "from torch import optim\n",
    "%matplotlib inline"
   ]
  },
  {
   "cell_type": "code",
   "execution_count": 2,
   "id": "eef00359",
   "metadata": {
    "ExecuteTime": {
     "end_time": "2021-09-27T15:30:48.332280Z",
     "start_time": "2021-09-27T15:30:48.317277Z"
    }
   },
   "outputs": [
    {
     "name": "stdout",
     "output_type": "stream",
     "text": [
      "['Apple___Apple_scab', 'Apple___Black_rot', 'Apple___Cedar_apple_rust', 'Apple___healthy', 'Blueberry___healthy', 'Cherry_(including_sour)___healthy', 'Cherry_(including_sour)___Powdery_mildew', 'Corn_(maize)___Cercospora_leaf_spot Gray_leaf_spot', 'Corn_(maize)___Common_rust_', 'Corn_(maize)___healthy', 'Corn_(maize)___Northern_Leaf_Blight', 'Grape___Black_rot', 'Grape___Esca_(Black_Measles)', 'Grape___healthy', 'Grape___Leaf_blight_(Isariopsis_Leaf_Spot)', 'Orange___Haunglongbing_(Citrus_greening)', 'Peach___Bacterial_spot', 'Peach___healthy', 'Pepper,_bell___Bacterial_spot', 'Pepper,_bell___healthy', 'Potato___Early_blight', 'Potato___healthy', 'Potato___Late_blight', 'Raspberry___healthy', 'Soybean___healthy', 'Squash___Powdery_mildew', 'Strawberry___healthy', 'Strawberry___Leaf_scorch', 'Tomato___Bacterial_spot', 'Tomato___Early_blight', 'Tomato___healthy', 'Tomato___Late_blight', 'Tomato___Leaf_Mold', 'Tomato___Septoria_leaf_spot', 'Tomato___Spider_mites Two-spotted_spider_mite', 'Tomato___Target_Spot', 'Tomato___Tomato_mosaic_virus', 'Tomato___Tomato_Yellow_Leaf_Curl_Virus']\n",
      "38\n"
     ]
    }
   ],
   "source": [
    "data_dir = \"../input/New Plant Diseases Dataset\"\n",
    "train_dir = data_dir + \"/train\"\n",
    "valid_dir = data_dir + \"/valid\"\n",
    "diseases = os.listdir(train_dir)\n",
    "print(diseases)\n",
    "print(len(diseases))"
   ]
  },
  {
   "cell_type": "code",
   "execution_count": 3,
   "id": "7b6cc642",
   "metadata": {
    "ExecuteTime": {
     "end_time": "2021-09-27T15:30:48.348287Z",
     "start_time": "2021-09-27T15:30:48.335281Z"
    }
   },
   "outputs": [],
   "source": [
    "transform= transforms.Compose([\n",
    "    transforms.Resize(256),\n",
    "    transforms.CenterCrop(224),\n",
    "    transforms.ToTensor(),\n",
    "    transforms.Normalize(mean=[0.485, 0.456, 0.406], std=[0.229, 0.224, 0.225]),\n",
    "])"
   ]
  },
  {
   "cell_type": "code",
   "execution_count": 4,
   "id": "afc1adde",
   "metadata": {
    "ExecuteTime": {
     "end_time": "2021-09-27T15:30:49.036450Z",
     "start_time": "2021-09-27T15:30:48.349287Z"
    }
   },
   "outputs": [],
   "source": [
    "batch_size = 128\n",
    "train = ImageFolder(train_dir, transform=transform)\n",
    "valid = ImageFolder(valid_dir, transform=transform) \n",
    "train_dl = DataLoader(train, batch_size, shuffle=True, num_workers=2, pin_memory=True)\n",
    "valid_dl = DataLoader(valid, batch_size, num_workers=2, pin_memory=True)"
   ]
  },
  {
   "cell_type": "code",
   "execution_count": 5,
   "id": "f7d48238",
   "metadata": {
    "ExecuteTime": {
     "end_time": "2021-09-27T15:30:49.914648Z",
     "start_time": "2021-09-27T15:30:49.037450Z"
    }
   },
   "outputs": [],
   "source": [
    "model = models.vgg16(pretrained=True)"
   ]
  },
  {
   "cell_type": "code",
   "execution_count": 6,
   "id": "0ab3376e",
   "metadata": {
    "ExecuteTime": {
     "end_time": "2021-09-27T15:30:50.394758Z",
     "start_time": "2021-09-27T15:30:49.915649Z"
    }
   },
   "outputs": [],
   "source": [
    "for param in model.parameters():\n",
    "    param.requires_grad = False\n",
    "\n",
    "classifier = nn.Sequential(nn.Linear(25088, 4096),\n",
    "                          nn.Dropout(p = 0.5),\n",
    "                          nn.BatchNorm1d(num_features=4096),\n",
    "                          nn.ReLU(),\n",
    "                          nn.Linear(4096, 1024),\n",
    "                          nn.Dropout(p = 0.5),\n",
    "                          nn.BatchNorm1d(num_features=1024),\n",
    "                          nn.ReLU(),\n",
    "                          nn.Linear(1024, 38))\n",
    "    \n",
    "model.classifier = classifier"
   ]
  },
  {
   "cell_type": "code",
   "execution_count": 7,
   "id": "68186278",
   "metadata": {
    "ExecuteTime": {
     "end_time": "2021-09-27T15:30:50.410761Z",
     "start_time": "2021-09-27T15:30:50.395758Z"
    }
   },
   "outputs": [
    {
     "data": {
      "text/plain": [
       "device(type='cuda', index=0)"
      ]
     },
     "execution_count": 7,
     "metadata": {},
     "output_type": "execute_result"
    }
   ],
   "source": [
    "learning_rate = 0.0001\n",
    "device = torch.device('cuda:0')\n",
    "device"
   ]
  },
  {
   "cell_type": "code",
   "execution_count": 8,
   "id": "77e19079",
   "metadata": {
    "ExecuteTime": {
     "end_time": "2021-09-27T15:30:50.426467Z",
     "start_time": "2021-09-27T15:30:50.411762Z"
    }
   },
   "outputs": [],
   "source": [
    "criterion = nn.CrossEntropyLoss()\n",
    "# set optimizer, only train the classifier parameters, feature parameters are frozen\n",
    "optimizer = optim.Adam(model.classifier.parameters(), lr=learning_rate)"
   ]
  },
  {
   "cell_type": "code",
   "execution_count": 9,
   "id": "dbe0a43e",
   "metadata": {
    "ExecuteTime": {
     "end_time": "2021-09-27T15:30:51.720376Z",
     "start_time": "2021-09-27T15:30:50.428467Z"
    }
   },
   "outputs": [
    {
     "data": {
      "text/plain": [
       "VGG(\n",
       "  (features): Sequential(\n",
       "    (0): Conv2d(3, 64, kernel_size=(3, 3), stride=(1, 1), padding=(1, 1))\n",
       "    (1): ReLU(inplace=True)\n",
       "    (2): Conv2d(64, 64, kernel_size=(3, 3), stride=(1, 1), padding=(1, 1))\n",
       "    (3): ReLU(inplace=True)\n",
       "    (4): MaxPool2d(kernel_size=2, stride=2, padding=0, dilation=1, ceil_mode=False)\n",
       "    (5): Conv2d(64, 128, kernel_size=(3, 3), stride=(1, 1), padding=(1, 1))\n",
       "    (6): ReLU(inplace=True)\n",
       "    (7): Conv2d(128, 128, kernel_size=(3, 3), stride=(1, 1), padding=(1, 1))\n",
       "    (8): ReLU(inplace=True)\n",
       "    (9): MaxPool2d(kernel_size=2, stride=2, padding=0, dilation=1, ceil_mode=False)\n",
       "    (10): Conv2d(128, 256, kernel_size=(3, 3), stride=(1, 1), padding=(1, 1))\n",
       "    (11): ReLU(inplace=True)\n",
       "    (12): Conv2d(256, 256, kernel_size=(3, 3), stride=(1, 1), padding=(1, 1))\n",
       "    (13): ReLU(inplace=True)\n",
       "    (14): Conv2d(256, 256, kernel_size=(3, 3), stride=(1, 1), padding=(1, 1))\n",
       "    (15): ReLU(inplace=True)\n",
       "    (16): MaxPool2d(kernel_size=2, stride=2, padding=0, dilation=1, ceil_mode=False)\n",
       "    (17): Conv2d(256, 512, kernel_size=(3, 3), stride=(1, 1), padding=(1, 1))\n",
       "    (18): ReLU(inplace=True)\n",
       "    (19): Conv2d(512, 512, kernel_size=(3, 3), stride=(1, 1), padding=(1, 1))\n",
       "    (20): ReLU(inplace=True)\n",
       "    (21): Conv2d(512, 512, kernel_size=(3, 3), stride=(1, 1), padding=(1, 1))\n",
       "    (22): ReLU(inplace=True)\n",
       "    (23): MaxPool2d(kernel_size=2, stride=2, padding=0, dilation=1, ceil_mode=False)\n",
       "    (24): Conv2d(512, 512, kernel_size=(3, 3), stride=(1, 1), padding=(1, 1))\n",
       "    (25): ReLU(inplace=True)\n",
       "    (26): Conv2d(512, 512, kernel_size=(3, 3), stride=(1, 1), padding=(1, 1))\n",
       "    (27): ReLU(inplace=True)\n",
       "    (28): Conv2d(512, 512, kernel_size=(3, 3), stride=(1, 1), padding=(1, 1))\n",
       "    (29): ReLU(inplace=True)\n",
       "    (30): MaxPool2d(kernel_size=2, stride=2, padding=0, dilation=1, ceil_mode=False)\n",
       "  )\n",
       "  (avgpool): AdaptiveAvgPool2d(output_size=(7, 7))\n",
       "  (classifier): Sequential(\n",
       "    (0): Linear(in_features=25088, out_features=4096, bias=True)\n",
       "    (1): Dropout(p=0.5, inplace=False)\n",
       "    (2): BatchNorm1d(4096, eps=1e-05, momentum=0.1, affine=True, track_running_stats=True)\n",
       "    (3): ReLU()\n",
       "    (4): Linear(in_features=4096, out_features=1024, bias=True)\n",
       "    (5): Dropout(p=0.5, inplace=False)\n",
       "    (6): BatchNorm1d(1024, eps=1e-05, momentum=0.1, affine=True, track_running_stats=True)\n",
       "    (7): ReLU()\n",
       "    (8): Linear(in_features=1024, out_features=38, bias=True)\n",
       "  )\n",
       ")"
      ]
     },
     "execution_count": 9,
     "metadata": {},
     "output_type": "execute_result"
    }
   ],
   "source": [
    "model.to(device)"
   ]
  },
  {
   "cell_type": "code",
   "execution_count": 10,
   "id": "eb05d3f5",
   "metadata": {
    "ExecuteTime": {
     "end_time": "2021-09-27T16:00:08.760355Z",
     "start_time": "2021-09-27T15:30:51.721376Z"
    }
   },
   "outputs": [
    {
     "name": "stderr",
     "output_type": "stream",
     "text": [
      "C:\\Users\\Yueqiao\\anaconda3\\envs\\ttorch\\lib\\site-packages\\torch\\nn\\functional.py:718: UserWarning: Named tensors and all their associated APIs are an experimental feature and subject to change. Please do not use them for anything important until they are released as stable. (Triggered internally at  ..\\c10/core/TensorImpl.h:1156.)\n",
      "  return torch.max_pool2d(input, kernel_size, stride, padding, dilation, ceil_mode)\n"
     ]
    },
    {
     "name": "stdout",
     "output_type": "stream",
     "text": [
      "Epoch [1/8], Step [275/550], Accuracy: 96.875%, Loss: 0.2475\n",
      "Epoch [1/8], Step [550/550], Accuracy: 100.0%, Loss: 0.1864\n",
      "Accuracy: 97.02 %\n",
      "0.25311902709250905\n",
      "Epoch [2/8], Step [275/550], Accuracy: 100.0%, Loss: 0.0472\n",
      "Epoch [2/8], Step [550/550], Accuracy: 95.83333333333333%, Loss: 0.1958\n",
      "Accuracy: 97.27 %\n",
      "0.159847836846309\n",
      "Epoch [3/8], Step [275/550], Accuracy: 100.0%, Loss: 0.0160\n",
      "Epoch [3/8], Step [550/550], Accuracy: 100.0%, Loss: 0.0435\n",
      "Accuracy: 97.97 %\n",
      "0.10143572538003434\n",
      "Epoch [4/8], Step [275/550], Accuracy: 100.0%, Loss: 0.0087\n",
      "Epoch [4/8], Step [550/550], Accuracy: 100.0%, Loss: 0.0227\n",
      "Accuracy: 97.87 %\n",
      "0.08790986349697422\n",
      "Epoch [5/8], Step [275/550], Accuracy: 100.0%, Loss: 0.0045\n",
      "Epoch [5/8], Step [550/550], Accuracy: 100.0%, Loss: 0.0098\n",
      "Accuracy: 97.91 %\n",
      "0.0871036651231566\n",
      "Epoch [6/8], Step [275/550], Accuracy: 100.0%, Loss: 0.0043\n",
      "Epoch [6/8], Step [550/550], Accuracy: 100.0%, Loss: 0.0070\n",
      "Accuracy: 97.66 %\n",
      "0.09590503473487431\n",
      "Epoch [7/8], Step [275/550], Accuracy: 99.21875%, Loss: 0.0201\n",
      "Epoch [7/8], Step [550/550], Accuracy: 100.0%, Loss: 0.0128\n",
      "Accuracy: 97.31 %\n",
      "0.11220581817311527\n",
      "Epoch [8/8], Step [275/550], Accuracy: 97.65625%, Loss: 0.0479\n",
      "Epoch [8/8], Step [550/550], Accuracy: 100.0%, Loss: 0.0247\n",
      "Accuracy: 97.60 %\n",
      "0.0910446391726443\n",
      "Finished Training of VGG-16\n"
     ]
    }
   ],
   "source": [
    "total_step = len(train_dl)\n",
    "total_step = len(train_dl)\n",
    "num_epoch = 8\n",
    "List_acc_valid=[]\n",
    "List_acc_train=[]  \n",
    "List_loss_valid=[]\n",
    "List_loss_train=[]\n",
    "for epoch in range(num_epoch):  # loop over the dataset multiple times\n",
    "\n",
    "    running_loss = 0.0\n",
    "    model.train()\n",
    "    for i, data in enumerate(train_dl, 0):\n",
    "        # get the inputs; data is a list of [inputs, labels]\n",
    "        inputs, labels = data[0].to(device), data[1].to(device)\n",
    "\n",
    "        # zero the parameter gradients\n",
    "        optimizer.zero_grad()\n",
    "\n",
    "        # forward + backward + optimize\n",
    "        output = model(inputs)\n",
    "        loss = criterion(output, labels)\n",
    "        loss.backward()\n",
    "        optimizer.step()\n",
    "\n",
    "        # print statistics\n",
    "        running_loss += loss.item()\n",
    "        if i % 275 == 274:    # print every 1000 mini-batches\n",
    "            correct_train = 0\n",
    "            total_train = 0\n",
    "            _, predicted = torch.max(output.data, 1)\n",
    "            total_train += labels.size(0)\n",
    "            correct_train += (predicted == labels).sum().item()\n",
    "            acc_train = 100 * correct_train/total_train\n",
    "            running_loss = 0.0\n",
    "            print ('Epoch [{}/{}], Step [{}/{}], Accuracy: {}%, Loss: {:.4f}'.format(epoch+1, num_epoch, i+1, total_step, acc_train, loss.item()))\n",
    "    \n",
    "    correct = 0\n",
    "    total = 0\n",
    "    model.eval()\n",
    "    total_loss_per_epoch = 0\n",
    "    with torch.no_grad():\n",
    "        for i, data in enumerate(valid_dl):\n",
    "            images_valid, labels_valid = data[0].to(device), data[1].to(device)\n",
    "            outputs_valid = model(images_valid)\n",
    "            loss_valid = criterion(outputs_valid, labels_valid)\n",
    "            total_loss_per_epoch += loss_valid.item()\n",
    "            _, predicted = torch.max(outputs_valid.data, 1)\n",
    "            total += labels_valid.size(0)\n",
    "            correct += (predicted == labels_valid).sum().item()\n",
    "            acc_valid = 100 * correct / total\n",
    "        loss_per_epoch = total_loss_per_epoch/i    \n",
    "        print('Accuracy: %.2f %%' % (100 * correct / total))\n",
    "        print(loss_per_epoch)\n",
    "        \n",
    "        List_acc_valid.append(acc_valid)\n",
    "        List_acc_train.append(acc_train)\n",
    "        List_loss_valid.append(loss_valid.item())\n",
    "        List_loss_train.append(loss.item()) \n",
    "print('Finished Training of VGG-16')"
   ]
  },
  {
   "cell_type": "code",
   "execution_count": 11,
   "id": "169c42c8",
   "metadata": {
    "ExecuteTime": {
     "end_time": "2021-09-27T16:00:10.760892Z",
     "start_time": "2021-09-27T16:00:08.764356Z"
    }
   },
   "outputs": [],
   "source": [
    "dataiter = iter(train_dl)\n",
    "images, labels = dataiter.next()\n",
    "classes = ('Apple___Apple_scab', 'Apple___Black_rot', 'Apple___Cedar_apple_rust', 'Apple___healthy', 'Blueberry___healthy', 'Cherry_(including_sour)___healthy', 'Cherry_(including_sour)___Powdery_mildew', 'Corn_(maize)___Cercospora_leaf_spot Gray_leaf_spot', 'Corn_(maize)___Common_rust_', 'Corn_(maize)___healthy', 'Corn_(maize)___Northern_Leaf_Blight', 'Grape___Black_rot', 'Grape___Esca_(Black_Measles)', 'Grape___healthy', 'Grape___Leaf_blight_(Isariopsis_Leaf_Spot)', 'Orange___Haunglongbing_(Citrus_greening)', 'Peach___Bacterial_spot', 'Peach___healthy', 'Pepper,_bell___Bacterial_spot', 'Pepper,_bell___healthy', 'Potato___Early_blight', 'Potato___healthy', 'Potato___Late_blight', 'Raspberry___healthy', 'Soybean___healthy', 'Squash___Powdery_mildew', 'Strawberry___healthy', 'Strawberry___Leaf_scorch', 'Tomato___Bacterial_spot', 'Tomato___Early_blight', 'Tomato___healthy', 'Tomato___Late_blight', 'Tomato___Leaf_Mold', 'Tomato___Septoria_leaf_spot', 'Tomato___Spider_mites Two-spotted_spider_mite', 'Tomato___Target_Spot', 'Tomato___Tomato_mosaic_virus', 'Tomato___Tomato_Yellow_Leaf_Curl_Virus')"
   ]
  },
  {
   "cell_type": "code",
   "execution_count": 12,
   "id": "dc2b8542",
   "metadata": {
    "ExecuteTime": {
     "end_time": "2021-09-27T16:00:11.108970Z",
     "start_time": "2021-09-27T16:00:10.762892Z"
    }
   },
   "outputs": [
    {
     "name": "stdout",
     "output_type": "stream",
     "text": [
      "\u001b[1m Accuracy for train dataset:100.00%\u001b[0m\n",
      "\u001b[1m Accuracy for valid dataset:97.60%\u001b[0m\n",
      "\n",
      "\n"
     ]
    },
    {
     "data": {
      "image/png": "[encoded data removed]",
      "text/plain": [
       "<Figure size 1080x504 with 2 Axes>"
      ]
     },
     "metadata": {
      "needs_background": "light"
     },
     "output_type": "display_data"
    }
   ],
   "source": [
    "#Train and Valid Accuracy & Loss curve\n",
    "#-------------------------------------------------------------------------------\n",
    "print('\\033[1m Accuracy for train dataset:{:.2f}%\\033[0m'.format(List_acc_train[-1]))\n",
    "print('\\033[1m Accuracy for valid dataset:{:.2f}%\\033[0m'.format(List_acc_valid[-1]))\n",
    "print('\\n')\n",
    "\n",
    "#Accuracy curves\n",
    "#-------------------------------------------------------------------------------\n",
    "plt.figure(figsize=(15,7))\n",
    "plt.subplot(121)\n",
    "plt.plot(List_acc_train,\"royalblue\",linewidth=2)\n",
    "plt.plot(List_acc_valid,\"tomato\",linewidth=2)\n",
    "plt.title('Model accuracy per epoch',fontsize=16)\n",
    "plt.ylabel('accuracy',fontsize=14)\n",
    "plt.xlabel('epoch',fontsize=14)\n",
    "plt.legend(['train', 'valid'], loc='right',fontsize=14)\n",
    "\n",
    "#Loss curves\n",
    "#-------------------------------------------------------------------------------\n",
    "plt.subplot(122)\n",
    "plt.plot(List_loss_train,\"royalblue\",linewidth=2)\n",
    "plt.plot(List_loss_valid,\"tomato\",linewidth=2)\n",
    "plt.title('Model loss per epoch',fontsize=16)\n",
    "plt.ylabel('loss',fontsize=14)\n",
    "plt.xlabel('epoch',fontsize=14)\n",
    "plt.legend(['train', 'valid'], loc='right',fontsize=14)\n",
    "plt.show()"
   ]
  },
  {
   "cell_type": "code",
   "execution_count": 14,
   "id": "42f5a7e6",
   "metadata": {
    "ExecuteTime": {
     "end_time": "2021-09-27T16:00:46.396350Z",
     "start_time": "2021-09-27T16:00:44.197471Z"
    }
   },
   "outputs": [],
   "source": [
    "PATH = './plant38_VGG16_full.pth'\n",
    "torch.save(model, PATH)"
   ]
  },
  {
   "cell_type": "code",
   "execution_count": 15,
   "id": "22804cdb",
   "metadata": {
    "ExecuteTime": {
     "end_time": "2021-09-27T16:01:31.437904Z",
     "start_time": "2021-09-27T16:00:47.507001Z"
    }
   },
   "outputs": [
    {
     "name": "stdout",
     "output_type": "stream",
     "text": [
      "Accuracy of Apple___Apple_scab : 100 %\n",
      "Accuracy of Apple___Black_rot : 100 %\n",
      "Accuracy of Apple___Cedar_apple_rust : 100 %\n",
      "Accuracy of Apple___healthy : 99 %\n",
      "Accuracy of Blueberry___healthy : 100 %\n",
      "Accuracy of Cherry_(including_sour)___healthy : 99 %\n",
      "Accuracy of Cherry_(including_sour)___Powdery_mildew : 100 %\n",
      "Accuracy of Corn_(maize)___Cercospora_leaf_spot Gray_leaf_spot : 89 %\n",
      "Accuracy of Corn_(maize)___Common_rust_ : 100 %\n",
      "Accuracy of Corn_(maize)___healthy : 93 %\n",
      "Accuracy of Corn_(maize)___Northern_Leaf_Blight : 100 %\n",
      "Accuracy of Grape___Black_rot : 97 %\n",
      "Accuracy of Grape___Esca_(Black_Measles) : 100 %\n",
      "Accuracy of Grape___healthy : 99 %\n",
      "Accuracy of Grape___Leaf_blight_(Isariopsis_Leaf_Spot) : 99 %\n",
      "Accuracy of Orange___Haunglongbing_(Citrus_greening) : 98 %\n",
      "Accuracy of Peach___Bacterial_spot : 98 %\n",
      "Accuracy of Peach___healthy : 100 %\n",
      "Accuracy of Pepper,_bell___Bacterial_spot : 97 %\n",
      "Accuracy of Pepper,_bell___healthy : 97 %\n",
      "Accuracy of Potato___Early_blight : 99 %\n",
      "Accuracy of Potato___healthy : 97 %\n",
      "Accuracy of Potato___Late_blight : 97 %\n",
      "Accuracy of Raspberry___healthy : 100 %\n",
      "Accuracy of Soybean___healthy : 99 %\n",
      "Accuracy of Squash___Powdery_mildew : 100 %\n",
      "Accuracy of Strawberry___healthy : 99 %\n",
      "Accuracy of Strawberry___Leaf_scorch : 99 %\n",
      "Accuracy of Tomato___Bacterial_spot : 97 %\n",
      "Accuracy of Tomato___Early_blight : 86 %\n",
      "Accuracy of Tomato___healthy : 87 %\n",
      "Accuracy of Tomato___Late_blight : 96 %\n",
      "Accuracy of Tomato___Leaf_Mold : 97 %\n",
      "Accuracy of Tomato___Septoria_leaf_spot : 97 %\n",
      "Accuracy of Tomato___Spider_mites Two-spotted_spider_mite : 94 %\n",
      "Accuracy of Tomato___Target_Spot : 100 %\n",
      "Accuracy of Tomato___Tomato_mosaic_virus : 99 %\n",
      "Accuracy of Tomato___Tomato_Yellow_Leaf_Curl_Virus : 98 %\n"
     ]
    }
   ],
   "source": [
    "class_correct = list(0. for i in range(38))\n",
    "class_total = list(0. for i in range(38))\n",
    "model.eval()\n",
    "with torch.no_grad():\n",
    "    for data in valid_dl:\n",
    "        images, labels = data[0].to(device), data[1].to(device)\n",
    "        outputs = model(images)\n",
    "        _, predicted = torch.max(outputs, 1)\n",
    "        c = (predicted == labels).squeeze()\n",
    "        for i in range(36):\n",
    "            label = labels[i]\n",
    "            class_correct[label] += c[i].item()\n",
    "            class_total[label] += 1\n",
    "\n",
    "\n",
    "for i in range(38):\n",
    "    print('Accuracy of %5s : %2d %%' % (\n",
    "        classes[i], 100 * class_correct[i] / class_total[i]))"
   ]
  },
  {
   "cell_type": "code",
   "execution_count": null,
   "id": "e6eea048",
   "metadata": {},
   "outputs": [],
   "source": []
  }
 ],
 "metadata": {
  "kernelspec": {
   "display_name": "Python 3 (ipykernel)",
   "language": "python",
   "name": "python3"
  },
  "language_info": {
   "codemirror_mode": {
    "name": "ipython",
    "version": 3
   },
   "file_extension": ".py",
   "mimetype": "text/x-python",
   "name": "python",
   "nbconvert_exporter": "python",
   "pygments_lexer": "ipython3",
   "version": "3.8.11"
  }
 },
 "nbformat": 4,
 "nbformat_minor": 5
}

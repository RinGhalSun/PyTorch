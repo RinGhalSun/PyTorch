{
 "cells": [
  {
   "cell_type": "markdown",
   "metadata": {
    "collapsed": true,
    "pycharm": {
     "name": "#%% md\n"
    }
   },
   "source": [
    "# Introduction of torch.autograd\n",
    "torch.autograd is PyTorch’s automatic differentiation\n",
    "engine 自动差分引擎 that powers neural network training.\n",
    "In this section, you will get a conceptual\n",
    "understanding of how autograd helps a neural network\n",
    "train."
   ]
  },
  {
   "cell_type": "markdown",
   "source": [
    "## Background\n",
    "Neural networks (NNs) are a collection of nested\n",
    "functions that are executed on some input data.\n",
    "These functions are defined by *parameters* (consisting\n",
    "of weights and biases 由权重和偏差组成), which is in\n",
    "PyTorch are stored in tensors.\n",
    "\n",
    "Training a NN happens in two steps:<br>\n",
    "**Forward Propagation 正向传播**: In forward prop, the\n",
    "NN makes its best guess about the correct output. It\n",
    "runs the input data through each of its functions to\n",
    "make this guess<br>\n",
    "**Backward Propagation**: In back prop, the NN adjusts\n",
    "its parameters proportionate 误差 to the error in its\n",
    "guess. It does this by traversing backwards from the\n",
    "output, collecting the derivatives of the error 误差导数\n",
    "with respect to the parameters of the functions (gradient),\n",
    "and optimizing the parameters using gradient descent\n",
    "梯度下降. For a more detailed walk-through of backprop,\n",
    "check out this [video](https://www.youtube.com/watch?v=tIeHLnjs5U8)"
   ],
   "metadata": {
    "collapsed": false,
    "pycharm": {
     "name": "#%% md\n"
    }
   }
  },
  {
   "cell_type": "markdown",
   "source": [
    "## Usage in PyTorch\n",
    "Let's take a look at a single training step. For this example,\n",
    "we load a pretrained resnet18 model from *torchvision*. We\n",
    "create a random data tensor to represent a single image\n",
    "with 3 channels, and height & width of 64, and its correspond\n",
    "*label* initialized to some random values"
   ],
   "metadata": {
    "collapsed": false,
    "pycharm": {
     "name": "#%% md\n"
    }
   }
  },
  {
   "cell_type": "code",
   "execution_count": 8,
   "outputs": [
    {
     "ename": "ModuleNotFoundError",
     "evalue": "No module named 'torch'",
     "output_type": "error",
     "traceback": [
      "\u001B[1;31m---------------------------------------------------------------------------\u001B[0m",
      "\u001B[1;31mModuleNotFoundError\u001B[0m                       Traceback (most recent call last)",
      "\u001B[1;32m<ipython-input-8-196d7c3dd3c0>\u001B[0m in \u001B[0;36m<module>\u001B[1;34m\u001B[0m\n\u001B[1;32m----> 1\u001B[1;33m \u001B[1;32mimport\u001B[0m \u001B[0mtorch\u001B[0m\u001B[1;33m,\u001B[0m \u001B[0mtorchvision\u001B[0m\u001B[1;33m\u001B[0m\u001B[1;33m\u001B[0m\u001B[0m\n\u001B[0m\u001B[0;32m      2\u001B[0m \u001B[1;33m\u001B[0m\u001B[0m\n\u001B[0;32m      3\u001B[0m \u001B[0mmodel\u001B[0m \u001B[1;33m=\u001B[0m \u001B[0mtorchvision\u001B[0m\u001B[1;33m.\u001B[0m\u001B[0mmodels\u001B[0m\u001B[1;33m.\u001B[0m\u001B[0mresnet18\u001B[0m\u001B[1;33m(\u001B[0m\u001B[0mpretrained\u001B[0m\u001B[1;33m=\u001B[0m\u001B[1;32mTrue\u001B[0m\u001B[1;33m)\u001B[0m\u001B[1;33m\u001B[0m\u001B[1;33m\u001B[0m\u001B[0m\n\u001B[0;32m      4\u001B[0m \u001B[0mdata\u001B[0m \u001B[1;33m=\u001B[0m \u001B[0mtorch\u001B[0m\u001B[1;33m.\u001B[0m\u001B[0mrand\u001B[0m\u001B[1;33m(\u001B[0m\u001B[1;36m1\u001B[0m\u001B[1;33m,\u001B[0m \u001B[1;36m3\u001B[0m\u001B[1;33m,\u001B[0m \u001B[1;36m64\u001B[0m\u001B[1;33m,\u001B[0m \u001B[1;36m64\u001B[0m\u001B[1;33m)\u001B[0m\u001B[1;33m\u001B[0m\u001B[1;33m\u001B[0m\u001B[0m\n\u001B[0;32m      5\u001B[0m \u001B[0mlabels\u001B[0m \u001B[1;33m=\u001B[0m \u001B[0mtorch\u001B[0m\u001B[1;33m.\u001B[0m\u001B[0mrand\u001B[0m\u001B[1;33m(\u001B[0m\u001B[1;36m1\u001B[0m\u001B[1;33m,\u001B[0m \u001B[1;36m1000\u001B[0m\u001B[1;33m)\u001B[0m\u001B[1;33m\u001B[0m\u001B[1;33m\u001B[0m\u001B[0m\n",
      "\u001B[1;31mModuleNotFoundError\u001B[0m: No module named 'torch'"
     ]
    }
   ],
   "source": [
    "import torch, torchvision\n",
    "\n",
    "model = torchvision.models.resnet18(pretrained=True)\n",
    "data = torch.rand(1, 3, 64, 64)\n",
    "labels = torch.rand(1, 1000)"
   ],
   "metadata": {
    "collapsed": false,
    "pycharm": {
     "name": "#%%\n"
    }
   }
  },
  {
   "cell_type": "markdown",
   "source": [
    "Next, we run the input data through the model through each\n",
    "of its layers to make a prediction. This is the **forward\n",
    "pass**."
   ],
   "metadata": {
    "collapsed": false,
    "pycharm": {
     "name": "#%% md\n"
    }
   }
  },
  {
   "cell_type": "code",
   "execution_count": null,
   "outputs": [],
   "source": [
    "prediction = model(data)  # forward pass"
   ],
   "metadata": {
    "collapsed": false,
    "pycharm": {
     "name": "#%%\n"
    }
   }
  },
  {
   "cell_type": "markdown",
   "source": [
    "We use the model's prediction, and the corresponding label\n",
    "to calculate the error 误差 (loss). The next step is to\n",
    "back propagate this error through the network. Backward\n",
    "propagation is kicked off when we call *.backward()* on the\n",
    "error tensor. Autograd then calculates and stores the\n",
    "gradients for each model parameter in the parameter's\n",
    "*.grad* attribute. 然后，Autograd 会为每个模型参数计算梯度\n",
    "并将其存储在参数的.grad属性中"
   ],
   "metadata": {
    "collapsed": false,
    "pycharm": {
     "name": "#%% md\n"
    }
   }
  },
  {
   "cell_type": "code",
   "execution_count": 3,
   "outputs": [],
   "source": [
    "loss = (prediction - labels).sum()\n",
    "loss.backward()  # backward pass"
   ],
   "metadata": {
    "collapsed": false,
    "pycharm": {
     "name": "#%%\n"
    }
   }
  },
  {
   "cell_type": "markdown",
   "source": [
    "Next, we load an optimizer, in this case SGD with a learning\n",
    "rate of 0.01 and momentum 动量 of 0.9. We register all the\n",
    "parameters of the model in the optimizer."
   ],
   "metadata": {
    "collapsed": false,
    "pycharm": {
     "name": "#%% md\n"
    }
   }
  },
  {
   "cell_type": "code",
   "execution_count": 4,
   "outputs": [],
   "source": [
    "optim = torch.optim.SGD(model.parameters(), lr=1e-2,\n",
    "                        momentum=0.9)"
   ],
   "metadata": {
    "collapsed": false,
    "pycharm": {
     "name": "#%%\n"
    }
   }
  },
  {
   "cell_type": "markdown",
   "source": [
    "Finally, we call *.step()* to initiate gradient descent.\n",
    "The optimizer adjusts each parameter by its gradient\n",
    "stored in *.grad*."
   ],
   "metadata": {
    "collapsed": false,
    "pycharm": {
     "name": "#%% md\n"
    }
   }
  },
  {
   "cell_type": "code",
   "execution_count": 5,
   "outputs": [],
   "source": [
    "optim.step()  # gradient descent"
   ],
   "metadata": {
    "collapsed": false,
    "pycharm": {
     "name": "#%%\n"
    }
   }
  },
  {
   "cell_type": "markdown",
   "source": [
    "At this point, you have everything you need to train your\n",
    "neural network. The below sections detail the workings of\n",
    "autograd - feel free to skip them.\n",
    "****"
   ],
   "metadata": {
    "collapsed": false,
    "pycharm": {
     "name": "#%% md\n"
    }
   }
  },
  {
   "cell_type": "markdown",
   "source": [
    "## Differentiation in Autograd\n",
    "Let's take a look at how *autograd* collects gradients. We\n",
    "create two tensors *a* and *b* with *requires_grad=True*.\n",
    "This signals to *autograd* that every operation on them\n",
    "should be tracked."
   ],
   "metadata": {
    "collapsed": false,
    "pycharm": {
     "name": "#%% md\n"
    }
   }
  },
  {
   "cell_type": "code",
   "execution_count": 6,
   "outputs": [],
   "source": [
    "a = torch.tensor([2., 3.], requires_grad=True)\n",
    "b = torch.tensor([6., 4.], requires_grad=True)"
   ],
   "metadata": {
    "collapsed": false,
    "pycharm": {
     "name": "#%%\n"
    }
   }
  },
  {
   "cell_type": "markdown",
   "source": [
    "We create another tensor Q from a and b\n",
    "$Q = 3a^3-b^2$"
   ],
   "metadata": {
    "collapsed": false,
    "pycharm": {
     "name": "#%% md\n"
    }
   }
  },
  {
   "cell_type": "code",
   "execution_count": 7,
   "outputs": [],
   "source": [
    "Q = 3*a**3 - b**2"
   ],
   "metadata": {
    "collapsed": false,
    "pycharm": {
     "name": "#%%\n"
    }
   }
  },
  {
   "cell_type": "markdown",
   "source": [
    "Let's assume a and b to be parameters of an NN, and Q to\n",
    "be the error. In NN training, we want gradients of the\n",
    "error w.r.t. parameters, i.e.\n",
    "\n",
    "$$\\frac{\\partial Q}{\\partial a} = 9a^2$$ <br>\n",
    "$$\\frac{\\partial Q}{\\partial b} = -2b^2$$\n",
    "\n",
    "When we call *.backward()* on Q, autograd calculates these\n",
    "gradients and stores them in the respective tensor's\n",
    "*.grad* attribute\n",
    "\n",
    "We need to explicitly 明确的 pass a *gradient* argument in\n",
    "*Q.backward()* because it is a vector *.gradient* is a\n",
    "tensor of same shape as Q, and it represents the gradient\n",
    "of Q w.r.t. itself, i.e.<br>\n",
    "我们需要在Q.backward()中显式传递gradient参数，因为它是向量。\n",
    "gradient是与Q形状相同的张量，它表示Q相对于本身的梯度，即\n",
    "\n",
    "$$\\frac{dQ}{dQ} = 1$$"
   ],
   "metadata": {
    "collapsed": false,
    "pycharm": {
     "name": "#%% md\n"
    }
   }
  },
  {
   "cell_type": "markdown",
   "source": [
    "Equivalently 相当于, we can also aggregate 合计 Q into a\n",
    "scalar and call backward implicitly 暗中的, like\n",
    "*Q.sum().backward()*.<br>\n",
    "同样，我们也可以将Q聚合为一个标量，然后隐式地向后调用，\n",
    "例如Q.sum().backward()。"
   ],
   "metadata": {
    "collapsed": false,
    "pycharm": {
     "name": "#%% md\n"
    }
   }
  },
  {
   "cell_type": "code",
   "execution_count": 8,
   "outputs": [],
   "source": [
    "external_grad = torch.tensor([1.,1.])\n",
    "Q.backward(gradient=external_grad)"
   ],
   "metadata": {
    "collapsed": false,
    "pycharm": {
     "name": "#%%\n"
    }
   }
  },
  {
   "cell_type": "markdown",
   "source": [
    "Gradients are now deposited in *a.grad* and *b.grad* <br>\n",
    "梯度现在沉积在a.grad和b.grad中"
   ],
   "metadata": {
    "collapsed": false,
    "pycharm": {
     "name": "#%% md\n"
    }
   }
  },
  {
   "cell_type": "code",
   "execution_count": 9,
   "outputs": [
    {
     "name": "stdout",
     "output_type": "stream",
     "text": [
      "tensor([True, True])\n",
      "tensor([True, True])\n"
     ]
    }
   ],
   "source": [
    "# check if collected gradients are correct\n",
    "print(9*a**2 == a.grad)\n",
    "print(-2*b == b.grad)"
   ],
   "metadata": {
    "collapsed": false,
    "pycharm": {
     "name": "#%%\n"
    }
   }
  },
  {
   "cell_type": "markdown",
   "source": [
    "## Optional Reading - Vector Calculus using autograd\n"
   ],
   "metadata": {
    "collapsed": false,
    "pycharm": {
     "name": "#%% md\n"
    }
   }
  }
 ],
 "metadata": {
  "kernelspec": {
   "display_name": "Python 3",
   "language": "python",
   "name": "python3"
  },
  "language_info": {
   "codemirror_mode": {
    "name": "ipython",
    "version": 2
   },
   "file_extension": ".py",
   "mimetype": "text/x-python",
   "name": "python",
   "nbconvert_exporter": "python",
   "pygments_lexer": "ipython2",
   "version": "2.7.6"
  }
 },
 "nbformat": 4,
 "nbformat_minor": 0
}
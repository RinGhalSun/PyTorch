{
 "cells": [
  {
   "cell_type": "markdown",
   "id": "670cc197",
   "metadata": {},
   "source": [
    "# 卷积\n",
    "### 例如用MLP分类猫和狗的图片\n",
    "使用1200W像素,RGB图片有36M个像素,使用100的单隐藏层MLP模型有3.6B个元素,数量远大于世界上猫和狗的总和,3.6B参数约等于30GB.太过浪费\n",
    "### 两个原则:\n",
    "* 平移不变性\n",
    "* 局部性\n",
    "\n",
    "### 重新考察全连接层\n",
    "* 将输入和输出变形为矩阵(宽度,高度)\n",
    "* 将权重变形为4-D张量(h,w)到(h', w')\n",
    "\n",
    "$$\\mathsf{h}_{i,j} =\\sum_{k,l} \\mathsf{w}_{i,j,k,l}{x}_{k,l} =\n",
    "\\sum_{a,b} \\mathsf{v}_{i,j,a,b}{x}_{i+a,j+b}$$\n",
    "\n",
    "* V是W的重新索引$v_{i,j,a,b}=w_{i,j,i+a,j+b}$\n",
    "\n",
    "### 原则 #1 - 平移不变性\n",
    "* x的平移导致h的平移$h_{i,j}=\\sum{v}_{i,j,a,b}{x}_{i+a,j+b}$\n",
    "* v不应该依赖于(i,j)\n",
    "* 解决方案:${v}_{i,j,a,b}={v}_{a,b}$\n",
    "$${h}_{i,j}=\\sum_{a,b} \\mathsf{v}_{a,b}{x}_{i+a,j+b}$$\n",
    "这就是2维交叉相关(也叫2维卷积)\n",
    "\n",
    "### 原则 #2 - 局部性\n",
    "$${h}_{i,j} = \\sum_{a,b} {v}_{a,b}{x}_{i+a,j+b}$$\n",
    "* 当评估$h_{i,j}$时,我们不应该用原理$x_{i,j}$的参数\n",
    "* 解决方案: 当$|a|,|b|>\\Delta$时,使得$v_{a,b}=0$\n",
    "$$h_{i,j}=\\sum_{a=-\\Delta}^{\\Delta}\\sum_{b=-\\Delta}^{\\Delta}v_{a,b}x_{i+a,j+b}$$\n",
    "i和j只在$-\\Delta$到$\\Delta$附近求和"
   ]
  },
  {
   "cell_type": "markdown",
   "id": "481d40f9",
   "metadata": {},
   "source": [
    "## 总结\n",
    "* 对全连接层使用平移不变性和局部性得到`卷积层Convolutional Layer`\n",
    "$$h_{i,j}=\\sum_{a,b}v_{i,j,a,b}x_{i+a,j+b}$$\n",
    "$$\\downarrow$$\n",
    "$$h_{i,j}=\\sum_{a=-\\Delta}^{\\Delta}\\sum_{b=-\\Delta}^{\\Delta}\n",
    "v_{a,b}x_{i+a,j+b}$$"
   ]
  }
 ],
 "metadata": {
  "kernelspec": {
   "display_name": "Python 3 (ipykernel)",
   "language": "python",
   "name": "python3"
  },
  "language_info": {
   "codemirror_mode": {
    "name": "ipython",
    "version": 3
   },
   "file_extension": ".py",
   "mimetype": "text/x-python",
   "name": "python",
   "nbconvert_exporter": "python",
   "pygments_lexer": "ipython3",
   "version": "3.8.11"
  }
 },
 "nbformat": 4,
 "nbformat_minor": 5
}

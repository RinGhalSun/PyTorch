{
 "cells": [
  {
   "attachments": {},
   "cell_type": "markdown",
   "id": "95579376",
   "metadata": {},
   "source": [
    "# 回归+损失函数+图片分类数据集\n",
    "#### 回归 vs 分类\n",
    "* 回归估计一个连续值\n",
    "* 分类预测一个离散值\n",
    "\n",
    "回归:\n",
    "1. 单连续值输出\n",
    "2. 自然区间\n",
    "3. 跟真实值的区别作为损失\n",
    "\n",
    "分类:\n",
    "1. 通常为多个输出\n",
    "2. 输出i是预测为第i类的置信度\n",
    "\n",
    "从回归到多类分类-均方损失:\n",
    "1. 对类别进行移位有效编码\n",
    "2. 使用均方训练损失\n",
    "3. 最大值最为预测 \n",
    "![0901](pic/0901.png)\n",
    "4. 需要更置信的识别正确类(大量)\n",
    "![0902](pic/0901.5.png)\n",
    "5. 输出匹配概率(非负,和为1)\n",
    "![0902](pic/0902.png)\n",
    "6. 概率$y$和$y$^作为区别行为损失\n",
    "### softmax 和交叉熵损失\n",
    "1. 交叉熵常用来衡量两个概率的区别\n",
    "![0902](pic/0903.png)\n",
    "2. 将他作为损失\n",
    "![0902](pic/0904.png)\n",
    "3. 其梯度是真实概率和预测概率的区别\n",
    "![0902](pic/0905.png)"
   ]
  },
  {
   "cell_type": "markdown",
   "id": "d26afee4",
   "metadata": {},
   "source": [
    "## 总结\n",
    "1. Sofrmax回归是一个多类分类模型\n",
    "2. 使用Softmax操作子得到的每个类的预测置信度\n",
    "3. 使用交叉熵来衡量预测和标号的区别"
   ]
  },
  {
   "cell_type": "code",
   "execution_count": null,
   "id": "4732bb74",
   "metadata": {},
   "outputs": [],
   "source": []
  }
 ],
 "metadata": {
  "kernelspec": {
   "display_name": "Python 3 (ipykernel)",
   "language": "python",
   "name": "python3"
  },
  "language_info": {
   "codemirror_mode": {
    "name": "ipython",
    "version": 3
   },
   "file_extension": ".py",
   "mimetype": "text/x-python",
   "name": "python",
   "nbconvert_exporter": "python",
   "pygments_lexer": "ipython3",
   "version": "3.8.11"
  }
 },
 "nbformat": 4,
 "nbformat_minor": 5
}

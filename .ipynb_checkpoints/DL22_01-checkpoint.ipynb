{
 "cells": [
  {
   "cell_type": "markdown",
   "id": "04939fa8",
   "metadata": {},
   "source": [
    "# 池化层\n",
    "* 积对位置敏感\n",
    "    * 检测垂直边缘\n",
    "* 需要一定程度的平移不变性\n",
    "    * 照明,物体位置,比例,外观等因图像而异\n",
    "\n",
    "## 二维最大池化\n",
    "* 返回滑动窗口中的最大值\n",
    "\n",
    "![池化层](pic/2201.svg)\n",
    "$$\\max(0,1,3,4)=4$$\n",
    "\n",
    "## 填充,步幅和多个通道\n",
    "* 池化层与卷积层类似,都具有填充和步幅\n",
    "* 没有可学习的参数\n",
    "* 在每个输入通道应用池化层以获得相应的输出通道\n",
    "* 输出通道数=输入通道数\n",
    "\n",
    "## 平均池化层\n",
    "* 最大池化层:每个窗口中最强的信号模式\n",
    "* 平均池化层:将最大池化层的最大操作替换为平均\n",
    "\n"
   ]
  },
  {
   "cell_type": "markdown",
   "id": "e905d212",
   "metadata": {},
   "source": [
    "## 总结\n",
    "* 池化层返回窗口中的最大或平均值\n",
    "* 缓解卷积层对位置的敏感性\n",
    "* 同样有窗口大小,填充和步幅作为超参数"
   ]
  },
  {
   "cell_type": "code",
   "execution_count": null,
   "id": "8727cbed",
   "metadata": {},
   "outputs": [],
   "source": []
  }
 ],
 "metadata": {
  "kernelspec": {
   "display_name": "Python 3 (ipykernel)",
   "language": "python",
   "name": "python3"
  },
  "language_info": {
   "codemirror_mode": {
    "name": "ipython",
    "version": 3
   },
   "file_extension": ".py",
   "mimetype": "text/x-python",
   "name": "python",
   "nbconvert_exporter": "python",
   "pygments_lexer": "ipython3",
   "version": "3.8.11"
  }
 },
 "nbformat": 4,
 "nbformat_minor": 5
}

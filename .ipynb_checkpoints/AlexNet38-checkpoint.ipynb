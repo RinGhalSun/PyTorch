{
 "cells": [
  {
   "cell_type": "markdown",
   "id": "86873a52",
   "metadata": {},
   "source": [
    "# AlexNet 38"
   ]
  },
  {
   "cell_type": "code",
   "execution_count": 1,
   "id": "23a8db17",
   "metadata": {
    "ExecuteTime": {
     "end_time": "2021-09-23T00:33:00.750582Z",
     "start_time": "2021-09-23T00:32:59.931407Z"
    }
   },
   "outputs": [],
   "source": [
    "import os\n",
    "import torch\n",
    "import matplotlib.pyplot as plt\n",
    "import torch.nn as nn\n",
    "from torch.utils.data import DataLoader\n",
    "from PIL import Image\n",
    "import torch.nn.functional as F\n",
    "import torchvision.transforms as transforms\n",
    "from torchvision.datasets import ImageFolder  \n",
    "%matplotlib inline"
   ]
  },
  {
   "cell_type": "code",
   "execution_count": 2,
   "id": "939ca2cf",
   "metadata": {
    "ExecuteTime": {
     "end_time": "2021-09-23T00:33:00.765743Z",
     "start_time": "2021-09-23T00:33:00.751582Z"
    }
   },
   "outputs": [
    {
     "name": "stdout",
     "output_type": "stream",
     "text": [
      "['Apple___Apple_scab', 'Apple___Black_rot', 'Apple___Cedar_apple_rust', 'Apple___healthy', 'Blueberry___healthy', 'Cherry_(including_sour)___healthy', 'Cherry_(including_sour)___Powdery_mildew', 'Corn_(maize)___Cercospora_leaf_spot Gray_leaf_spot', 'Corn_(maize)___Common_rust_', 'Corn_(maize)___healthy', 'Corn_(maize)___Northern_Leaf_Blight', 'Grape___Black_rot', 'Grape___Esca_(Black_Measles)', 'Grape___healthy', 'Grape___Leaf_blight_(Isariopsis_Leaf_Spot)', 'Orange___Haunglongbing_(Citrus_greening)', 'Peach___Bacterial_spot', 'Peach___healthy', 'Pepper,_bell___Bacterial_spot', 'Pepper,_bell___healthy', 'Potato___Early_blight', 'Potato___healthy', 'Potato___Late_blight', 'Raspberry___healthy', 'Soybean___healthy', 'Squash___Powdery_mildew', 'Strawberry___healthy', 'Strawberry___Leaf_scorch', 'Tomato___Bacterial_spot', 'Tomato___Early_blight', 'Tomato___healthy', 'Tomato___Late_blight', 'Tomato___Leaf_Mold', 'Tomato___Septoria_leaf_spot', 'Tomato___Spider_mites Two-spotted_spider_mite', 'Tomato___Target_Spot', 'Tomato___Tomato_mosaic_virus', 'Tomato___Tomato_Yellow_Leaf_Curl_Virus']\n",
      "38\n"
     ]
    }
   ],
   "source": [
    "data_dir = \"../input/New Plant Diseases Dataset\"\n",
    "train_dir = data_dir + \"/train\"\n",
    "valid_dir = data_dir + \"/valid\"\n",
    "diseases = os.listdir(train_dir)\n",
    "print(diseases)\n",
    "print(len(diseases))"
   ]
  },
  {
   "cell_type": "code",
   "execution_count": 3,
   "id": "f04ad891",
   "metadata": {
    "ExecuteTime": {
     "end_time": "2021-09-23T00:33:00.781100Z",
     "start_time": "2021-09-23T00:33:00.766745Z"
    }
   },
   "outputs": [],
   "source": [
    "transform= transforms.Compose([\n",
    "    transforms.Resize(256),\n",
    "    transforms.CenterCrop(224),\n",
    "    transforms.ToTensor(),\n",
    "    transforms.Normalize(mean=[0.485, 0.456, 0.406], std=[0.229, 0.224, 0.225]),\n",
    "])"
   ]
  },
  {
   "cell_type": "code",
   "execution_count": 4,
   "id": "e09d5395",
   "metadata": {
    "ExecuteTime": {
     "end_time": "2021-09-23T00:33:01.450249Z",
     "start_time": "2021-09-23T00:33:00.783101Z"
    }
   },
   "outputs": [],
   "source": [
    "batch_size = 128\n",
    "train = ImageFolder(train_dir, transform=transform)\n",
    "valid = ImageFolder(valid_dir, transform=transform) \n",
    "train_dl = DataLoader(train, batch_size, shuffle=True, num_workers=0, pin_memory=True)\n",
    "valid_dl = DataLoader(valid, batch_size, num_workers=0, pin_memory=True)"
   ]
  },
  {
   "cell_type": "code",
   "execution_count": 5,
   "id": "b0300bf5",
   "metadata": {
    "ExecuteTime": {
     "end_time": "2021-09-23T00:33:02.714074Z",
     "start_time": "2021-09-23T00:33:01.451249Z"
    }
   },
   "outputs": [],
   "source": [
    "AlexNet = nn.Sequential(\n",
    "    # 这里，我们使Q用一个11*11的更大窗口来捕捉对象。\n",
    "    # 同时，步幅为4，以减少输出的高度和宽度。\n",
    "    # 另外，输出通道的数目远大于LeNet\n",
    "    nn.Conv2d(3, 64, kernel_size=11, stride=4, padding=2), nn.ReLU(),\n",
    "    nn.MaxPool2d(kernel_size=3, stride=2),\n",
    "    # 减小卷积窗口，使用填充为2来使得输入与输出的高和宽一致，且增大输出通道数\n",
    "    nn.Conv2d(64, 192, kernel_size=5, padding=2), nn.ReLU(),\n",
    "    nn.MaxPool2d(kernel_size=3, stride=2),\n",
    "    # 使用三个连续的卷积层和较小的卷积窗口。\n",
    "    # 除了最后的卷积层，输出通道的数量进一步增加。\n",
    "    # 在前两个卷积层之后，汇聚层不用于减少输入的高度和宽度\n",
    "    nn.Conv2d(192, 384, kernel_size=3, padding=1), nn.ReLU(),\n",
    "    nn.Conv2d(384, 256, kernel_size=3, padding=1), nn.ReLU(),\n",
    "    nn.Conv2d(256, 256, kernel_size=3, padding=1), nn.ReLU(),\n",
    "    nn.MaxPool2d(kernel_size=3, stride=2),\n",
    "    nn.Flatten(),\n",
    "    # 这里，全连接层的输出数量是LeNet中的好几倍。使用dropout层来减轻过度拟合\n",
    "    nn.Linear(9216, 2048), nn.ReLU(),\n",
    "    nn.Dropout(p=0.5),\n",
    "    nn.Linear(2048, 512), nn.ReLU(),\n",
    "    nn.Dropout(p=0.5),\n",
    "    # 最后是输出层。由于这里使用Fashion-MNIST，所以用类别数为10，而非论文中的1000\n",
    "    nn.Linear(512, 38)).cuda()"
   ]
  },
  {
   "cell_type": "code",
   "execution_count": 6,
   "id": "e7069cf7",
   "metadata": {
    "ExecuteTime": {
     "end_time": "2021-09-23T00:33:02.730078Z",
     "start_time": "2021-09-23T00:33:02.715076Z"
    }
   },
   "outputs": [
    {
     "data": {
      "text/plain": [
       "device(type='cuda', index=0)"
      ]
     },
     "execution_count": 6,
     "metadata": {},
     "output_type": "execute_result"
    }
   ],
   "source": [
    "device = torch.device('cuda:0')\n",
    "device"
   ]
  },
  {
   "cell_type": "code",
   "execution_count": 7,
   "id": "a82bef28",
   "metadata": {
    "ExecuteTime": {
     "end_time": "2021-09-23T00:33:02.746081Z",
     "start_time": "2021-09-23T00:33:02.731077Z"
    }
   },
   "outputs": [],
   "source": [
    "import torch.optim as optim\n",
    "\n",
    "criterion = nn.CrossEntropyLoss()\n",
    "optimizer = optim.SGD(AlexNet.parameters(), lr=0.008, momentum=0.9)"
   ]
  },
  {
   "cell_type": "markdown",
   "id": "f1fd1dd7",
   "metadata": {},
   "source": [
    "\n",
    "conv_arch11 = ((1, 64), (1, 128), (2, 256), (2, 512), (2, 512))\n",
    "\n",
    "\n",
    "conv_arch13 = ((2, 64), (2, 128), (2, 256), (2, 512), (2, 512))\n",
    "        \n",
    "\n",
    "conv_arch16 = ((2, 64), (2, 128), (3, 256), (3, 512), (3, 512))\n",
    "    \n",
    "\n",
    "conv_arch19 = ((2, 64), (2, 128), (4, 256), (4, 512), (4, 512))"
   ]
  },
  {
   "cell_type": "code",
   "execution_count": 8,
   "id": "224b3aa8",
   "metadata": {
    "ExecuteTime": {
     "end_time": "2021-09-23T02:13:20.589085Z",
     "start_time": "2021-09-23T00:33:02.747081Z"
    }
   },
   "outputs": [
    {
     "name": "stderr",
     "output_type": "stream",
     "text": [
      "C:\\Users\\Yueqiao\\anaconda3\\envs\\ttorch\\lib\\site-packages\\torch\\nn\\functional.py:718: UserWarning: Named tensors and all their associated APIs are an experimental feature and subject to change. Please do not use them for anything important until they are released as stable. (Triggered internally at  ..\\c10/core/TensorImpl.h:1156.)\n",
      "  return torch.max_pool2d(input, kernel_size, stride, padding, dilation, ceil_mode)\n"
     ]
    },
    {
     "name": "stdout",
     "output_type": "stream",
     "text": [
      "Epoch [1/40], Step [100/550], Accuracy: 4.6875%, Loss: 3.6268\n",
      "Epoch [1/40], Step [200/550], Accuracy: 4.6875%, Loss: 3.4667\n",
      "Epoch [1/40], Step [300/550], Accuracy: 19.53125%, Loss: 2.9172\n",
      "Epoch [1/40], Step [400/550], Accuracy: 32.8125%, Loss: 2.1728\n",
      "Epoch [1/40], Step [500/550], Accuracy: 34.375%, Loss: 2.2117\n",
      "Epoch [2/40], Step [100/550], Accuracy: 42.1875%, Loss: 1.8117\n",
      "Epoch [2/40], Step [200/550], Accuracy: 56.25%, Loss: 1.4664\n",
      "Epoch [2/40], Step [300/550], Accuracy: 50.0%, Loss: 1.5555\n",
      "Epoch [2/40], Step [400/550], Accuracy: 65.625%, Loss: 1.0425\n",
      "Epoch [2/40], Step [500/550], Accuracy: 69.53125%, Loss: 0.9035\n",
      "Epoch [3/40], Step [100/550], Accuracy: 72.65625%, Loss: 0.7467\n",
      "Epoch [3/40], Step [200/550], Accuracy: 78.125%, Loss: 0.7478\n",
      "Epoch [3/40], Step [300/550], Accuracy: 81.25%, Loss: 0.5815\n",
      "Epoch [3/40], Step [400/550], Accuracy: 83.59375%, Loss: 0.6220\n",
      "Epoch [3/40], Step [500/550], Accuracy: 82.03125%, Loss: 0.6144\n",
      "Epoch [4/40], Step [100/550], Accuracy: 89.0625%, Loss: 0.3843\n",
      "Epoch [4/40], Step [200/550], Accuracy: 85.9375%, Loss: 0.4204\n",
      "Epoch [4/40], Step [300/550], Accuracy: 88.28125%, Loss: 0.3818\n",
      "Epoch [4/40], Step [400/550], Accuracy: 85.9375%, Loss: 0.5261\n",
      "Epoch [4/40], Step [500/550], Accuracy: 85.15625%, Loss: 0.3673\n",
      "Epoch [5/40], Step [100/550], Accuracy: 89.0625%, Loss: 0.3447\n",
      "Epoch [5/40], Step [200/550], Accuracy: 88.28125%, Loss: 0.3969\n",
      "Epoch [5/40], Step [300/550], Accuracy: 93.75%, Loss: 0.1680\n",
      "Epoch [5/40], Step [400/550], Accuracy: 94.53125%, Loss: 0.1770\n",
      "Epoch [5/40], Step [500/550], Accuracy: 92.1875%, Loss: 0.2918\n",
      "Epoch [6/40], Step [100/550], Accuracy: 91.40625%, Loss: 0.2121\n",
      "Epoch [6/40], Step [200/550], Accuracy: 94.53125%, Loss: 0.2361\n",
      "Epoch [6/40], Step [300/550], Accuracy: 92.96875%, Loss: 0.2107\n",
      "Epoch [6/40], Step [400/550], Accuracy: 91.40625%, Loss: 0.3368\n",
      "Epoch [6/40], Step [500/550], Accuracy: 87.5%, Loss: 0.4041\n",
      "Epoch [7/40], Step [100/550], Accuracy: 95.3125%, Loss: 0.1280\n",
      "Epoch [7/40], Step [200/550], Accuracy: 88.28125%, Loss: 0.2959\n",
      "Epoch [7/40], Step [300/550], Accuracy: 93.75%, Loss: 0.1872\n",
      "Epoch [7/40], Step [400/550], Accuracy: 94.53125%, Loss: 0.1988\n",
      "Epoch [7/40], Step [500/550], Accuracy: 98.4375%, Loss: 0.0907\n",
      "Epoch [8/40], Step [100/550], Accuracy: 97.65625%, Loss: 0.0760\n",
      "Epoch [8/40], Step [200/550], Accuracy: 94.53125%, Loss: 0.1205\n",
      "Epoch [8/40], Step [300/550], Accuracy: 93.75%, Loss: 0.1598\n",
      "Epoch [8/40], Step [400/550], Accuracy: 93.75%, Loss: 0.2148\n",
      "Epoch [8/40], Step [500/550], Accuracy: 96.09375%, Loss: 0.0924\n",
      "Epoch [9/40], Step [100/550], Accuracy: 99.21875%, Loss: 0.0530\n",
      "Epoch [9/40], Step [200/550], Accuracy: 96.875%, Loss: 0.1215\n",
      "Epoch [9/40], Step [300/550], Accuracy: 96.09375%, Loss: 0.1443\n",
      "Epoch [9/40], Step [400/550], Accuracy: 92.96875%, Loss: 0.2161\n",
      "Epoch [9/40], Step [500/550], Accuracy: 96.875%, Loss: 0.0761\n",
      "Epoch [10/40], Step [100/550], Accuracy: 97.65625%, Loss: 0.0786\n",
      "Epoch [10/40], Step [200/550], Accuracy: 96.09375%, Loss: 0.0921\n",
      "Epoch [10/40], Step [300/550], Accuracy: 95.3125%, Loss: 0.2411\n",
      "Epoch [10/40], Step [400/550], Accuracy: 97.65625%, Loss: 0.0823\n",
      "Epoch [10/40], Step [500/550], Accuracy: 96.09375%, Loss: 0.0879\n",
      "Epoch [11/40], Step [100/550], Accuracy: 100.0%, Loss: 0.0261\n",
      "Epoch [11/40], Step [200/550], Accuracy: 99.21875%, Loss: 0.0300\n",
      "Epoch [11/40], Step [300/550], Accuracy: 96.875%, Loss: 0.1105\n",
      "Epoch [11/40], Step [400/550], Accuracy: 97.65625%, Loss: 0.1431\n",
      "Epoch [11/40], Step [500/550], Accuracy: 99.21875%, Loss: 0.0336\n",
      "Epoch [12/40], Step [100/550], Accuracy: 99.21875%, Loss: 0.0260\n",
      "Epoch [12/40], Step [200/550], Accuracy: 96.875%, Loss: 0.0533\n",
      "Epoch [12/40], Step [300/550], Accuracy: 96.875%, Loss: 0.0770\n",
      "Epoch [12/40], Step [400/550], Accuracy: 98.4375%, Loss: 0.0364\n",
      "Epoch [12/40], Step [500/550], Accuracy: 96.875%, Loss: 0.0787\n",
      "Epoch [13/40], Step [100/550], Accuracy: 99.21875%, Loss: 0.0195\n",
      "Epoch [13/40], Step [200/550], Accuracy: 97.65625%, Loss: 0.0556\n",
      "Epoch [13/40], Step [300/550], Accuracy: 99.21875%, Loss: 0.1023\n",
      "Epoch [13/40], Step [400/550], Accuracy: 98.4375%, Loss: 0.0664\n",
      "Epoch [13/40], Step [500/550], Accuracy: 98.4375%, Loss: 0.0396\n",
      "Epoch [14/40], Step [100/550], Accuracy: 98.4375%, Loss: 0.0485\n",
      "Epoch [14/40], Step [200/550], Accuracy: 94.53125%, Loss: 0.1126\n",
      "Epoch [14/40], Step [300/550], Accuracy: 98.4375%, Loss: 0.0780\n",
      "Epoch [14/40], Step [400/550], Accuracy: 98.4375%, Loss: 0.0503\n",
      "Epoch [14/40], Step [500/550], Accuracy: 100.0%, Loss: 0.0113\n",
      "Epoch [15/40], Step [100/550], Accuracy: 98.4375%, Loss: 0.0904\n",
      "Epoch [15/40], Step [200/550], Accuracy: 99.21875%, Loss: 0.0392\n",
      "Epoch [15/40], Step [300/550], Accuracy: 97.65625%, Loss: 0.0956\n",
      "Epoch [15/40], Step [400/550], Accuracy: 97.65625%, Loss: 0.0643\n",
      "Epoch [15/40], Step [500/550], Accuracy: 96.09375%, Loss: 0.0866\n",
      "Epoch [16/40], Step [100/550], Accuracy: 100.0%, Loss: 0.0159\n",
      "Epoch [16/40], Step [200/550], Accuracy: 100.0%, Loss: 0.0132\n",
      "Epoch [16/40], Step [300/550], Accuracy: 100.0%, Loss: 0.0146\n",
      "Epoch [16/40], Step [400/550], Accuracy: 100.0%, Loss: 0.0058\n",
      "Epoch [16/40], Step [500/550], Accuracy: 100.0%, Loss: 0.0194\n",
      "Epoch [17/40], Step [100/550], Accuracy: 96.875%, Loss: 0.1651\n",
      "Epoch [17/40], Step [200/550], Accuracy: 99.21875%, Loss: 0.0134\n",
      "Epoch [17/40], Step [300/550], Accuracy: 100.0%, Loss: 0.0084\n",
      "Epoch [17/40], Step [400/550], Accuracy: 98.4375%, Loss: 0.0309\n",
      "Epoch [17/40], Step [500/550], Accuracy: 97.65625%, Loss: 0.0474\n",
      "Epoch [18/40], Step [100/550], Accuracy: 98.4375%, Loss: 0.0335\n",
      "Epoch [18/40], Step [200/550], Accuracy: 99.21875%, Loss: 0.0482\n",
      "Epoch [18/40], Step [300/550], Accuracy: 99.21875%, Loss: 0.0155\n",
      "Epoch [18/40], Step [400/550], Accuracy: 100.0%, Loss: 0.0132\n",
      "Epoch [18/40], Step [500/550], Accuracy: 96.875%, Loss: 0.0469\n",
      "Epoch [19/40], Step [100/550], Accuracy: 98.4375%, Loss: 0.0310\n",
      "Epoch [19/40], Step [200/550], Accuracy: 99.21875%, Loss: 0.0257\n",
      "Epoch [19/40], Step [300/550], Accuracy: 98.4375%, Loss: 0.0254\n",
      "Epoch [19/40], Step [400/550], Accuracy: 98.4375%, Loss: 0.0505\n",
      "Epoch [19/40], Step [500/550], Accuracy: 97.65625%, Loss: 0.0576\n",
      "Epoch [20/40], Step [100/550], Accuracy: 100.0%, Loss: 0.0059\n",
      "Epoch [20/40], Step [200/550], Accuracy: 98.4375%, Loss: 0.0580\n",
      "Epoch [20/40], Step [300/550], Accuracy: 99.21875%, Loss: 0.0105\n",
      "Epoch [20/40], Step [400/550], Accuracy: 100.0%, Loss: 0.0040\n",
      "Epoch [20/40], Step [500/550], Accuracy: 99.21875%, Loss: 0.0362\n",
      "Epoch [21/40], Step [100/550], Accuracy: 99.21875%, Loss: 0.0202\n",
      "Epoch [21/40], Step [200/550], Accuracy: 98.4375%, Loss: 0.0369\n",
      "Epoch [21/40], Step [300/550], Accuracy: 99.21875%, Loss: 0.0403\n",
      "Epoch [21/40], Step [400/550], Accuracy: 98.4375%, Loss: 0.0846\n",
      "Epoch [21/40], Step [500/550], Accuracy: 99.21875%, Loss: 0.0205\n",
      "Epoch [22/40], Step [100/550], Accuracy: 100.0%, Loss: 0.0031\n",
      "Epoch [22/40], Step [200/550], Accuracy: 99.21875%, Loss: 0.0277\n",
      "Epoch [22/40], Step [300/550], Accuracy: 98.4375%, Loss: 0.0221\n",
      "Epoch [22/40], Step [400/550], Accuracy: 100.0%, Loss: 0.0073\n",
      "Epoch [22/40], Step [500/550], Accuracy: 100.0%, Loss: 0.0012\n",
      "Epoch [23/40], Step [100/550], Accuracy: 100.0%, Loss: 0.0082\n",
      "Epoch [23/40], Step [200/550], Accuracy: 99.21875%, Loss: 0.0447\n",
      "Epoch [23/40], Step [300/550], Accuracy: 99.21875%, Loss: 0.0170\n",
      "Epoch [23/40], Step [400/550], Accuracy: 99.21875%, Loss: 0.0156\n",
      "Epoch [23/40], Step [500/550], Accuracy: 100.0%, Loss: 0.0039\n",
      "Epoch [24/40], Step [100/550], Accuracy: 99.21875%, Loss: 0.0268\n",
      "Epoch [24/40], Step [200/550], Accuracy: 97.65625%, Loss: 0.0747\n",
      "Epoch [24/40], Step [300/550], Accuracy: 100.0%, Loss: 0.0085\n",
      "Epoch [24/40], Step [400/550], Accuracy: 100.0%, Loss: 0.0006\n",
      "Epoch [24/40], Step [500/550], Accuracy: 100.0%, Loss: 0.0063\n",
      "Epoch [25/40], Step [100/550], Accuracy: 99.21875%, Loss: 0.0143\n",
      "Epoch [25/40], Step [200/550], Accuracy: 99.21875%, Loss: 0.0146\n",
      "Epoch [25/40], Step [300/550], Accuracy: 100.0%, Loss: 0.0143\n",
      "Epoch [25/40], Step [400/550], Accuracy: 100.0%, Loss: 0.0013\n",
      "Epoch [25/40], Step [500/550], Accuracy: 99.21875%, Loss: 0.0403\n",
      "Epoch [26/40], Step [100/550], Accuracy: 100.0%, Loss: 0.0091\n",
      "Epoch [26/40], Step [200/550], Accuracy: 99.21875%, Loss: 0.0137\n",
      "Epoch [26/40], Step [300/550], Accuracy: 98.4375%, Loss: 0.1083\n",
      "Epoch [26/40], Step [400/550], Accuracy: 99.21875%, Loss: 0.0256\n"
     ]
    },
    {
     "name": "stdout",
     "output_type": "stream",
     "text": [
      "Epoch [26/40], Step [500/550], Accuracy: 99.21875%, Loss: 0.0335\n",
      "Epoch [27/40], Step [100/550], Accuracy: 98.4375%, Loss: 0.0196\n",
      "Epoch [27/40], Step [200/550], Accuracy: 100.0%, Loss: 0.0033\n",
      "Epoch [27/40], Step [300/550], Accuracy: 98.4375%, Loss: 0.0438\n",
      "Epoch [27/40], Step [400/550], Accuracy: 100.0%, Loss: 0.0095\n",
      "Epoch [27/40], Step [500/550], Accuracy: 100.0%, Loss: 0.0004\n",
      "Epoch [28/40], Step [100/550], Accuracy: 100.0%, Loss: 0.0058\n",
      "Epoch [28/40], Step [200/550], Accuracy: 100.0%, Loss: 0.0030\n",
      "Epoch [28/40], Step [300/550], Accuracy: 100.0%, Loss: 0.0045\n",
      "Epoch [28/40], Step [400/550], Accuracy: 98.4375%, Loss: 0.0778\n",
      "Epoch [28/40], Step [500/550], Accuracy: 100.0%, Loss: 0.0038\n",
      "Epoch [29/40], Step [100/550], Accuracy: 99.21875%, Loss: 0.0128\n",
      "Epoch [29/40], Step [200/550], Accuracy: 97.65625%, Loss: 0.0657\n",
      "Epoch [29/40], Step [300/550], Accuracy: 100.0%, Loss: 0.0067\n",
      "Epoch [29/40], Step [400/550], Accuracy: 99.21875%, Loss: 0.0161\n",
      "Epoch [29/40], Step [500/550], Accuracy: 100.0%, Loss: 0.0084\n",
      "Epoch [30/40], Step [100/550], Accuracy: 99.21875%, Loss: 0.0312\n",
      "Epoch [30/40], Step [200/550], Accuracy: 99.21875%, Loss: 0.0472\n",
      "Epoch [30/40], Step [300/550], Accuracy: 100.0%, Loss: 0.0017\n",
      "Epoch [30/40], Step [400/550], Accuracy: 100.0%, Loss: 0.0034\n",
      "Epoch [30/40], Step [500/550], Accuracy: 99.21875%, Loss: 0.0161\n",
      "Epoch [31/40], Step [100/550], Accuracy: 100.0%, Loss: 0.0022\n",
      "Epoch [31/40], Step [200/550], Accuracy: 100.0%, Loss: 0.0009\n",
      "Epoch [31/40], Step [300/550], Accuracy: 100.0%, Loss: 0.0004\n",
      "Epoch [31/40], Step [400/550], Accuracy: 100.0%, Loss: 0.0046\n",
      "Epoch [31/40], Step [500/550], Accuracy: 100.0%, Loss: 0.0002\n",
      "Epoch [32/40], Step [100/550], Accuracy: 99.21875%, Loss: 0.0081\n",
      "Epoch [32/40], Step [200/550], Accuracy: 100.0%, Loss: 0.0002\n",
      "Epoch [32/40], Step [300/550], Accuracy: 100.0%, Loss: 0.0082\n",
      "Epoch [32/40], Step [400/550], Accuracy: 99.21875%, Loss: 0.0102\n",
      "Epoch [32/40], Step [500/550], Accuracy: 97.65625%, Loss: 0.0358\n",
      "Epoch [33/40], Step [100/550], Accuracy: 100.0%, Loss: 0.0089\n",
      "Epoch [33/40], Step [200/550], Accuracy: 98.4375%, Loss: 0.0577\n",
      "Epoch [33/40], Step [300/550], Accuracy: 98.4375%, Loss: 0.0536\n",
      "Epoch [33/40], Step [400/550], Accuracy: 100.0%, Loss: 0.0050\n",
      "Epoch [33/40], Step [500/550], Accuracy: 98.4375%, Loss: 0.0435\n",
      "Epoch [34/40], Step [100/550], Accuracy: 98.4375%, Loss: 0.0360\n",
      "Epoch [34/40], Step [200/550], Accuracy: 98.4375%, Loss: 0.0317\n",
      "Epoch [34/40], Step [300/550], Accuracy: 100.0%, Loss: 0.0014\n",
      "Epoch [34/40], Step [400/550], Accuracy: 99.21875%, Loss: 0.0328\n",
      "Epoch [34/40], Step [500/550], Accuracy: 98.4375%, Loss: 0.0272\n",
      "Epoch [35/40], Step [100/550], Accuracy: 100.0%, Loss: 0.0031\n",
      "Epoch [35/40], Step [200/550], Accuracy: 100.0%, Loss: 0.0015\n",
      "Epoch [35/40], Step [300/550], Accuracy: 99.21875%, Loss: 0.0111\n",
      "Epoch [35/40], Step [400/550], Accuracy: 100.0%, Loss: 0.0136\n",
      "Epoch [35/40], Step [500/550], Accuracy: 99.21875%, Loss: 0.0302\n",
      "Epoch [36/40], Step [100/550], Accuracy: 99.21875%, Loss: 0.0201\n",
      "Epoch [36/40], Step [200/550], Accuracy: 100.0%, Loss: 0.0023\n",
      "Epoch [36/40], Step [300/550], Accuracy: 100.0%, Loss: 0.0011\n",
      "Epoch [36/40], Step [400/550], Accuracy: 99.21875%, Loss: 0.0315\n",
      "Epoch [36/40], Step [500/550], Accuracy: 100.0%, Loss: 0.0071\n",
      "Epoch [37/40], Step [100/550], Accuracy: 100.0%, Loss: 0.0007\n",
      "Epoch [37/40], Step [200/550], Accuracy: 100.0%, Loss: 0.0020\n",
      "Epoch [37/40], Step [300/550], Accuracy: 100.0%, Loss: 0.0004\n",
      "Epoch [37/40], Step [400/550], Accuracy: 99.21875%, Loss: 0.0103\n",
      "Epoch [37/40], Step [500/550], Accuracy: 100.0%, Loss: 0.0016\n",
      "Epoch [38/40], Step [100/550], Accuracy: 100.0%, Loss: 0.0046\n",
      "Epoch [38/40], Step [200/550], Accuracy: 100.0%, Loss: 0.0020\n",
      "Epoch [38/40], Step [300/550], Accuracy: 100.0%, Loss: 0.0058\n",
      "Epoch [38/40], Step [400/550], Accuracy: 100.0%, Loss: 0.0008\n",
      "Epoch [38/40], Step [500/550], Accuracy: 99.21875%, Loss: 0.0311\n",
      "Epoch [39/40], Step [100/550], Accuracy: 100.0%, Loss: 0.0008\n",
      "Epoch [39/40], Step [200/550], Accuracy: 100.0%, Loss: 0.0002\n",
      "Epoch [39/40], Step [300/550], Accuracy: 100.0%, Loss: 0.0001\n",
      "Epoch [39/40], Step [400/550], Accuracy: 99.21875%, Loss: 0.0255\n",
      "Epoch [39/40], Step [500/550], Accuracy: 100.0%, Loss: 0.0119\n",
      "Epoch [40/40], Step [100/550], Accuracy: 100.0%, Loss: 0.0062\n",
      "Epoch [40/40], Step [200/550], Accuracy: 100.0%, Loss: 0.0008\n",
      "Epoch [40/40], Step [300/550], Accuracy: 100.0%, Loss: 0.0006\n",
      "Epoch [40/40], Step [400/550], Accuracy: 100.0%, Loss: 0.0005\n",
      "Epoch [40/40], Step [500/550], Accuracy: 100.0%, Loss: 0.0017\n",
      "Finished Training of AlexNet\n"
     ]
    }
   ],
   "source": [
    "total_step = len(train_dl)\n",
    "num_epoch = 40\n",
    "for epoch in range(num_epoch):  # loop over the dataset multiple times\n",
    "\n",
    "    running_loss = 0.0\n",
    "    for i, data in enumerate(train_dl, 0):\n",
    "        # get the inputs; data is a list of [inputs, labels]\n",
    "        inputs, labels = data[0].to(device), data[1].to(device)\n",
    "\n",
    "        # zero the parameter gradients\n",
    "        optimizer.zero_grad()\n",
    "\n",
    "        # forward + backward + optimize\n",
    "        output = AlexNet(inputs)\n",
    "        loss = criterion(output, labels)\n",
    "        loss.backward()\n",
    "        optimizer.step()\n",
    "\n",
    "        # print statistics\n",
    "        running_loss += loss.item()\n",
    "        if i % 100 == 99:    # print every 1000 mini-batches\n",
    "            correct_train = 0\n",
    "            total_train = 0\n",
    "            _, predicted = torch.max(output.data, 1)\n",
    "            total_train += labels.size(0)\n",
    "            correct_train += (predicted == labels).sum().item()\n",
    "            acc_train = 100 * correct_train/total_train\n",
    "            running_loss = 0.0\n",
    "            print ('Epoch [{}/{}], Step [{}/{}], Accuracy: {}%, Loss: {:.4f}'.format(epoch+1, num_epoch, i+1, total_step, acc_train, loss.item()))\n",
    "print('Finished Training of AlexNet')"
   ]
  },
  {
   "cell_type": "code",
   "execution_count": 9,
   "id": "7fd9f20f",
   "metadata": {
    "ExecuteTime": {
     "end_time": "2021-09-23T02:13:20.829139Z",
     "start_time": "2021-09-23T02:13:20.591086Z"
    }
   },
   "outputs": [],
   "source": [
    "dataiter = iter(train_dl)\n",
    "images, labels = dataiter.next()\n",
    "classes = ('Apple___Apple_scab', 'Apple___Black_rot', 'Apple___Cedar_apple_rust', 'Apple___healthy', 'Blueberry___healthy', 'Cherry_(including_sour)___healthy', 'Cherry_(including_sour)___Powdery_mildew', 'Corn_(maize)___Cercospora_leaf_spot Gray_leaf_spot', 'Corn_(maize)___Common_rust_', 'Corn_(maize)___healthy', 'Corn_(maize)___Northern_Leaf_Blight', 'Grape___Black_rot', 'Grape___Esca_(Black_Measles)', 'Grape___healthy', 'Grape___Leaf_blight_(Isariopsis_Leaf_Spot)', 'Orange___Haunglongbing_(Citrus_greening)', 'Peach___Bacterial_spot', 'Peach___healthy', 'Pepper,_bell___Bacterial_spot', 'Pepper,_bell___healthy', 'Potato___Early_blight', 'Potato___healthy', 'Potato___Late_blight', 'Raspberry___healthy', 'Soybean___healthy', 'Squash___Powdery_mildew', 'Strawberry___healthy', 'Strawberry___Leaf_scorch', 'Tomato___Bacterial_spot', 'Tomato___Early_blight', 'Tomato___healthy', 'Tomato___Late_blight', 'Tomato___Leaf_Mold', 'Tomato___Septoria_leaf_spot', 'Tomato___Spider_mites Two-spotted_spider_mite', 'Tomato___Target_Spot', 'Tomato___Tomato_mosaic_virus', 'Tomato___Tomato_Yellow_Leaf_Curl_Virus')"
   ]
  },
  {
   "cell_type": "code",
   "execution_count": 10,
   "id": "9aa3c644",
   "metadata": {
    "ExecuteTime": {
     "end_time": "2021-09-23T02:14:04.548896Z",
     "start_time": "2021-09-23T02:13:20.831139Z"
    }
   },
   "outputs": [
    {
     "name": "stdout",
     "output_type": "stream",
     "text": [
      "Accuracy of Apple___Apple_scab : 87 %\n",
      "Accuracy of Apple___Black_rot : 100 %\n",
      "Accuracy of Apple___Cedar_apple_rust : 100 %\n",
      "Accuracy of Apple___healthy : 100 %\n",
      "Accuracy of Blueberry___healthy : 100 %\n",
      "Accuracy of Cherry_(including_sour)___healthy : 92 %\n",
      "Accuracy of Cherry_(including_sour)___Powdery_mildew : 100 %\n",
      "Accuracy of Corn_(maize)___Cercospora_leaf_spot Gray_leaf_spot : 91 %\n",
      "Accuracy of Corn_(maize)___Common_rust_ : 100 %\n",
      "Accuracy of Corn_(maize)___healthy : 87 %\n",
      "Accuracy of Corn_(maize)___Northern_Leaf_Blight : 100 %\n",
      "Accuracy of Grape___Black_rot : 100 %\n",
      "Accuracy of Grape___Esca_(Black_Measles) : 100 %\n",
      "Accuracy of Grape___healthy : 100 %\n",
      "Accuracy of Grape___Leaf_blight_(Isariopsis_Leaf_Spot) : 100 %\n",
      "Accuracy of Orange___Haunglongbing_(Citrus_greening) : 100 %\n",
      "Accuracy of Peach___Bacterial_spot : 100 %\n",
      "Accuracy of Peach___healthy : 100 %\n",
      "Accuracy of Pepper,_bell___Bacterial_spot : 100 %\n",
      "Accuracy of Pepper,_bell___healthy : 100 %\n",
      "Accuracy of Potato___Early_blight : 100 %\n",
      "Accuracy of Potato___healthy : 100 %\n",
      "Accuracy of Potato___Late_blight : 100 %\n",
      "Accuracy of Raspberry___healthy : 100 %\n",
      "Accuracy of Soybean___healthy : 100 %\n",
      "Accuracy of Squash___Powdery_mildew : 100 %\n",
      "Accuracy of Strawberry___healthy : 91 %\n",
      "Accuracy of Strawberry___Leaf_scorch : 93 %\n",
      "Accuracy of Tomato___Bacterial_spot : 100 %\n",
      "Accuracy of Tomato___Early_blight : 93 %\n",
      "Accuracy of Tomato___healthy : 100 %\n",
      "Accuracy of Tomato___Late_blight : 91 %\n",
      "Accuracy of Tomato___Leaf_Mold : 87 %\n",
      "Accuracy of Tomato___Septoria_leaf_spot : 75 %\n",
      "Accuracy of Tomato___Spider_mites Two-spotted_spider_mite : 100 %\n",
      "Accuracy of Tomato___Target_Spot : 100 %\n",
      "Accuracy of Tomato___Tomato_mosaic_virus : 100 %\n",
      "Accuracy of Tomato___Tomato_Yellow_Leaf_Curl_Virus : 100 %\n"
     ]
    }
   ],
   "source": [
    "class_correct = list(0. for i in range(38))\n",
    "class_total = list(0. for i in range(38))\n",
    "with torch.no_grad():\n",
    "    for data in valid_dl:\n",
    "        images, labels = data[0].to(device), data[1].to(device)\n",
    "        outputs = AlexNet(images)\n",
    "        _, predicted = torch.max(outputs, 1)\n",
    "        c = (predicted == labels).squeeze()\n",
    "        for i in range(4):\n",
    "            label = labels[i]\n",
    "            class_correct[label] += c[i].item()\n",
    "            class_total[label] += 1\n",
    "\n",
    "\n",
    "for i in range(38):\n",
    "    print('Accuracy of %5s : %2d %%' % (\n",
    "        classes[i], 100 * class_correct[i] / class_total[i]))"
   ]
  },
  {
   "cell_type": "code",
   "execution_count": 11,
   "id": "be8e8b85",
   "metadata": {
    "ExecuteTime": {
     "end_time": "2021-09-23T02:14:39.621723Z",
     "start_time": "2021-09-23T02:14:04.549896Z"
    }
   },
   "outputs": [
    {
     "name": "stdout",
     "output_type": "stream",
     "text": [
      "Accuracy: 96.31 %\n"
     ]
    }
   ],
   "source": [
    "correct = 0\n",
    "total = 0\n",
    "with torch.no_grad():\n",
    "    for data in valid_dl:\n",
    "        images, labels = data[0].to(device), data[1].to(device)\n",
    "        outputs = AlexNet(images)\n",
    "        _, predicted = torch.max(outputs.data, 1)\n",
    "        total += labels.size(0)\n",
    "        correct += (predicted == labels).sum().item()\n",
    "\n",
    "print('Accuracy: %.2f %%' % (100 * correct / total))"
   ]
  },
  {
   "cell_type": "code",
   "execution_count": 13,
   "id": "7eadbd19",
   "metadata": {
    "ExecuteTime": {
     "end_time": "2021-09-23T02:48:33.001569Z",
     "start_time": "2021-09-23T02:48:32.678633Z"
    }
   },
   "outputs": [],
   "source": [
    "torch.save(AlexNet.state_dict(), '\\AlexNet.pkl')"
   ]
  },
  {
   "cell_type": "code",
   "execution_count": null,
   "id": "c7f72021",
   "metadata": {},
   "outputs": [],
   "source": []
  }
 ],
 "metadata": {
  "kernelspec": {
   "display_name": "Python 3 (ipykernel)",
   "language": "python",
   "name": "python3"
  },
  "language_info": {
   "codemirror_mode": {
    "name": "ipython",
    "version": 3
   },
   "file_extension": ".py",
   "mimetype": "text/x-python",
   "name": "python",
   "nbconvert_exporter": "python",
   "pygments_lexer": "ipython3",
   "version": "3.8.11"
  }
 },
 "nbformat": 4,
 "nbformat_minor": 5
}

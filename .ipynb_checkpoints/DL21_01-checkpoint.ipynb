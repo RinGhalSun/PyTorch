{
 "cells": [
  {
   "cell_type": "markdown",
   "id": "9c285d45",
   "metadata": {},
   "source": [
    "# 多个输入和输出通道 Channels\n",
    "### 多个输入通道\n",
    "* 彩色图像可能有RGB三个通道\n",
    "* 转换为灰度会丢失信息\n",
    "* 每个通道都有一个卷积核,结果就是所有通道卷积结果的和\n",
    "![多通道](pic/2101.svg)\n",
    "\n",
    "$$(1\\times1+2\\times2+4\\times3+5\\times4)+(0\\times0+1\\times1+3\\times2+4\\times3)=56$$\n",
    "\n",
    "### 多个输入通道\n",
    "* 输入$\\mathsf{X}:c_i\\times n_h\\times n_w$\n",
    " c: channel i:input\n",
    "* 核$\\mathsf{W}:c_i \\times k_h \\times k_w$\n",
    "* 输出$\\mathsf{Y}:m_h \\times m_w$\n",
    "\n",
    "$$\\mathsf{Y}=\\sum^{c_i}_{i=0}\\mathsf X_{i,:,:} \\star \\mathsf{W}_{i,:,:}$$\n",
    "\n",
    "### 多个输出通道\n",
    "* 无论有多少输入通道,目前我们只用到了单输出通道\n",
    "* 我们可以有多个三维卷积核,每个核生成一个输出通道\n",
    "* 输入$\\mathsf{X}:c_i\\times n_h\\times n_w$\n",
    "* 核$\\mathsf{W}:c_o \\times c_i \\times k_h \\times k_w$\n",
    "* 输出$\\mathsf{Y}:c_o \\times m_h \\times m_w$\n",
    "\n",
    "$$\\mathsf{Y}_{i,:,:}=\\mathsf{X} \\star \\mathsf{W}_{i,:,:} \\space \\mathsf{for} \\space i = 1,...,c_o$$\n",
    "\n",
    "### 多个输入和输出通道\n",
    "* 每个输出通道可以识别特定模式\n",
    "* 输入通道核识别并组合输入中的模式\n",
    "\n",
    "### $1\\times1$卷积层\n",
    "$k_h = k_w = 1$是一个受欢迎的选择,它不识别空间模式,只是融合通道\n",
    "![1x1](pic/2102.svg)\n",
    "相当于输入形状为$n_h n_w \\times c_i$,权重为$c_0 \\times c_i$的全连接\n",
    "\n",
    "### 二维卷积层\n",
    "* 输入$\\mathsf{X}:c_i\\times n_h\\times n_w$\n",
    "* 核$\\mathsf{W}:c_o \\times c_i \\times k_h \\times k_w$\n",
    "* 偏差$\\mathsf{B}:c_o \\times c_i$\n",
    "* 输出$\\mathsf{Y}:c_o \\times m_h \\times m_w$\n",
    "$$\\mathsf{Y} = \\mathsf{X} \\star \\mathsf{W}+\\mathsf{B}$$\n",
    "* 计算复杂度(浮点计算数FLOP)$O(c_ic_ok_hk_wm_hm_w)$\n",
    "$$c_i=c_o=100,\\space\\space k_h =k_w =5, \\space\\space m_h = m_w =64$$\n",
    "$$\\downarrow$$\n",
    "$$\\mathsf{1G\\space FLOP}$$\n",
    "十亿浮点运算\n",
    "* 10层,1M样本,10P Flops (CPU:0.15TF=18h, GPU:12TF=14min)"
   ]
  },
  {
   "cell_type": "markdown",
   "id": "37cc04aa",
   "metadata": {},
   "source": [
    "## 总结\n",
    "* 输出通道数是卷积层的超参数\n",
    "* 每个输入通道有独立的二维卷积核,所有通道结果相加得到一个输出通道结果\n",
    "* 每个输出通道有独立的三维卷积核"
   ]
  },
  {
   "cell_type": "code",
   "execution_count": null,
   "id": "3edbbd54",
   "metadata": {},
   "outputs": [],
   "source": []
  }
 ],
 "metadata": {
  "kernelspec": {
   "display_name": "Python 3 (ipykernel)",
   "language": "python",
   "name": "python3"
  },
  "language_info": {
   "codemirror_mode": {
    "name": "ipython",
    "version": 3
   },
   "file_extension": ".py",
   "mimetype": "text/x-python",
   "name": "python",
   "nbconvert_exporter": "python",
   "pygments_lexer": "ipython3",
   "version": "3.8.11"
  }
 },
 "nbformat": 4,
 "nbformat_minor": 5
}

{
 "cells": [
  {
   "cell_type": "code",
   "execution_count": 1,
   "id": "aa6b3fb4",
   "metadata": {
    "ExecuteTime": {
     "end_time": "2021-09-28T20:32:34.070519Z",
     "start_time": "2021-09-28T20:32:33.876476Z"
    }
   },
   "outputs": [
    {
     "ename": "OSError",
     "evalue": "[WinError 1455] 页面文件太小，无法完成操作。 Error loading \"C:\\Users\\Yueqiao\\anaconda3\\envs\\ttorch\\lib\\site-packages\\torch\\lib\\caffe2_detectron_ops_gpu.dll\" or one of its dependencies.",
     "output_type": "error",
     "traceback": [
      "\u001b[1;31m---------------------------------------------------------------------------\u001b[0m",
      "\u001b[1;31mOSError\u001b[0m                                   Traceback (most recent call last)",
      "\u001b[1;32m~\\AppData\\Local\\Temp/ipykernel_15048/3747976363.py\u001b[0m in \u001b[0;36m<module>\u001b[1;34m\u001b[0m\n\u001b[0;32m      1\u001b[0m \u001b[1;32mimport\u001b[0m \u001b[0mos\u001b[0m\u001b[1;33m\u001b[0m\u001b[1;33m\u001b[0m\u001b[0m\n\u001b[1;32m----> 2\u001b[1;33m \u001b[1;32mimport\u001b[0m \u001b[0mtorch\u001b[0m\u001b[1;33m\u001b[0m\u001b[1;33m\u001b[0m\u001b[0m\n\u001b[0m\u001b[0;32m      3\u001b[0m \u001b[1;32mimport\u001b[0m \u001b[0mmatplotlib\u001b[0m\u001b[1;33m.\u001b[0m\u001b[0mpyplot\u001b[0m \u001b[1;32mas\u001b[0m \u001b[0mplt\u001b[0m\u001b[1;33m\u001b[0m\u001b[1;33m\u001b[0m\u001b[0m\n\u001b[0;32m      4\u001b[0m \u001b[1;32mimport\u001b[0m \u001b[0mtorch\u001b[0m\u001b[1;33m.\u001b[0m\u001b[0mnn\u001b[0m \u001b[1;32mas\u001b[0m \u001b[0mnn\u001b[0m\u001b[1;33m\u001b[0m\u001b[1;33m\u001b[0m\u001b[0m\n\u001b[0;32m      5\u001b[0m \u001b[1;32mfrom\u001b[0m \u001b[0mtorch\u001b[0m\u001b[1;33m.\u001b[0m\u001b[0mutils\u001b[0m\u001b[1;33m.\u001b[0m\u001b[0mdata\u001b[0m \u001b[1;32mimport\u001b[0m \u001b[0mDataLoader\u001b[0m\u001b[1;33m\u001b[0m\u001b[1;33m\u001b[0m\u001b[0m\n",
      "\u001b[1;32m~\\anaconda3\\envs\\ttorch\\lib\\site-packages\\torch\\__init__.py\u001b[0m in \u001b[0;36m<module>\u001b[1;34m\u001b[0m\n\u001b[0;32m    122\u001b[0m                 \u001b[0merr\u001b[0m \u001b[1;33m=\u001b[0m \u001b[0mctypes\u001b[0m\u001b[1;33m.\u001b[0m\u001b[0mWinError\u001b[0m\u001b[1;33m(\u001b[0m\u001b[0mlast_error\u001b[0m\u001b[1;33m)\u001b[0m\u001b[1;33m\u001b[0m\u001b[1;33m\u001b[0m\u001b[0m\n\u001b[0;32m    123\u001b[0m                 \u001b[0merr\u001b[0m\u001b[1;33m.\u001b[0m\u001b[0mstrerror\u001b[0m \u001b[1;33m+=\u001b[0m \u001b[1;34mf' Error loading \"{dll}\" or one of its dependencies.'\u001b[0m\u001b[1;33m\u001b[0m\u001b[1;33m\u001b[0m\u001b[0m\n\u001b[1;32m--> 124\u001b[1;33m                 \u001b[1;32mraise\u001b[0m \u001b[0merr\u001b[0m\u001b[1;33m\u001b[0m\u001b[1;33m\u001b[0m\u001b[0m\n\u001b[0m\u001b[0;32m    125\u001b[0m             \u001b[1;32melif\u001b[0m \u001b[0mres\u001b[0m \u001b[1;32mis\u001b[0m \u001b[1;32mnot\u001b[0m \u001b[1;32mNone\u001b[0m\u001b[1;33m:\u001b[0m\u001b[1;33m\u001b[0m\u001b[1;33m\u001b[0m\u001b[0m\n\u001b[0;32m    126\u001b[0m                 \u001b[0mis_loaded\u001b[0m \u001b[1;33m=\u001b[0m \u001b[1;32mTrue\u001b[0m\u001b[1;33m\u001b[0m\u001b[1;33m\u001b[0m\u001b[0m\n",
      "\u001b[1;31mOSError\u001b[0m: [WinError 1455] 页面文件太小，无法完成操作。 Error loading \"C:\\Users\\Yueqiao\\anaconda3\\envs\\ttorch\\lib\\site-packages\\torch\\lib\\caffe2_detectron_ops_gpu.dll\" or one of its dependencies."
     ]
    }
   ],
   "source": [
    "import os\n",
    "import torch\n",
    "import matplotlib.pyplot as plt\n",
    "import torch.nn as nn\n",
    "from torch.utils.data import DataLoader\n",
    "from PIL import Image\n",
    "import torch.nn.functional as F\n",
    "import torchvision.transforms as transforms\n",
    "from torchvision.datasets import ImageFolder\n",
    "from lime import lime_image\n",
    "import numpy as np\n",
    "from skimage.segmentation import mark_boundaries\n",
    "%matplotlib inline"
   ]
  },
  {
   "cell_type": "code",
   "execution_count": null,
   "id": "ebdfcd47",
   "metadata": {
    "ExecuteTime": {
     "end_time": "2021-09-28T20:32:34.072520Z",
     "start_time": "2021-09-28T20:32:34.072520Z"
    }
   },
   "outputs": [],
   "source": [
    "data_dir = \"../input/plant disease regonition\"\n",
    "train_dir = data_dir + \"/train\"\n",
    "valid_dir = data_dir + \"/valid\"\n",
    "diseases = os.listdir(train_dir)\n",
    "print(diseases)\n",
    "print(len(diseases))"
   ]
  },
  {
   "cell_type": "code",
   "execution_count": null,
   "id": "d46d33e7",
   "metadata": {
    "ExecuteTime": {
     "end_time": "2021-09-28T20:32:34.073520Z",
     "start_time": "2021-09-28T20:32:34.073520Z"
    }
   },
   "outputs": [],
   "source": [
    "PATH = './plant3_VGG16_full.pth'\n",
    "model = torch.load(PATH)\n",
    "model"
   ]
  },
  {
   "cell_type": "code",
   "execution_count": null,
   "id": "487100bc",
   "metadata": {
    "ExecuteTime": {
     "end_time": "2021-09-28T20:32:34.075521Z",
     "start_time": "2021-09-28T20:32:34.074520Z"
    }
   },
   "outputs": [],
   "source": [
    "def predict_image(img, model):\n",
    "    xb = img.unsqueeze(0).cuda()\n",
    "    yb = model(xb)\n",
    "    _, preds  = torch.max(yb, dim=1)\n",
    "    return train.classes[preds[0].item()]"
   ]
  },
  {
   "cell_type": "code",
   "execution_count": null,
   "id": "4a73a4d6",
   "metadata": {
    "ExecuteTime": {
     "end_time": "2021-09-28T20:32:34.075521Z",
     "start_time": "2021-09-28T20:32:34.075521Z"
    }
   },
   "outputs": [],
   "source": [
    "transform= transforms.Compose([\n",
    "    transforms.Resize(256),\n",
    "    transforms.CenterCrop(224),\n",
    "    transforms.ToTensor(),\n",
    "    transforms.Normalize(mean=[0.485, 0.456, 0.406], std=[0.229, 0.224, 0.225]),\n",
    "])\n",
    "batch_size = 64\n",
    "train = ImageFolder(train_dir, transform=transform)\n",
    "valid = ImageFolder(valid_dir, transform=transform) \n",
    "train_dl = DataLoader(train, batch_size, shuffle=True, num_workers=0, pin_memory=True)\n",
    "valid_dl = DataLoader(valid, batch_size, num_workers=0, pin_memory=True)"
   ]
  },
  {
   "cell_type": "code",
   "execution_count": null,
   "id": "d1c7978b",
   "metadata": {
    "ExecuteTime": {
     "end_time": "2021-09-28T20:32:34.076520Z",
     "start_time": "2021-09-28T20:32:34.076520Z"
    }
   },
   "outputs": [],
   "source": [
    "test_dir = data_dir + \"/test\"\n",
    "test = ImageFolder(test_dir, transform=transform)\n",
    "test_images = sorted(os.listdir(test_dir+\"/test\"))"
   ]
  },
  {
   "cell_type": "code",
   "execution_count": null,
   "id": "1601030c",
   "metadata": {
    "ExecuteTime": {
     "end_time": "2021-09-28T20:32:34.077520Z",
     "start_time": "2021-09-28T20:32:34.077520Z"
    }
   },
   "outputs": [],
   "source": [
    "img, label = test[0]\n",
    "plt.imshow(img.permute(1, 2, 0))\n",
    "print('Label:', test_images[0], ', Predicted:', predict_image(img, model))"
   ]
  },
  {
   "cell_type": "code",
   "execution_count": null,
   "id": "57695af1",
   "metadata": {
    "ExecuteTime": {
     "end_time": "2021-09-28T20:32:34.078521Z",
     "start_time": "2021-09-28T20:32:34.078521Z"
    }
   },
   "outputs": [],
   "source": [
    "for i, (img, label) in enumerate(test):\n",
    "    print('Label:', test_images[i], ', Predicted:', predict_image(img, model), i)"
   ]
  },
  {
   "cell_type": "code",
   "execution_count": null,
   "id": "e9c685d4",
   "metadata": {
    "ExecuteTime": {
     "end_time": "2021-09-28T20:32:34.079521Z",
     "start_time": "2021-09-28T20:32:34.079521Z"
    }
   },
   "outputs": [],
   "source": [
    "def get_pil_transform(): \n",
    "    transf = transforms.Compose([\n",
    "        transforms.Resize((256, 256)),\n",
    "        transforms.CenterCrop(224)\n",
    "    ])    \n",
    "\n",
    "    return transf\n",
    "\n",
    "def get_preprocess_transform():\n",
    "    normalize = transforms.Normalize(mean=[0.485, 0.456, 0.406],\n",
    "                                    std=[0.229, 0.224, 0.225])     \n",
    "    transf = transforms.Compose([\n",
    "        transforms.ToTensor(),\n",
    "        normalize\n",
    "    ])    \n",
    "\n",
    "    return transf    \n",
    "\n",
    "pill_transf = get_pil_transform()\n",
    "preprocess_transform = get_preprocess_transform()\n",
    "def batch_predict(images):\n",
    "    model.eval()\n",
    "    batch = torch.stack(tuple(preprocess_transform(i) for i in images), dim=0)\n",
    "\n",
    "    device = torch.device(\"cuda\")\n",
    "    model.to(device)\n",
    "    batch = batch.to(device)\n",
    "    \n",
    "    logits = model(batch)\n",
    "    probs = F.softmax(logits, dim=1)\n",
    "    return probs.detach().cpu().numpy()"
   ]
  },
  {
   "cell_type": "code",
   "execution_count": null,
   "id": "a6d93361",
   "metadata": {
    "ExecuteTime": {
     "end_time": "2021-09-28T20:32:34.080521Z",
     "start_time": "2021-09-28T20:32:34.080521Z"
    }
   },
   "outputs": [],
   "source": [
    "def get_image(path):\n",
    "    with open(os.path.abspath(path), 'rb') as f:\n",
    "        with Image.open(f) as img:\n",
    "            return img.convert('RGB') \n",
    "        \n",
    "img = get_image(data_dir+'/test/test/Rust (11).JPG')\n",
    "plt.imshow(img)"
   ]
  },
  {
   "cell_type": "code",
   "execution_count": null,
   "id": "a4dc7a70",
   "metadata": {
    "ExecuteTime": {
     "end_time": "2021-09-28T20:32:34.082522Z",
     "start_time": "2021-09-28T20:32:34.082522Z"
    }
   },
   "outputs": [],
   "source": [
    "test_pred = batch_predict([pill_transf(img)])\n",
    "test_pred.squeeze().argmax()\n",
    "explainer = lime_image.LimeImageExplainer()\n",
    "explanation = explainer.explain_instance(np.array(pill_transf(img)), \n",
    "                                         batch_predict, # classification function\n",
    "                                         top_labels=5, \n",
    "                                         hide_color=0, \n",
    "                                         num_samples=1000)\n",
    "temp, mask = explanation.get_image_and_mask(explanation.top_labels[0], positive_only=True, num_features=5, hide_rest=False)\n",
    "img_boundry1 = mark_boundaries(temp/255.0, mask)\n",
    "plt.imshow(img_boundry1)"
   ]
  },
  {
   "cell_type": "code",
   "execution_count": null,
   "id": "13971bf1",
   "metadata": {
    "ExecuteTime": {
     "end_time": "2021-09-28T20:32:34.083522Z",
     "start_time": "2021-09-28T20:32:34.083522Z"
    }
   },
   "outputs": [],
   "source": [
    "temp, mask = explanation.get_image_and_mask(explanation.top_labels[0], positive_only=False, num_features=10, hide_rest=False)\n",
    "img_boundry2 = mark_boundaries(temp/255.0, mask)\n",
    "plt.imshow(img_boundry2)"
   ]
  },
  {
   "cell_type": "code",
   "execution_count": null,
   "id": "20790757",
   "metadata": {
    "ExecuteTime": {
     "end_time": "2021-09-28T20:32:34.084522Z",
     "start_time": "2021-09-28T20:32:34.084522Z"
    }
   },
   "outputs": [],
   "source": [
    "img, label = test[49]\n",
    "plt.imshow(img.permute(1, 2, 0))\n",
    "print('Label:', test_images[49], ', Predicted:', predict_image(img, model))"
   ]
  },
  {
   "cell_type": "code",
   "execution_count": null,
   "id": "9b2d3055",
   "metadata": {
    "ExecuteTime": {
     "end_time": "2021-09-28T20:32:34.085523Z",
     "start_time": "2021-09-28T20:32:34.085523Z"
    }
   },
   "outputs": [],
   "source": [
    "img = get_image(data_dir+'/test/test/Healthy (16).JPG')\n",
    "plt.imshow(img)"
   ]
  },
  {
   "cell_type": "code",
   "execution_count": null,
   "id": "2724d9d8",
   "metadata": {
    "ExecuteTime": {
     "end_time": "2021-09-28T20:32:34.086523Z",
     "start_time": "2021-09-28T20:32:34.086523Z"
    }
   },
   "outputs": [],
   "source": [
    "test_pred = batch_predict([pill_transf(img)])\n",
    "test_pred.squeeze().argmax()"
   ]
  },
  {
   "cell_type": "code",
   "execution_count": null,
   "id": "7f29b523",
   "metadata": {
    "ExecuteTime": {
     "end_time": "2021-09-28T20:32:34.087523Z",
     "start_time": "2021-09-28T20:32:34.087523Z"
    }
   },
   "outputs": [],
   "source": [
    "explainer = lime_image.LimeImageExplainer()\n",
    "explanation = explainer.explain_instance(np.array(pill_transf(img)), \n",
    "                                         batch_predict,\n",
    "                                         top_labels=5, \n",
    "                                         hide_color=0, \n",
    "                                         num_samples=1000)"
   ]
  },
  {
   "cell_type": "code",
   "execution_count": null,
   "id": "2b89ca58",
   "metadata": {
    "ExecuteTime": {
     "end_time": "2021-09-28T20:32:34.088523Z",
     "start_time": "2021-09-28T20:32:34.088523Z"
    }
   },
   "outputs": [],
   "source": [
    "from skimage.segmentation import mark_boundaries"
   ]
  },
  {
   "cell_type": "code",
   "execution_count": null,
   "id": "33f38cde",
   "metadata": {
    "ExecuteTime": {
     "end_time": "2021-09-28T20:32:34.089524Z",
     "start_time": "2021-09-28T20:32:34.089524Z"
    }
   },
   "outputs": [],
   "source": [
    "temp, mask = explanation.get_image_and_mask(explanation.top_labels[0], positive_only=True, num_features=5, hide_rest=False)\n",
    "img_boundry1 = mark_boundaries(temp/255.0, mask)\n",
    "plt.imshow(img_boundry1)"
   ]
  },
  {
   "cell_type": "code",
   "execution_count": null,
   "id": "a99410ea",
   "metadata": {
    "ExecuteTime": {
     "end_time": "2021-09-28T20:32:34.090524Z",
     "start_time": "2021-09-28T20:32:34.090524Z"
    }
   },
   "outputs": [],
   "source": [
    "temp, mask = explanation.get_image_and_mask(explanation.top_labels[0], positive_only=False, num_features=10, hide_rest=False)\n",
    "img_boundry2 = mark_boundaries(temp/255.0, mask)\n",
    "plt.imshow(img_boundry2)"
   ]
  },
  {
   "cell_type": "code",
   "execution_count": null,
   "id": "0f6c21a2",
   "metadata": {
    "ExecuteTime": {
     "end_time": "2021-09-28T20:32:34.090524Z",
     "start_time": "2021-09-28T20:32:34.090524Z"
    }
   },
   "outputs": [],
   "source": [
    "img, label = test[14]\n",
    "plt.imshow(img.permute(1, 2, 0))\n",
    "print('Label:', test_images[14], ', Predicted:', predict_image(img, model))"
   ]
  },
  {
   "cell_type": "code",
   "execution_count": null,
   "id": "ddbbf1da",
   "metadata": {
    "ExecuteTime": {
     "end_time": "2021-09-28T20:32:34.092524Z",
     "start_time": "2021-09-28T20:32:34.092524Z"
    }
   },
   "outputs": [],
   "source": [
    "img = get_image(data_dir+'/test/test/Healthy (4).JPG')\n",
    "plt.imshow(img)"
   ]
  },
  {
   "cell_type": "code",
   "execution_count": null,
   "id": "6aaa2596",
   "metadata": {
    "ExecuteTime": {
     "end_time": "2021-09-28T20:32:34.093525Z",
     "start_time": "2021-09-28T20:32:34.093525Z"
    }
   },
   "outputs": [],
   "source": [
    "test_pred = batch_predict([pill_transf(img)])\n",
    "test_pred.squeeze().argmax()\n",
    "explainer = lime_image.LimeImageExplainer()\n",
    "explanation = explainer.explain_instance(np.array(pill_transf(img)), \n",
    "                                         batch_predict, # classification function\n",
    "                                         top_labels=5, \n",
    "                                         hide_color=0, \n",
    "                                         num_samples=1000)"
   ]
  },
  {
   "cell_type": "code",
   "execution_count": null,
   "id": "c89382b8",
   "metadata": {
    "ExecuteTime": {
     "end_time": "2021-09-28T20:32:34.094525Z",
     "start_time": "2021-09-28T20:32:34.094525Z"
    }
   },
   "outputs": [],
   "source": [
    "temp, mask = explanation.get_image_and_mask(explanation.top_labels[0], positive_only=True, num_features=5, hide_rest=False)\n",
    "img_boundry1 = mark_boundaries(temp/255.0, mask)\n",
    "plt.imshow(img_boundry1)"
   ]
  },
  {
   "cell_type": "code",
   "execution_count": null,
   "id": "dd05bd92",
   "metadata": {
    "ExecuteTime": {
     "end_time": "2021-09-28T20:32:34.095525Z",
     "start_time": "2021-09-28T20:32:34.095525Z"
    }
   },
   "outputs": [],
   "source": [
    "temp, mask = explanation.get_image_and_mask(explanation.top_labels[0], positive_only=False, num_features=10, hide_rest=False)\n",
    "img_boundry2 = mark_boundaries(temp/255.0, mask)\n",
    "plt.imshow(img_boundry2)"
   ]
  },
  {
   "cell_type": "code",
   "execution_count": null,
   "id": "5da250ed",
   "metadata": {
    "ExecuteTime": {
     "end_time": "2021-09-28T20:32:34.096525Z",
     "start_time": "2021-09-28T20:32:34.096525Z"
    }
   },
   "outputs": [],
   "source": [
    "img = get_image(data_dir+'/test/test/Healthy (16).JPG')\n",
    "plt.imshow(img)"
   ]
  },
  {
   "cell_type": "code",
   "execution_count": null,
   "id": "d5ed3030",
   "metadata": {
    "ExecuteTime": {
     "end_time": "2021-09-28T20:32:34.098526Z",
     "start_time": "2021-09-28T20:32:34.098526Z"
    }
   },
   "outputs": [],
   "source": [
    "test_pred = batch_predict([pill_transf(img)])\n",
    "test_pred.squeeze().argmax()"
   ]
  },
  {
   "cell_type": "code",
   "execution_count": null,
   "id": "32d5e7c5",
   "metadata": {
    "ExecuteTime": {
     "end_time": "2021-09-28T20:32:34.099526Z",
     "start_time": "2021-09-28T20:32:34.099526Z"
    }
   },
   "outputs": [],
   "source": [
    "explainer = lime_image.LimeImageExplainer()\n",
    "explanation = explainer.explain_instance(np.array(pill_transf(img)), \n",
    "                                         batch_predict,\n",
    "                                         top_labels=5, \n",
    "                                         hide_color=0, \n",
    "                                         num_samples=1000)"
   ]
  },
  {
   "cell_type": "code",
   "execution_count": null,
   "id": "21de1d5b",
   "metadata": {
    "ExecuteTime": {
     "end_time": "2021-09-28T20:32:34.100526Z",
     "start_time": "2021-09-28T20:32:34.100526Z"
    }
   },
   "outputs": [],
   "source": [
    "temp, mask = explanation.get_image_and_mask(explanation.top_labels[0], positive_only=True, num_features=5, hide_rest=False)\n",
    "img_boundry1 = mark_boundaries(temp/255.0, mask)\n",
    "plt.imshow(img_boundry1)"
   ]
  },
  {
   "cell_type": "code",
   "execution_count": null,
   "id": "0c80b4b0",
   "metadata": {
    "ExecuteTime": {
     "end_time": "2021-09-28T20:32:34.101526Z",
     "start_time": "2021-09-28T20:32:34.101526Z"
    }
   },
   "outputs": [],
   "source": [
    "temp, mask = explanation.get_image_and_mask(explanation.top_labels[0], positive_only=False, num_features=10, hide_rest=False)\n",
    "img_boundry2 = mark_boundaries(temp/255.0, mask)\n",
    "plt.imshow(img_boundry2)"
   ]
  },
  {
   "cell_type": "code",
   "execution_count": null,
   "id": "2c804722",
   "metadata": {
    "ExecuteTime": {
     "end_time": "2021-09-28T20:32:34.103527Z",
     "start_time": "2021-09-28T20:32:34.103527Z"
    }
   },
   "outputs": [],
   "source": [
    "img = get_image(data_dir+'/test/test/Powdery (19).JPG')\n",
    "plt.imshow(img)"
   ]
  },
  {
   "cell_type": "code",
   "execution_count": null,
   "id": "62d824bf",
   "metadata": {
    "ExecuteTime": {
     "end_time": "2021-09-28T20:32:34.104527Z",
     "start_time": "2021-09-28T20:32:34.104527Z"
    }
   },
   "outputs": [],
   "source": [
    "test_pred = batch_predict([pill_transf(img)])\n",
    "test_pred.squeeze().argmax()\n",
    "explainer = lime_image.LimeImageExplainer()\n",
    "explanation = explainer.explain_instance(np.array(pill_transf(img)), \n",
    "                                         batch_predict, # classification function\n",
    "                                         top_labels=5, \n",
    "                                         hide_color=0, \n",
    "                                         num_samples=1000)\n",
    "temp, mask = explanation.get_image_and_mask(explanation.top_labels[0], positive_only=True, num_features=5, hide_rest=False)\n",
    "img_boundry1 = mark_boundaries(temp/255.0, mask)\n",
    "plt.imshow(img_boundry1)"
   ]
  },
  {
   "cell_type": "code",
   "execution_count": null,
   "id": "9d3bba3b",
   "metadata": {
    "ExecuteTime": {
     "end_time": "2021-09-28T20:32:34.105527Z",
     "start_time": "2021-09-28T20:32:34.105527Z"
    }
   },
   "outputs": [],
   "source": [
    "temp, mask = explanation.get_image_and_mask(explanation.top_labels[0], positive_only=False, num_features=10, hide_rest=False)\n",
    "img_boundry2 = mark_boundaries(temp/255.0, mask)\n",
    "plt.imshow(img_boundry2)"
   ]
  },
  {
   "cell_type": "code",
   "execution_count": null,
   "id": "2c5f98b9",
   "metadata": {},
   "outputs": [],
   "source": []
  }
 ],
 "metadata": {
  "kernelspec": {
   "display_name": "Python 3 (ipykernel)",
   "language": "python",
   "name": "python3"
  },
  "language_info": {
   "codemirror_mode": {
    "name": "ipython",
    "version": 3
   },
   "file_extension": ".py",
   "mimetype": "text/x-python",
   "name": "python",
   "nbconvert_exporter": "python",
   "pygments_lexer": "ipython3",
   "version": "3.8.11"
  }
 },
 "nbformat": 4,
 "nbformat_minor": 5
}

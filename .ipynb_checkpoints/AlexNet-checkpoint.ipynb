{
 "cells": [
  {
   "cell_type": "markdown",
   "id": "35a1ea46",
   "metadata": {},
   "source": [
    "# Alex"
   ]
  },
  {
   "cell_type": "code",
   "execution_count": 1,
   "id": "23e19c27",
   "metadata": {
    "ExecuteTime": {
     "end_time": "2021-09-22T20:13:07.931141Z",
     "start_time": "2021-09-22T20:13:07.100955Z"
    }
   },
   "outputs": [],
   "source": [
    "import os\n",
    "import torch\n",
    "import matplotlib.pyplot as plt\n",
    "import torch.nn as nn\n",
    "from torch.utils.data import DataLoader\n",
    "from PIL import Image\n",
    "import torch.nn.functional as F\n",
    "import torchvision.transforms as transforms\n",
    "from torchvision.datasets import ImageFolder  \n",
    "%matplotlib inline"
   ]
  },
  {
   "cell_type": "code",
   "execution_count": 2,
   "id": "0d3783bc",
   "metadata": {
    "ExecuteTime": {
     "end_time": "2021-09-22T20:13:07.947145Z",
     "start_time": "2021-09-22T20:13:07.932142Z"
    }
   },
   "outputs": [
    {
     "name": "stdout",
     "output_type": "stream",
     "text": [
      "['Corn_(maize)___Cercospora_leaf_spot Gray_leaf_spot', 'Corn_(maize)___Common_rust_', 'Corn_(maize)___healthy', 'Corn_(maize)___Northern_Leaf_Blight']\n",
      "4\n"
     ]
    }
   ],
   "source": [
    "data_dir = \"../input/New Plant Diseases Dataset2\"\n",
    "train_dir = data_dir + \"/train\"\n",
    "valid_dir = data_dir + \"/valid\"\n",
    "diseases = os.listdir(train_dir)\n",
    "print(diseases)\n",
    "print(len(diseases))"
   ]
  },
  {
   "cell_type": "code",
   "execution_count": 3,
   "id": "9e686d41",
   "metadata": {
    "ExecuteTime": {
     "end_time": "2021-09-22T20:13:07.963148Z",
     "start_time": "2021-09-22T20:13:07.948145Z"
    }
   },
   "outputs": [],
   "source": [
    "transform= transforms.Compose([\n",
    "    transforms.Resize(256),\n",
    "    transforms.CenterCrop(224),\n",
    "    transforms.ToTensor(),\n",
    "    transforms.Normalize(mean=[0.485, 0.456, 0.406], std=[0.229, 0.224, 0.225]),\n",
    "])"
   ]
  },
  {
   "cell_type": "code",
   "execution_count": 4,
   "id": "433a5e1d",
   "metadata": {
    "ExecuteTime": {
     "end_time": "2021-09-22T20:13:08.043166Z",
     "start_time": "2021-09-22T20:13:07.964149Z"
    }
   },
   "outputs": [],
   "source": [
    "batch_size = 128\n",
    "train = ImageFolder(train_dir, transform=transform)\n",
    "valid = ImageFolder(valid_dir, transform=transform) \n",
    "train_dl = DataLoader(train, batch_size, shuffle=True, num_workers=2, pin_memory=True)\n",
    "valid_dl = DataLoader(valid, batch_size, num_workers=2, pin_memory=True)"
   ]
  },
  {
   "cell_type": "code",
   "execution_count": 5,
   "id": "c8360cca",
   "metadata": {
    "ExecuteTime": {
     "end_time": "2021-09-22T20:13:09.447481Z",
     "start_time": "2021-09-22T20:13:08.044166Z"
    }
   },
   "outputs": [],
   "source": [
    "AlexNet = nn.Sequential(\n",
    "    # 这里，我们使Q用一个11*11的更大窗口来捕捉对象。\n",
    "    # 同时，步幅为4，以减少输出的高度和宽度。\n",
    "    # 另外，输出通道的数目远大于LeNet\n",
    "    nn.Conv2d(3, 64, kernel_size=11, stride=4, padding=2), nn.ReLU(),\n",
    "    nn.MaxPool2d(kernel_size=3, stride=2),\n",
    "    # 减小卷积窗口，使用填充为2来使得输入与输出的高和宽一致，且增大输出通道数\n",
    "    nn.Conv2d(64, 192, kernel_size=5, padding=2), nn.ReLU(),\n",
    "    nn.MaxPool2d(kernel_size=3, stride=2),\n",
    "    # 使用三个连续的卷积层和较小的卷积窗口。\n",
    "    # 除了最后的卷积层，输出通道的数量进一步增加。\n",
    "    # 在前两个卷积层之后，汇聚层不用于减少输入的高度和宽度\n",
    "    nn.Conv2d(192, 384, kernel_size=3, padding=1), nn.ReLU(),\n",
    "    nn.Conv2d(384, 256, kernel_size=3, padding=1), nn.ReLU(),\n",
    "    nn.Conv2d(256, 256, kernel_size=3, padding=1), nn.ReLU(),\n",
    "    nn.MaxPool2d(kernel_size=3, stride=2),\n",
    "    nn.Flatten(),\n",
    "    # 这里，全连接层的输出数量是LeNet中的好几倍。使用dropout层来减轻过度拟合\n",
    "    nn.Linear(9216, 2048), nn.ReLU(),\n",
    "    nn.Dropout(p=0.5),\n",
    "    nn.Linear(2048, 512), nn.ReLU(),\n",
    "    nn.Dropout(p=0.5),\n",
    "    # 最后是输出层。由于这里使用Fashion-MNIST，所以用类别数为10，而非论文中的1000\n",
    "    nn.Linear(512, 4)).cuda()"
   ]
  },
  {
   "cell_type": "code",
   "execution_count": 6,
   "id": "345cf8d3",
   "metadata": {
    "ExecuteTime": {
     "end_time": "2021-09-22T20:13:09.463485Z",
     "start_time": "2021-09-22T20:13:09.448482Z"
    }
   },
   "outputs": [
    {
     "data": {
      "text/plain": [
       "device(type='cuda', index=0)"
      ]
     },
     "execution_count": 6,
     "metadata": {},
     "output_type": "execute_result"
    }
   ],
   "source": [
    "device = torch.device('cuda:0')\n",
    "device"
   ]
  },
  {
   "cell_type": "code",
   "execution_count": 7,
   "id": "4fe09e4d",
   "metadata": {
    "ExecuteTime": {
     "end_time": "2021-09-22T20:13:09.479489Z",
     "start_time": "2021-09-22T20:13:09.464485Z"
    }
   },
   "outputs": [],
   "source": [
    "import torch.optim as optim\n",
    "\n",
    "criterion = nn.CrossEntropyLoss()\n",
    "optimizer = optim.SGD(AlexNet.parameters(), lr=0.008, momentum=0.9)"
   ]
  },
  {
   "cell_type": "code",
   "execution_count": 8,
   "id": "b5896b5d",
   "metadata": {
    "ExecuteTime": {
     "end_time": "2021-09-22T20:16:44.561791Z",
     "start_time": "2021-09-22T20:13:09.480489Z"
    }
   },
   "outputs": [
    {
     "name": "stderr",
     "output_type": "stream",
     "text": [
      "C:\\Users\\Yueqiao\\anaconda3\\envs\\ttorch\\lib\\site-packages\\torch\\nn\\functional.py:718: UserWarning: Named tensors and all their associated APIs are an experimental feature and subject to change. Please do not use them for anything important until they are released as stable. (Triggered internally at  ..\\c10/core/TensorImpl.h:1156.)\n",
      "  return torch.max_pool2d(input, kernel_size, stride, padding, dilation, ceil_mode)\n"
     ]
    },
    {
     "name": "stdout",
     "output_type": "stream",
     "text": [
      "Epoch [1/20], Step [10/58], Accuracy: 22.65625%, Loss: 1.3877\n",
      "Epoch [1/20], Step [20/58], Accuracy: 28.90625%, Loss: 1.3830\n",
      "Epoch [1/20], Step [30/58], Accuracy: 42.1875%, Loss: 1.3781\n",
      "Epoch [1/20], Step [40/58], Accuracy: 38.28125%, Loss: 1.3752\n",
      "Epoch [1/20], Step [50/58], Accuracy: 45.3125%, Loss: 1.3570\n",
      "Epoch [2/20], Step [10/58], Accuracy: 52.34375%, Loss: 1.2197\n",
      "Epoch [2/20], Step [20/58], Accuracy: 66.40625%, Loss: 0.9769\n",
      "Epoch [2/20], Step [30/58], Accuracy: 62.5%, Loss: 0.7829\n",
      "Epoch [2/20], Step [40/58], Accuracy: 71.875%, Loss: 0.7239\n",
      "Epoch [2/20], Step [50/58], Accuracy: 71.09375%, Loss: 0.6411\n",
      "Epoch [3/20], Step [10/58], Accuracy: 75.0%, Loss: 0.5492\n",
      "Epoch [3/20], Step [20/58], Accuracy: 81.25%, Loss: 0.4417\n",
      "Epoch [3/20], Step [30/58], Accuracy: 78.90625%, Loss: 0.4670\n",
      "Epoch [3/20], Step [40/58], Accuracy: 81.25%, Loss: 0.4454\n",
      "Epoch [3/20], Step [50/58], Accuracy: 81.25%, Loss: 0.3690\n",
      "Epoch [4/20], Step [10/58], Accuracy: 79.6875%, Loss: 0.4230\n",
      "Epoch [4/20], Step [20/58], Accuracy: 87.5%, Loss: 0.3030\n",
      "Epoch [4/20], Step [30/58], Accuracy: 88.28125%, Loss: 0.2714\n",
      "Epoch [4/20], Step [40/58], Accuracy: 87.5%, Loss: 0.2962\n",
      "Epoch [4/20], Step [50/58], Accuracy: 93.75%, Loss: 0.2523\n",
      "Epoch [5/20], Step [10/58], Accuracy: 92.1875%, Loss: 0.2600\n",
      "Epoch [5/20], Step [20/58], Accuracy: 92.1875%, Loss: 0.2112\n",
      "Epoch [5/20], Step [30/58], Accuracy: 92.1875%, Loss: 0.2577\n",
      "Epoch [5/20], Step [40/58], Accuracy: 89.84375%, Loss: 0.2309\n",
      "Epoch [5/20], Step [50/58], Accuracy: 96.875%, Loss: 0.1247\n",
      "Epoch [6/20], Step [10/58], Accuracy: 92.96875%, Loss: 0.1900\n",
      "Epoch [6/20], Step [20/58], Accuracy: 90.625%, Loss: 0.2621\n",
      "Epoch [6/20], Step [30/58], Accuracy: 96.09375%, Loss: 0.1262\n",
      "Epoch [6/20], Step [40/58], Accuracy: 90.625%, Loss: 0.1957\n",
      "Epoch [6/20], Step [50/58], Accuracy: 95.3125%, Loss: 0.1648\n",
      "Epoch [7/20], Step [10/58], Accuracy: 88.28125%, Loss: 0.2845\n",
      "Epoch [7/20], Step [20/58], Accuracy: 90.625%, Loss: 0.2270\n",
      "Epoch [7/20], Step [30/58], Accuracy: 94.53125%, Loss: 0.1998\n",
      "Epoch [7/20], Step [40/58], Accuracy: 95.3125%, Loss: 0.1313\n",
      "Epoch [7/20], Step [50/58], Accuracy: 96.09375%, Loss: 0.1875\n",
      "Epoch [8/20], Step [10/58], Accuracy: 92.1875%, Loss: 0.1785\n",
      "Epoch [8/20], Step [20/58], Accuracy: 93.75%, Loss: 0.1664\n",
      "Epoch [8/20], Step [30/58], Accuracy: 96.875%, Loss: 0.0994\n",
      "Epoch [8/20], Step [40/58], Accuracy: 95.3125%, Loss: 0.1241\n",
      "Epoch [8/20], Step [50/58], Accuracy: 89.0625%, Loss: 0.2859\n",
      "Epoch [9/20], Step [10/58], Accuracy: 96.875%, Loss: 0.0753\n",
      "Epoch [9/20], Step [20/58], Accuracy: 92.96875%, Loss: 0.1975\n",
      "Epoch [9/20], Step [30/58], Accuracy: 96.09375%, Loss: 0.1378\n",
      "Epoch [9/20], Step [40/58], Accuracy: 92.1875%, Loss: 0.2210\n",
      "Epoch [9/20], Step [50/58], Accuracy: 95.3125%, Loss: 0.1701\n",
      "Epoch [10/20], Step [10/58], Accuracy: 92.96875%, Loss: 0.1916\n",
      "Epoch [10/20], Step [20/58], Accuracy: 96.09375%, Loss: 0.1456\n",
      "Epoch [10/20], Step [30/58], Accuracy: 94.53125%, Loss: 0.1403\n",
      "Epoch [10/20], Step [40/58], Accuracy: 96.875%, Loss: 0.0981\n",
      "Epoch [10/20], Step [50/58], Accuracy: 98.4375%, Loss: 0.0464\n",
      "Epoch [11/20], Step [10/58], Accuracy: 94.53125%, Loss: 0.1444\n",
      "Epoch [11/20], Step [20/58], Accuracy: 95.3125%, Loss: 0.1380\n",
      "Epoch [11/20], Step [30/58], Accuracy: 92.96875%, Loss: 0.1903\n",
      "Epoch [11/20], Step [40/58], Accuracy: 95.3125%, Loss: 0.1128\n",
      "Epoch [11/20], Step [50/58], Accuracy: 96.09375%, Loss: 0.1312\n",
      "Epoch [12/20], Step [10/58], Accuracy: 98.4375%, Loss: 0.0378\n",
      "Epoch [12/20], Step [20/58], Accuracy: 94.53125%, Loss: 0.1773\n",
      "Epoch [12/20], Step [30/58], Accuracy: 99.21875%, Loss: 0.0505\n",
      "Epoch [12/20], Step [40/58], Accuracy: 95.3125%, Loss: 0.0874\n",
      "Epoch [12/20], Step [50/58], Accuracy: 95.3125%, Loss: 0.1182\n",
      "Epoch [13/20], Step [10/58], Accuracy: 96.09375%, Loss: 0.1207\n",
      "Epoch [13/20], Step [20/58], Accuracy: 99.21875%, Loss: 0.0416\n",
      "Epoch [13/20], Step [30/58], Accuracy: 92.1875%, Loss: 0.2778\n",
      "Epoch [13/20], Step [40/58], Accuracy: 96.09375%, Loss: 0.1159\n",
      "Epoch [13/20], Step [50/58], Accuracy: 93.75%, Loss: 0.1579\n",
      "Epoch [14/20], Step [10/58], Accuracy: 96.875%, Loss: 0.1023\n",
      "Epoch [14/20], Step [20/58], Accuracy: 96.09375%, Loss: 0.1132\n",
      "Epoch [14/20], Step [30/58], Accuracy: 97.65625%, Loss: 0.0556\n",
      "Epoch [14/20], Step [40/58], Accuracy: 97.65625%, Loss: 0.0703\n",
      "Epoch [14/20], Step [50/58], Accuracy: 96.875%, Loss: 0.1122\n",
      "Epoch [15/20], Step [10/58], Accuracy: 97.65625%, Loss: 0.0706\n",
      "Epoch [15/20], Step [20/58], Accuracy: 98.4375%, Loss: 0.0633\n",
      "Epoch [15/20], Step [30/58], Accuracy: 96.875%, Loss: 0.0935\n",
      "Epoch [15/20], Step [40/58], Accuracy: 96.09375%, Loss: 0.0863\n",
      "Epoch [15/20], Step [50/58], Accuracy: 97.65625%, Loss: 0.0524\n",
      "Epoch [16/20], Step [10/58], Accuracy: 95.3125%, Loss: 0.0897\n",
      "Epoch [16/20], Step [20/58], Accuracy: 96.09375%, Loss: 0.1142\n",
      "Epoch [16/20], Step [30/58], Accuracy: 96.09375%, Loss: 0.1389\n",
      "Epoch [16/20], Step [40/58], Accuracy: 98.4375%, Loss: 0.0510\n",
      "Epoch [16/20], Step [50/58], Accuracy: 97.65625%, Loss: 0.0527\n",
      "Epoch [17/20], Step [10/58], Accuracy: 96.09375%, Loss: 0.0853\n",
      "Epoch [17/20], Step [20/58], Accuracy: 96.875%, Loss: 0.0911\n",
      "Epoch [17/20], Step [30/58], Accuracy: 97.65625%, Loss: 0.0610\n",
      "Epoch [17/20], Step [40/58], Accuracy: 99.21875%, Loss: 0.0292\n",
      "Epoch [17/20], Step [50/58], Accuracy: 97.65625%, Loss: 0.0666\n",
      "Epoch [18/20], Step [10/58], Accuracy: 90.625%, Loss: 0.1951\n",
      "Epoch [18/20], Step [20/58], Accuracy: 97.65625%, Loss: 0.0624\n",
      "Epoch [18/20], Step [30/58], Accuracy: 97.65625%, Loss: 0.0656\n",
      "Epoch [18/20], Step [40/58], Accuracy: 100.0%, Loss: 0.0235\n",
      "Epoch [18/20], Step [50/58], Accuracy: 96.09375%, Loss: 0.0837\n",
      "Epoch [19/20], Step [10/58], Accuracy: 99.21875%, Loss: 0.0274\n",
      "Epoch [19/20], Step [20/58], Accuracy: 99.21875%, Loss: 0.0344\n",
      "Epoch [19/20], Step [30/58], Accuracy: 100.0%, Loss: 0.0259\n",
      "Epoch [19/20], Step [40/58], Accuracy: 98.4375%, Loss: 0.0490\n",
      "Epoch [19/20], Step [50/58], Accuracy: 100.0%, Loss: 0.0165\n",
      "Epoch [20/20], Step [10/58], Accuracy: 97.65625%, Loss: 0.0559\n",
      "Epoch [20/20], Step [20/58], Accuracy: 96.875%, Loss: 0.0802\n",
      "Epoch [20/20], Step [30/58], Accuracy: 100.0%, Loss: 0.0176\n",
      "Epoch [20/20], Step [40/58], Accuracy: 98.4375%, Loss: 0.0738\n",
      "Epoch [20/20], Step [50/58], Accuracy: 99.21875%, Loss: 0.0305\n",
      "Finished Training of AlexNet\n"
     ]
    }
   ],
   "source": [
    "total_step = len(train_dl)\n",
    "num_epoch = 20\n",
    "for epoch in range(num_epoch):  # loop over the dataset multiple times\n",
    "\n",
    "    running_loss = 0.0\n",
    "    for i, data in enumerate(train_dl, 0):\n",
    "        # get the inputs; data is a list of [inputs, labels]\n",
    "        inputs, labels = data[0].to(device), data[1].to(device)\n",
    "\n",
    "        # zero the parameter gradients\n",
    "        optimizer.zero_grad()\n",
    "\n",
    "        # forward + backward + optimize\n",
    "        output = AlexNet(inputs)\n",
    "        loss = criterion(output, labels)\n",
    "        loss.backward()\n",
    "        optimizer.step()\n",
    "\n",
    "        # print statistics\n",
    "        running_loss += loss.item()\n",
    "        if i % 10 == 9:    # print every 1000 mini-batches\n",
    "            correct_train = 0\n",
    "            total_train = 0\n",
    "            _, predicted = torch.max(output.data, 1)\n",
    "            total_train += labels.size(0)\n",
    "            correct_train += (predicted == labels).sum().item()\n",
    "            acc_train = 100 * correct_train/total_train\n",
    "            running_loss = 0.0\n",
    "            print ('Epoch [{}/{}], Step [{}/{}], Accuracy: {}%, Loss: {:.4f}'.format(epoch+1, num_epoch, i+1, total_step, acc_train, loss.item()))\n",
    "print('Finished Training of AlexNet')"
   ]
  },
  {
   "cell_type": "code",
   "execution_count": 9,
   "id": "f2d7f00f",
   "metadata": {
    "ExecuteTime": {
     "end_time": "2021-09-22T20:16:48.416656Z",
     "start_time": "2021-09-22T20:16:44.562791Z"
    }
   },
   "outputs": [
    {
     "name": "stdout",
     "output_type": "stream",
     "text": [
      "Accuracy: 96.61 %\n"
     ]
    }
   ],
   "source": [
    "correct = 0\n",
    "total = 0\n",
    "with torch.no_grad():\n",
    "    for data in valid_dl:\n",
    "        images, labels = data[0].to(device), data[1].to(device)\n",
    "        outputs = AlexNet(images)\n",
    "        _, predicted = torch.max(outputs.data, 1)\n",
    "        total += labels.size(0)\n",
    "        correct += (predicted == labels).sum().item()\n",
    "\n",
    "print('Accuracy: %.2f %%' % (100 * correct / total))"
   ]
  },
  {
   "cell_type": "code",
   "execution_count": 10,
   "id": "4f9f4680",
   "metadata": {
    "ExecuteTime": {
     "end_time": "2021-09-22T20:16:50.303080Z",
     "start_time": "2021-09-22T20:16:48.418657Z"
    }
   },
   "outputs": [],
   "source": [
    "dataiter = iter(train_dl)\n",
    "images, labels = dataiter.next()\n",
    "classes = ('Corn_(maize)___Cercospora_leaf_spot Gray_leaf_spot', \n",
    "           'Corn_(maize)___Common_rust_', 'Corn_(maize)___healthy', 'Corn_(maize)___Northern_Leaf_Blight')"
   ]
  },
  {
   "cell_type": "code",
   "execution_count": null,
   "id": "2782fda6",
   "metadata": {},
   "outputs": [],
   "source": []
  }
 ],
 "metadata": {
  "kernelspec": {
   "display_name": "Python 3 (ipykernel)",
   "language": "python",
   "name": "python3"
  },
  "language_info": {
   "codemirror_mode": {
    "name": "ipython",
    "version": 3
   },
   "file_extension": ".py",
   "mimetype": "text/x-python",
   "name": "python",
   "nbconvert_exporter": "python",
   "pygments_lexer": "ipython3",
   "version": "3.8.11"
  }
 },
 "nbformat": 4,
 "nbformat_minor": 5
}

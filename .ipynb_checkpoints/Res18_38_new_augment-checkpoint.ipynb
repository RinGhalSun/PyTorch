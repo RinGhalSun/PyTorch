{
 "cells": [
  {
   "cell_type": "code",
   "execution_count": 1,
   "id": "7439b3ae",
   "metadata": {
    "ExecuteTime": {
     "end_time": "2021-09-27T22:30:09.089995Z",
     "start_time": "2021-09-27T22:30:07.915726Z"
    }
   },
   "outputs": [],
   "source": [
    "import os\n",
    "import torch\n",
    "import matplotlib.pyplot as plt\n",
    "import torch.nn as nn\n",
    "from torch.utils.data import DataLoader\n",
    "from PIL import Image\n",
    "import torch.nn.functional as F\n",
    "import torchvision.transforms as transforms\n",
    "from torchvision.datasets import ImageFolder  \n",
    "from torchvision import models\n",
    "from torch import optim\n",
    "import pandas as pd\n",
    "%matplotlib inline"
   ]
  },
  {
   "cell_type": "code",
   "execution_count": 2,
   "id": "502831c9",
   "metadata": {
    "ExecuteTime": {
     "end_time": "2021-09-27T22:30:09.105999Z",
     "start_time": "2021-09-27T22:30:09.090996Z"
    }
   },
   "outputs": [
    {
     "name": "stdout",
     "output_type": "stream",
     "text": [
      "['Apple___Apple_scab', 'Apple___Black_rot', 'Apple___Cedar_apple_rust', 'Apple___healthy', 'Blueberry___healthy', 'Cherry_(including_sour)___healthy', 'Cherry_(including_sour)___Powdery_mildew', 'Corn_(maize)___Cercospora_leaf_spot Gray_leaf_spot', 'Corn_(maize)___Common_rust_', 'Corn_(maize)___healthy', 'Corn_(maize)___Northern_Leaf_Blight', 'Grape___Black_rot', 'Grape___Esca_(Black_Measles)', 'Grape___healthy', 'Grape___Leaf_blight_(Isariopsis_Leaf_Spot)', 'Orange___Haunglongbing_(Citrus_greening)', 'Peach___Bacterial_spot', 'Peach___healthy', 'Pepper,_bell___Bacterial_spot', 'Pepper,_bell___healthy', 'Potato___Early_blight', 'Potato___healthy', 'Potato___Late_blight', 'Raspberry___healthy', 'Soybean___healthy', 'Squash___Powdery_mildew', 'Strawberry___healthy', 'Strawberry___Leaf_scorch', 'Tomato___Bacterial_spot', 'Tomato___Early_blight', 'Tomato___healthy', 'Tomato___Late_blight', 'Tomato___Leaf_Mold', 'Tomato___Septoria_leaf_spot', 'Tomato___Spider_mites Two-spotted_spider_mite', 'Tomato___Target_Spot', 'Tomato___Tomato_mosaic_virus', 'Tomato___Tomato_Yellow_Leaf_Curl_Virus']\n",
      "38\n"
     ]
    }
   ],
   "source": [
    "data_dir = \"../input/New Plant Diseases Dataset\"\n",
    "train_dir = data_dir + \"/train\"\n",
    "valid_dir = data_dir + \"/valid\"\n",
    "diseases = os.listdir(train_dir)\n",
    "print(diseases)\n",
    "print(len(diseases))"
   ]
  },
  {
   "cell_type": "code",
   "execution_count": 3,
   "id": "6d0cdca1",
   "metadata": {
    "ExecuteTime": {
     "end_time": "2021-09-27T22:30:09.122003Z",
     "start_time": "2021-09-27T22:30:09.109000Z"
    }
   },
   "outputs": [],
   "source": [
    "transform_train = transforms.Compose([\n",
    "    # 随机裁剪图像，所得图像为原始面积的0.08到1之间，高宽比在3/4和4/3之间。 \n",
    "    # 然后，缩放图像以创建224 x 224的新图像\n",
    "    transforms.RandomResizedCrop(224, scale=(0.5, 1.0),\n",
    "                                             ratio=(3.0/4.0, 4.0/3.0)),\n",
    "    # 随机更改亮度，对比度和饱和度\n",
    "    transforms.ColorJitter(brightness=0.4,\n",
    "                                       contrast=0.4,\n",
    "                                       saturation=0.4),\n",
    "    # 添加随机噪声\n",
    "    transforms.ToTensor(),\n",
    "    # 标准化图像的每个通道\n",
    "    transforms.Normalize([0.485, 0.456, 0.406],\n",
    "                                     [0.229, 0.224, 0.225])])\n",
    "transform_valid = transforms.Compose([\n",
    "    transforms.Resize(256),\n",
    "    transforms.CenterCrop(224),\n",
    "    transforms.ToTensor(),\n",
    "    transforms.Normalize(mean=[0.485, 0.456, 0.406], std=[0.229, 0.224, 0.225]),\n",
    "])"
   ]
  },
  {
   "cell_type": "code",
   "execution_count": 4,
   "id": "b580b1a0",
   "metadata": {
    "ExecuteTime": {
     "end_time": "2021-09-27T22:30:09.778151Z",
     "start_time": "2021-09-27T22:30:09.123003Z"
    }
   },
   "outputs": [],
   "source": [
    "batch_size = 128\n",
    "train = ImageFolder(train_dir, transform=transform_train)\n",
    "valid = ImageFolder(valid_dir, transform=transform_valid) \n",
    "train_dl = DataLoader(train, batch_size, shuffle=True, num_workers=2, pin_memory=True)\n",
    "valid_dl = DataLoader(valid, batch_size, num_workers=2, pin_memory=True)"
   ]
  },
  {
   "cell_type": "code",
   "execution_count": 5,
   "id": "84346d45",
   "metadata": {
    "ExecuteTime": {
     "end_time": "2021-09-27T22:30:09.938187Z",
     "start_time": "2021-09-27T22:30:09.779152Z"
    }
   },
   "outputs": [],
   "source": [
    "model = models.resnet18(pretrained=True)"
   ]
  },
  {
   "cell_type": "code",
   "execution_count": 6,
   "id": "c70a0730",
   "metadata": {
    "ExecuteTime": {
     "end_time": "2021-09-27T22:30:09.954191Z",
     "start_time": "2021-09-27T22:30:09.939187Z"
    }
   },
   "outputs": [],
   "source": [
    "fc_inputs = model.fc.in_features\n",
    "model.fc = nn.Sequential(\n",
    "    nn.Linear(fc_inputs, 256),\n",
    "    nn.ReLU(),\n",
    "    nn.Dropout(0.4),\n",
    "    nn.Linear(256, 38),\n",
    "    nn.LogSoftmax(dim=1)\n",
    ")"
   ]
  },
  {
   "cell_type": "code",
   "execution_count": 7,
   "id": "a91be512",
   "metadata": {
    "ExecuteTime": {
     "end_time": "2021-09-27T22:30:09.970194Z",
     "start_time": "2021-09-27T22:30:09.955191Z"
    }
   },
   "outputs": [
    {
     "data": {
      "text/plain": [
       "device(type='cuda', index=0)"
      ]
     },
     "execution_count": 7,
     "metadata": {},
     "output_type": "execute_result"
    }
   ],
   "source": [
    "device = torch.device('cuda:0')\n",
    "device"
   ]
  },
  {
   "cell_type": "code",
   "execution_count": 8,
   "id": "13e063de",
   "metadata": {
    "ExecuteTime": {
     "end_time": "2021-09-27T22:30:09.986198Z",
     "start_time": "2021-09-27T22:30:09.972195Z"
    }
   },
   "outputs": [],
   "source": [
    "learning_rate = 0.0005\n",
    "epochs = 10\n",
    "criterion = nn.CrossEntropyLoss()\n",
    "optimizer = optim.Adam(model.parameters(), lr=learning_rate, weight_decay=1e-4)\n",
    "scheduler = torch.optim.lr_scheduler.OneCycleLR(optimizer, learning_rate, epochs=epochs, steps_per_epoch=len(train_dl))"
   ]
  },
  {
   "cell_type": "code",
   "execution_count": 9,
   "id": "758aaf4b",
   "metadata": {
    "ExecuteTime": {
     "end_time": "2021-09-27T22:30:11.182469Z",
     "start_time": "2021-09-27T22:30:09.988198Z"
    }
   },
   "outputs": [
    {
     "data": {
      "text/plain": [
       "ResNet(\n",
       "  (conv1): Conv2d(3, 64, kernel_size=(7, 7), stride=(2, 2), padding=(3, 3), bias=False)\n",
       "  (bn1): BatchNorm2d(64, eps=1e-05, momentum=0.1, affine=True, track_running_stats=True)\n",
       "  (relu): ReLU(inplace=True)\n",
       "  (maxpool): MaxPool2d(kernel_size=3, stride=2, padding=1, dilation=1, ceil_mode=False)\n",
       "  (layer1): Sequential(\n",
       "    (0): BasicBlock(\n",
       "      (conv1): Conv2d(64, 64, kernel_size=(3, 3), stride=(1, 1), padding=(1, 1), bias=False)\n",
       "      (bn1): BatchNorm2d(64, eps=1e-05, momentum=0.1, affine=True, track_running_stats=True)\n",
       "      (relu): ReLU(inplace=True)\n",
       "      (conv2): Conv2d(64, 64, kernel_size=(3, 3), stride=(1, 1), padding=(1, 1), bias=False)\n",
       "      (bn2): BatchNorm2d(64, eps=1e-05, momentum=0.1, affine=True, track_running_stats=True)\n",
       "    )\n",
       "    (1): BasicBlock(\n",
       "      (conv1): Conv2d(64, 64, kernel_size=(3, 3), stride=(1, 1), padding=(1, 1), bias=False)\n",
       "      (bn1): BatchNorm2d(64, eps=1e-05, momentum=0.1, affine=True, track_running_stats=True)\n",
       "      (relu): ReLU(inplace=True)\n",
       "      (conv2): Conv2d(64, 64, kernel_size=(3, 3), stride=(1, 1), padding=(1, 1), bias=False)\n",
       "      (bn2): BatchNorm2d(64, eps=1e-05, momentum=0.1, affine=True, track_running_stats=True)\n",
       "    )\n",
       "  )\n",
       "  (layer2): Sequential(\n",
       "    (0): BasicBlock(\n",
       "      (conv1): Conv2d(64, 128, kernel_size=(3, 3), stride=(2, 2), padding=(1, 1), bias=False)\n",
       "      (bn1): BatchNorm2d(128, eps=1e-05, momentum=0.1, affine=True, track_running_stats=True)\n",
       "      (relu): ReLU(inplace=True)\n",
       "      (conv2): Conv2d(128, 128, kernel_size=(3, 3), stride=(1, 1), padding=(1, 1), bias=False)\n",
       "      (bn2): BatchNorm2d(128, eps=1e-05, momentum=0.1, affine=True, track_running_stats=True)\n",
       "      (downsample): Sequential(\n",
       "        (0): Conv2d(64, 128, kernel_size=(1, 1), stride=(2, 2), bias=False)\n",
       "        (1): BatchNorm2d(128, eps=1e-05, momentum=0.1, affine=True, track_running_stats=True)\n",
       "      )\n",
       "    )\n",
       "    (1): BasicBlock(\n",
       "      (conv1): Conv2d(128, 128, kernel_size=(3, 3), stride=(1, 1), padding=(1, 1), bias=False)\n",
       "      (bn1): BatchNorm2d(128, eps=1e-05, momentum=0.1, affine=True, track_running_stats=True)\n",
       "      (relu): ReLU(inplace=True)\n",
       "      (conv2): Conv2d(128, 128, kernel_size=(3, 3), stride=(1, 1), padding=(1, 1), bias=False)\n",
       "      (bn2): BatchNorm2d(128, eps=1e-05, momentum=0.1, affine=True, track_running_stats=True)\n",
       "    )\n",
       "  )\n",
       "  (layer3): Sequential(\n",
       "    (0): BasicBlock(\n",
       "      (conv1): Conv2d(128, 256, kernel_size=(3, 3), stride=(2, 2), padding=(1, 1), bias=False)\n",
       "      (bn1): BatchNorm2d(256, eps=1e-05, momentum=0.1, affine=True, track_running_stats=True)\n",
       "      (relu): ReLU(inplace=True)\n",
       "      (conv2): Conv2d(256, 256, kernel_size=(3, 3), stride=(1, 1), padding=(1, 1), bias=False)\n",
       "      (bn2): BatchNorm2d(256, eps=1e-05, momentum=0.1, affine=True, track_running_stats=True)\n",
       "      (downsample): Sequential(\n",
       "        (0): Conv2d(128, 256, kernel_size=(1, 1), stride=(2, 2), bias=False)\n",
       "        (1): BatchNorm2d(256, eps=1e-05, momentum=0.1, affine=True, track_running_stats=True)\n",
       "      )\n",
       "    )\n",
       "    (1): BasicBlock(\n",
       "      (conv1): Conv2d(256, 256, kernel_size=(3, 3), stride=(1, 1), padding=(1, 1), bias=False)\n",
       "      (bn1): BatchNorm2d(256, eps=1e-05, momentum=0.1, affine=True, track_running_stats=True)\n",
       "      (relu): ReLU(inplace=True)\n",
       "      (conv2): Conv2d(256, 256, kernel_size=(3, 3), stride=(1, 1), padding=(1, 1), bias=False)\n",
       "      (bn2): BatchNorm2d(256, eps=1e-05, momentum=0.1, affine=True, track_running_stats=True)\n",
       "    )\n",
       "  )\n",
       "  (layer4): Sequential(\n",
       "    (0): BasicBlock(\n",
       "      (conv1): Conv2d(256, 512, kernel_size=(3, 3), stride=(2, 2), padding=(1, 1), bias=False)\n",
       "      (bn1): BatchNorm2d(512, eps=1e-05, momentum=0.1, affine=True, track_running_stats=True)\n",
       "      (relu): ReLU(inplace=True)\n",
       "      (conv2): Conv2d(512, 512, kernel_size=(3, 3), stride=(1, 1), padding=(1, 1), bias=False)\n",
       "      (bn2): BatchNorm2d(512, eps=1e-05, momentum=0.1, affine=True, track_running_stats=True)\n",
       "      (downsample): Sequential(\n",
       "        (0): Conv2d(256, 512, kernel_size=(1, 1), stride=(2, 2), bias=False)\n",
       "        (1): BatchNorm2d(512, eps=1e-05, momentum=0.1, affine=True, track_running_stats=True)\n",
       "      )\n",
       "    )\n",
       "    (1): BasicBlock(\n",
       "      (conv1): Conv2d(512, 512, kernel_size=(3, 3), stride=(1, 1), padding=(1, 1), bias=False)\n",
       "      (bn1): BatchNorm2d(512, eps=1e-05, momentum=0.1, affine=True, track_running_stats=True)\n",
       "      (relu): ReLU(inplace=True)\n",
       "      (conv2): Conv2d(512, 512, kernel_size=(3, 3), stride=(1, 1), padding=(1, 1), bias=False)\n",
       "      (bn2): BatchNorm2d(512, eps=1e-05, momentum=0.1, affine=True, track_running_stats=True)\n",
       "    )\n",
       "  )\n",
       "  (avgpool): AdaptiveAvgPool2d(output_size=(1, 1))\n",
       "  (fc): Sequential(\n",
       "    (0): Linear(in_features=512, out_features=256, bias=True)\n",
       "    (1): ReLU()\n",
       "    (2): Dropout(p=0.4, inplace=False)\n",
       "    (3): Linear(in_features=256, out_features=38, bias=True)\n",
       "    (4): LogSoftmax(dim=1)\n",
       "  )\n",
       ")"
      ]
     },
     "execution_count": 9,
     "metadata": {},
     "output_type": "execute_result"
    }
   ],
   "source": [
    "model.to(device)"
   ]
  },
  {
   "cell_type": "code",
   "execution_count": 10,
   "id": "b356188c",
   "metadata": {
    "ExecuteTime": {
     "end_time": "2021-09-27T23:00:09.262023Z",
     "start_time": "2021-09-27T22:30:11.183470Z"
    }
   },
   "outputs": [
    {
     "name": "stderr",
     "output_type": "stream",
     "text": [
      "C:\\Users\\Yueqiao\\anaconda3\\envs\\ttorch\\lib\\site-packages\\torch\\nn\\functional.py:718: UserWarning: Named tensors and all their associated APIs are an experimental feature and subject to change. Please do not use them for anything important until they are released as stable. (Triggered internally at  ..\\c10/core/TensorImpl.h:1156.)\n",
      "  return torch.max_pool2d(input, kernel_size, stride, padding, dilation, ceil_mode)\n"
     ]
    },
    {
     "name": "stdout",
     "output_type": "stream",
     "text": [
      "Epoch [1/10], Step [275/550], Accuracy: 82.8125%, Loss: 1.2002\n",
      "Epoch [1/10], Step [550/550], Accuracy: 83.33333333333333%, Loss: 0.5767\n",
      "Accuracy: 94.69 %\n",
      "0.29400382995823005\n",
      "Epoch [2/10], Step [275/550], Accuracy: 94.53125%, Loss: 0.2826\n",
      "Epoch [2/10], Step [550/550], Accuracy: 100.0%, Loss: 0.0756\n",
      "Accuracy: 97.83 %\n",
      "0.09303451689762356\n",
      "Epoch [3/10], Step [275/550], Accuracy: 100.0%, Loss: 0.0729\n",
      "Epoch [3/10], Step [550/550], Accuracy: 100.0%, Loss: 0.0681\n",
      "Accuracy: 98.46 %\n",
      "0.057090863247272854\n",
      "Epoch [4/10], Step [275/550], Accuracy: 99.21875%, Loss: 0.0909\n",
      "Epoch [4/10], Step [550/550], Accuracy: 100.0%, Loss: 0.0460\n",
      "Accuracy: 98.79 %\n",
      "0.04087349793739467\n",
      "Epoch [5/10], Step [275/550], Accuracy: 99.21875%, Loss: 0.0370\n",
      "Epoch [5/10], Step [550/550], Accuracy: 95.83333333333333%, Loss: 0.0965\n",
      "Accuracy: 98.69 %\n",
      "0.039773140934951955\n",
      "Epoch [6/10], Step [275/550], Accuracy: 98.4375%, Loss: 0.0316\n",
      "Epoch [6/10], Step [550/550], Accuracy: 95.83333333333333%, Loss: 0.1212\n",
      "Accuracy: 99.08 %\n",
      "0.030820167622398108\n",
      "Epoch [7/10], Step [275/550], Accuracy: 99.21875%, Loss: 0.0286\n",
      "Epoch [7/10], Step [550/550], Accuracy: 100.0%, Loss: 0.0313\n",
      "Accuracy: 99.31 %\n",
      "0.02444306214187714\n",
      "Epoch [8/10], Step [275/550], Accuracy: 98.4375%, Loss: 0.0320\n",
      "Epoch [8/10], Step [550/550], Accuracy: 91.66666666666667%, Loss: 0.4540\n",
      "Accuracy: 99.29 %\n",
      "0.02284689541450654\n",
      "Epoch [9/10], Step [275/550], Accuracy: 100.0%, Loss: 0.0073\n",
      "Epoch [9/10], Step [550/550], Accuracy: 100.0%, Loss: 0.0062\n",
      "Accuracy: 99.39 %\n",
      "0.020604892092247928\n",
      "Epoch [10/10], Step [275/550], Accuracy: 100.0%, Loss: 0.0144\n",
      "Epoch [10/10], Step [550/550], Accuracy: 100.0%, Loss: 0.0214\n",
      "Accuracy: 99.33 %\n",
      "0.02247579751565354\n",
      "Finished Training of ResNet-18\n"
     ]
    }
   ],
   "source": [
    "total_step = len(train_dl)\n",
    "num_epoch = 10\n",
    "List_acc_valid=[]\n",
    "List_acc_train=[]  \n",
    "List_loss_valid=[]\n",
    "List_loss_train=[]\n",
    "for epoch in range(num_epoch):  # loop over the dataset multiple times\n",
    "\n",
    "    running_loss = 0.0\n",
    "    model.train()\n",
    "    for i, data in enumerate(train_dl, 0):\n",
    "        # get the inputs; data is a list of [inputs, labels]\n",
    "        inputs, labels = data[0].to(device), data[1].to(device)\n",
    "\n",
    "        # zero the parameter gradients\n",
    "        optimizer.zero_grad()\n",
    "\n",
    "        # forward + backward + optimize\n",
    "        output = model(inputs)\n",
    "        loss = criterion(output, labels)\n",
    "        loss.backward()\n",
    "        optimizer.step()\n",
    "\n",
    "        # print statistics\n",
    "        running_loss += loss.item()\n",
    "        if i % 275 == 274:    # print every 1000 mini-batches\n",
    "            correct_train = 0\n",
    "            total_train = 0\n",
    "            _, predicted = torch.max(output.data, 1)\n",
    "            total_train += labels.size(0)\n",
    "            correct_train += (predicted == labels).sum().item()\n",
    "            acc_train = 100 * correct_train/total_train\n",
    "            running_loss = 0.0\n",
    "            print ('Epoch [{}/{}], Step [{}/{}], Accuracy: {}%, Loss: {:.4f}'.format(epoch+1, num_epoch, i+1, total_step, acc_train, loss.item()))\n",
    "    \n",
    "    correct = 0\n",
    "    total = 0\n",
    "    model.eval()\n",
    "    total_loss_per_epoch = 0\n",
    "    with torch.no_grad():\n",
    "        for i, data in enumerate(valid_dl):\n",
    "            images_valid, labels_valid = data[0].to(device), data[1].to(device)\n",
    "            outputs_valid = model(images_valid)\n",
    "            loss_valid = criterion(outputs_valid, labels_valid)\n",
    "            total_loss_per_epoch += loss_valid.item()\n",
    "            _, predicted = torch.max(outputs_valid.data, 1)\n",
    "            total += labels_valid.size(0)\n",
    "            correct += (predicted == labels_valid).sum().item()\n",
    "            acc_valid = 100 * correct / total\n",
    "        loss_per_epoch = total_loss_per_epoch/i    \n",
    "        print('Accuracy: %.2f %%' % (100 * correct / total))\n",
    "        print(loss_per_epoch)\n",
    "        \n",
    "    List_acc_valid.append(acc_valid)\n",
    "    List_acc_train.append(acc_train)\n",
    "    List_loss_valid.append(loss_valid.item())\n",
    "    List_loss_train.append(loss.item()) \n",
    "print('Finished Training of ResNet-18')"
   ]
  },
  {
   "cell_type": "code",
   "execution_count": 11,
   "id": "1d29da01",
   "metadata": {
    "ExecuteTime": {
     "end_time": "2021-09-27T23:00:11.515216Z",
     "start_time": "2021-09-27T23:00:09.263023Z"
    }
   },
   "outputs": [],
   "source": [
    "dataiter = iter(train_dl)\n",
    "images, labels = dataiter.next()\n",
    "classes = ('Apple___Apple_scab', 'Apple___Black_rot', 'Apple___Cedar_apple_rust', 'Apple___healthy', 'Blueberry___healthy', 'Cherry_(including_sour)___healthy', 'Cherry_(including_sour)___Powdery_mildew', 'Corn_(maize)___Cercospora_leaf_spot Gray_leaf_spot', 'Corn_(maize)___Common_rust_', 'Corn_(maize)___healthy', 'Corn_(maize)___Northern_Leaf_Blight', 'Grape___Black_rot', 'Grape___Esca_(Black_Measles)', 'Grape___healthy', 'Grape___Leaf_blight_(Isariopsis_Leaf_Spot)', 'Orange___Haunglongbing_(Citrus_greening)', 'Peach___Bacterial_spot', 'Peach___healthy', 'Pepper,_bell___Bacterial_spot', 'Pepper,_bell___healthy', 'Potato___Early_blight', 'Potato___healthy', 'Potato___Late_blight', 'Raspberry___healthy', 'Soybean___healthy', 'Squash___Powdery_mildew', 'Strawberry___healthy', 'Strawberry___Leaf_scorch', 'Tomato___Bacterial_spot', 'Tomato___Early_blight', 'Tomato___healthy', 'Tomato___Late_blight', 'Tomato___Leaf_Mold', 'Tomato___Septoria_leaf_spot', 'Tomato___Spider_mites Two-spotted_spider_mite', 'Tomato___Target_Spot', 'Tomato___Tomato_mosaic_virus', 'Tomato___Tomato_Yellow_Leaf_Curl_Virus')"
   ]
  },
  {
   "cell_type": "code",
   "execution_count": 12,
   "id": "c4140233",
   "metadata": {
    "ExecuteTime": {
     "end_time": "2021-09-27T23:00:11.786277Z",
     "start_time": "2021-09-27T23:00:11.516216Z"
    }
   },
   "outputs": [
    {
     "name": "stdout",
     "output_type": "stream",
     "text": [
      "\u001b[1m Accuracy for train dataset:100.00%\u001b[0m\n",
      "\u001b[1m Accuracy for valid dataset:99.33%\u001b[0m\n",
      "\n",
      "\n"
     ]
    },
    {
     "data": {
      "image/png": "[encoded data removed]",
      "text/plain": [
       "<Figure size 1080x504 with 2 Axes>"
      ]
     },
     "metadata": {
      "needs_background": "light"
     },
     "output_type": "display_data"
    }
   ],
   "source": [
    "#Train and Valid Accuracy & Loss curve\n",
    "#-------------------------------------------------------------------------------\n",
    "print('\\033[1m Accuracy for train dataset:{:.2f}%\\033[0m'.format(List_acc_train[-1]))\n",
    "print('\\033[1m Accuracy for valid dataset:{:.2f}%\\033[0m'.format(List_acc_valid[-1]))\n",
    "print('\\n')\n",
    "\n",
    "#Accuracy curves\n",
    "#-------------------------------------------------------------------------------\n",
    "plt.figure(figsize=(15,7))\n",
    "plt.subplot(121)\n",
    "plt.plot(List_acc_train,\"royalblue\",linewidth=2)\n",
    "plt.plot(List_acc_valid,\"tomato\",linewidth=2)\n",
    "plt.title('Model accuracy per epoch',fontsize=16)\n",
    "plt.ylabel('accuracy',fontsize=14)\n",
    "plt.xlabel('epoch',fontsize=14)\n",
    "plt.legend(['train', 'valid'], loc='right',fontsize=14)\n",
    "\n",
    "#Loss curves\n",
    "#-------------------------------------------------------------------------------\n",
    "plt.subplot(122)\n",
    "plt.plot(List_loss_train,\"royalblue\",linewidth=2)\n",
    "plt.plot(List_loss_valid,\"tomato\",linewidth=2)\n",
    "plt.title('Model loss per epoch',fontsize=16)\n",
    "plt.ylabel('loss',fontsize=14)\n",
    "plt.xlabel('epoch',fontsize=14)\n",
    "plt.legend(['train', 'valid'], loc='right',fontsize=14)\n",
    "plt.show()"
   ]
  },
  {
   "cell_type": "code",
   "execution_count": null,
   "id": "c9735474",
   "metadata": {
    "ExecuteTime": {
     "start_time": "2021-09-27T23:23:33.044Z"
    }
   },
   "outputs": [],
   "source": [
    "PATH = './plant38_Res18_full_with_augment.pth'\n",
    "torch.save(model, PATH)"
   ]
  },
  {
   "cell_type": "code",
   "execution_count": null,
   "id": "9c5017ed",
   "metadata": {
    "ExecuteTime": {
     "start_time": "2021-09-27T23:23:28.998Z"
    }
   },
   "outputs": [],
   "source": [
    "class_correct = list(0. for i in range(38))\n",
    "class_total = list(0. for i in range(38))\n",
    "model.eval()\n",
    "with torch.no_grad():\n",
    "    for data in valid_dl:\n",
    "        images, labels = data[0].to(device), data[1].to(device)\n",
    "        outputs = model(images)\n",
    "        _, predicted = torch.max(outputs, 1)\n",
    "        c = (predicted == labels).squeeze()\n",
    "        for i in range(36):\n",
    "            label = labels[i]\n",
    "            class_correct[label] += c[i].item()\n",
    "            class_total[label] += 1\n",
    "\n",
    "\n",
    "for i in range(38):\n",
    "    print('Accuracy of %5s : %2d %%' % (\n",
    "        classes[i], 100 * class_correct[i] / class_total[i]))"
   ]
  },
  {
   "cell_type": "code",
   "execution_count": null,
   "id": "3ba9200a",
   "metadata": {},
   "outputs": [],
   "source": []
  }
 ],
 "metadata": {
  "kernelspec": {
   "display_name": "Python 3 (ipykernel)",
   "language": "python",
   "name": "python3"
  },
  "language_info": {
   "codemirror_mode": {
    "name": "ipython",
    "version": 3
   },
   "file_extension": ".py",
   "mimetype": "text/x-python",
   "name": "python",
   "nbconvert_exporter": "python",
   "pygments_lexer": "ipython3",
   "version": "3.8.11"
  }
 },
 "nbformat": 4,
 "nbformat_minor": 5
}

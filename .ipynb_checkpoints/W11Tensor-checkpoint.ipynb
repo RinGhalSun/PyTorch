{
 "cells": [
  {
   "cell_type": "markdown",
   "id": "8e3dfae1",
   "metadata": {},
   "source": [
    "# Tensor的概念\n",
    "Tensor张量,即为一个多维数组,是标量,向量,矩阵的高位拓展\n",
    "\n",
    "标量可称为0维张量,向量可称为1维张量,矩阵可称为2位张量,RGB图像可以表示为3维张量.可以吧张量看为多维数组\n",
    "\n",
    "![tensor](https://pic1.zhimg.com/80/v2-6dbd41b3ae5151d220471be909ef11a0_720w.jpg)\n",
    "\n",
    "## Tensor 与 Variable\n",
    "在PyTorch 0.40之前"
   ]
  },
  {
   "cell_type": "code",
   "execution_count": null,
   "id": "85d8e16e",
   "metadata": {},
   "outputs": [],
   "source": []
  }
 ],
 "metadata": {
  "kernelspec": {
   "display_name": "Python 3",
   "language": "python",
   "name": "python3"
  },
  "language_info": {
   "codemirror_mode": {
    "name": "ipython",
    "version": 3
   },
   "file_extension": ".py",
   "mimetype": "text/x-python",
   "name": "python",
   "nbconvert_exporter": "python",
   "pygments_lexer": "ipython3",
   "version": "3.8.10"
  }
 },
 "nbformat": 4,
 "nbformat_minor": 5
}

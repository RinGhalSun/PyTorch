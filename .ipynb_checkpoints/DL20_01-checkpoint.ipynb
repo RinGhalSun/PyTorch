{
 "cells": [
  {
   "cell_type": "markdown",
   "id": "3c6064d9",
   "metadata": {},
   "source": [
    "# 填充和步幅 padding and stride\n",
    "\n",
    "## 填充\n",
    "* 给定32x32输入图像\n",
    "* 应用5x5大小的卷积核\n",
    "    * 第一层得到的输出大小28x28\n",
    "    * 第七层得到的输出大小为4x4\n",
    "* 更大的卷积核可以更快的减小输出大小\n",
    "    * 形状从$n_h \\times n_w$减少到\n",
    "    \n",
    "    $(n_h-k_h+1)\\times(n_w-k_w+1)$\n",
    "\n",
    "所谓`填充`是在输入周围添加额外的行和列\n",
    "![带填充的二维互相关。](pic/2001.svg)\n",
    "$ 0\\times 0 + 0 \\times 1 + 0 \\times 2 + 0 \\times 3 = 0$\n",
    "* 填充$p_h$行和$p_w$列,输出形状为\n",
    "$$(n_h-k_h+p_h+1) \\times (n_w - k_w + p_w + 1)$$\n",
    "* 通常取$p_h=k_h-1, p_w = k_w -1$\n",
    "    * 当$k_h$为奇数:在上下两侧填充$p_h/2$\n",
    "    * 当$k_h$为偶数在上填充$[p_h/2]$,在下填充$[p_h/2]$\n",
    "    \n",
    "## 步幅\n",
    "* 填充减小的输入大小与层数线性相关\n",
    "    * 给定输入大小$224 \\times 224$,在使用$5\\times5$卷积核的情况下,需要44层将输出降低到$4\\times4$\n",
    "    * 需要大量计算才能得到较小的输出\n",
    "* 步幅是指行/列的滑动步长\n",
    "    * 例:高度3宽度2的步幅\n",
    "![步幅](pic/2002.svg)\n",
    "$$0\\times0+0\\times1+1\\times2+2\\times3=8$$\n",
    "$$0\\times0+6\\times1+0\\times2+0\\times3=6$$\n",
    "* 给定高度$s_h$和宽度$s_w$的步幅,输出形状是\n",
    "$$[(n_h-k_h+p_h+s_h)/s_h]\\times[(n_w-k_w+p_w+s_w)/s_w]$$\n",
    "* 如果$p_h=k_h-1$,$p_w=k_w-1$\n",
    "$$[(n_h+s_h-1)/s_h]\\times[(n_w+s_w-1)/s_w]$$\n",
    "* 如果输入高度和宽度可以被步幅整除\n",
    "$$(n_h/s_h)\\times(n_w/s_w)$$"
   ]
  },
  {
   "cell_type": "markdown",
   "id": "316eb1b1",
   "metadata": {},
   "source": [
    "## 总结\n",
    "* 填充和步幅都是卷积层的超参数\n",
    "* 填充在输入周围添加额外的行/列,来控制输出形状的减少量\n",
    "* 步幅是每次滑动核窗口是的行/列的步长,可以成倍减少输出的形状"
   ]
  },
  {
   "cell_type": "code",
   "execution_count": null,
   "id": "fc4e328d",
   "metadata": {},
   "outputs": [],
   "source": []
  }
 ],
 "metadata": {
  "kernelspec": {
   "display_name": "Python 3 (ipykernel)",
   "language": "python",
   "name": "python3"
  },
  "language_info": {
   "codemirror_mode": {
    "name": "ipython",
    "version": 3
   },
   "file_extension": ".py",
   "mimetype": "text/x-python",
   "name": "python",
   "nbconvert_exporter": "python",
   "pygments_lexer": "ipython3",
   "version": "3.8.11"
  }
 },
 "nbformat": 4,
 "nbformat_minor": 5
}

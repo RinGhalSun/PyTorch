{
 "cells": [
  {
   "cell_type": "markdown",
   "id": "60a3707e",
   "metadata": {},
   "source": [
    "# Dropout\n",
    "* 一个好的模型需要对输入数据的扰动鲁棒(噪声不会太过影响模型的特性)\n",
    "    * 使用噪音的数据等价于Tikhonov正则\n",
    "    * 丢弃法: 在层之间加入噪声\n",
    "### 无差别加入噪音\n",
    "* 对x加入噪音得到x',我们希望E[x']=x\n",
    "* 丢弃法对每个元素进行如下扰动\n",
    "![丢弃法扰动](pic/1301.png)\n",
    "### 使用丢弃法\n",
    "* 通常将丢弃法作用在隐藏全连接层的输出上\n",
    "![丢弃法隐藏层](pic/1302.png)\n",
    "### 推理中的丢弃法\n",
    "* 正则项只在训练中使用:他们影响参数模型的更新\n",
    "* 在推理过程中,丢弃法直接返回输出\n",
    "\n",
    "$h = dropout(h)$\n",
    "\n",
    "    * 这样也能保证准确性的输出"
   ]
  },
  {
   "cell_type": "markdown",
   "id": "90e9a94a",
   "metadata": {},
   "source": [
    "## 总结\n",
    "* 丢弃法将一些输出项随机置0来控制模型复杂度\n",
    "* 常作用于多层感知机的隐藏层输出上\n",
    "* 丢弃概率是控制模型复杂度的超参数"
   ]
  },
  {
   "cell_type": "code",
   "execution_count": null,
   "id": "7eb7642e",
   "metadata": {},
   "outputs": [],
   "source": []
  }
 ],
 "metadata": {
  "kernelspec": {
   "display_name": "Python 3 (ipykernel)",
   "language": "python",
   "name": "python3"
  },
  "language_info": {
   "codemirror_mode": {
    "name": "ipython",
    "version": 3
   },
   "file_extension": ".py",
   "mimetype": "text/x-python",
   "name": "python",
   "nbconvert_exporter": "python",
   "pygments_lexer": "ipython3",
   "version": "3.8.11"
  }
 },
 "nbformat": 4,
 "nbformat_minor": 5
}

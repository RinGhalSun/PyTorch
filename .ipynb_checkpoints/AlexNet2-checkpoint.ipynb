{
 "cells": [
  {
   "cell_type": "code",
   "execution_count": 1,
   "id": "588e6b4f",
   "metadata": {
    "ExecuteTime": {
     "end_time": "2021-09-28T02:26:09.053912Z",
     "start_time": "2021-09-28T02:26:08.134701Z"
    }
   },
   "outputs": [],
   "source": [
    "import os\n",
    "import torch\n",
    "import matplotlib.pyplot as plt\n",
    "import torch.nn as nn\n",
    "from torch.utils.data import DataLoader\n",
    "from PIL import Image\n",
    "import torch.nn.functional as F\n",
    "import torchvision.transforms as transforms\n",
    "from torchvision.datasets import ImageFolder  \n",
    "%matplotlib inline"
   ]
  },
  {
   "cell_type": "code",
   "execution_count": 2,
   "id": "e4cdfdd3",
   "metadata": {
    "ExecuteTime": {
     "end_time": "2021-09-27T12:52:25.111748Z",
     "start_time": "2021-09-27T12:52:25.097743Z"
    }
   },
   "outputs": [
    {
     "name": "stdout",
     "output_type": "stream",
     "text": [
      "['Healthy', 'Powdery', 'Rust']\n",
      "3\n"
     ]
    }
   ],
   "source": [
    "data_dir = \"../input/plant disease regonition\"\n",
    "train_dir = data_dir + \"/train\"\n",
    "valid_dir = data_dir + \"/valid\"\n",
    "diseases = os.listdir(train_dir)\n",
    "print(diseases)\n",
    "print(len(diseases))"
   ]
  },
  {
   "cell_type": "code",
   "execution_count": 3,
   "id": "c21a3b8a",
   "metadata": {
    "ExecuteTime": {
     "end_time": "2021-09-27T12:52:25.127751Z",
     "start_time": "2021-09-27T12:52:25.113749Z"
    }
   },
   "outputs": [],
   "source": [
    "transform= transforms.Compose([\n",
    "    transforms.Resize(256),\n",
    "    transforms.CenterCrop(224),\n",
    "    transforms.ToTensor(),\n",
    "    transforms.Normalize(mean=[0.485, 0.456, 0.406], std=[0.229, 0.224, 0.225]),\n",
    "])"
   ]
  },
  {
   "cell_type": "code",
   "execution_count": 4,
   "id": "f5cad6f0",
   "metadata": {
    "ExecuteTime": {
     "end_time": "2021-09-27T12:52:25.159472Z",
     "start_time": "2021-09-27T12:52:25.129753Z"
    }
   },
   "outputs": [],
   "source": [
    "batch_size = 64\n",
    "train = ImageFolder(train_dir, transform=transform)\n",
    "valid = ImageFolder(valid_dir, transform=transform) \n",
    "train_dl = DataLoader(train, batch_size, shuffle=True, num_workers=0, pin_memory=True)\n",
    "valid_dl = DataLoader(valid, batch_size, num_workers=0, pin_memory=True)"
   ]
  },
  {
   "cell_type": "code",
   "execution_count": 5,
   "id": "55299862",
   "metadata": {
    "ExecuteTime": {
     "end_time": "2021-09-27T12:52:26.519779Z",
     "start_time": "2021-09-27T12:52:25.160473Z"
    }
   },
   "outputs": [],
   "source": [
    "AlexNet = nn.Sequential(\n",
    "    # 这里，我们使Q用一个11*11的更大窗口来捕捉对象。\n",
    "    # 同时，步幅为4，以减少输出的高度和宽度。\n",
    "    # 另外，输出通道的数目远大于LeNet\n",
    "    nn.Conv2d(3, 64, kernel_size=11, stride=4, padding=2), nn.ReLU(),\n",
    "    nn.MaxPool2d(kernel_size=3, stride=2),\n",
    "    # 减小卷积窗口，使用填充为2来使得输入与输出的高和宽一致，且增大输出通道数\n",
    "    nn.Conv2d(64, 192, kernel_size=5, padding=2), nn.ReLU(),\n",
    "    nn.MaxPool2d(kernel_size=3, stride=2),\n",
    "    # 使用三个连续的卷积层和较小的卷积窗口。\n",
    "    # 除了最后的卷积层，输出通道的数量进一步增加。\n",
    "    # 在前两个卷积层之后，汇聚层不用于减少输入的高度和宽度\n",
    "    nn.Conv2d(192, 384, kernel_size=3, padding=1), nn.ReLU(),\n",
    "    nn.Conv2d(384, 256, kernel_size=3, padding=1), nn.ReLU(),\n",
    "    nn.Conv2d(256, 256, kernel_size=3, padding=1), nn.ReLU(),\n",
    "    nn.MaxPool2d(kernel_size=3, stride=2),\n",
    "    nn.Flatten(),\n",
    "    # 这里，全连接层的输出数量是LeNet中的好几倍。使用dropout层来减轻过度拟合\n",
    "    nn.Linear(9216, 2048), nn.ReLU(),\n",
    "    nn.Dropout(p=0.5),\n",
    "    nn.Linear(2048, 512), nn.ReLU(),\n",
    "    nn.Dropout(p=0.5),\n",
    "    # 最后是输出层。由于这里使用Fashion-MNIST，所以用类别数为10，而非论文中的1000\n",
    "    nn.Linear(512, 3)).cuda()"
   ]
  },
  {
   "cell_type": "code",
   "execution_count": 6,
   "id": "767662d5",
   "metadata": {
    "ExecuteTime": {
     "end_time": "2021-09-27T12:52:26.535784Z",
     "start_time": "2021-09-27T12:52:26.520780Z"
    }
   },
   "outputs": [
    {
     "data": {
      "text/plain": [
       "device(type='cuda', index=0)"
      ]
     },
     "execution_count": 6,
     "metadata": {},
     "output_type": "execute_result"
    }
   ],
   "source": [
    "device = torch.device('cuda:0')\n",
    "device"
   ]
  },
  {
   "cell_type": "code",
   "execution_count": 7,
   "id": "cfbae7a4",
   "metadata": {
    "ExecuteTime": {
     "end_time": "2021-09-27T12:52:26.551790Z",
     "start_time": "2021-09-27T12:52:26.536783Z"
    }
   },
   "outputs": [],
   "source": [
    "import torch.optim as optim\n",
    "\n",
    "criterion = nn.CrossEntropyLoss()\n",
    "optimizer = optim.SGD(AlexNet.parameters(), lr=0.01, momentum=0.9)"
   ]
  },
  {
   "cell_type": "code",
   "execution_count": 8,
   "id": "d93cddc0",
   "metadata": {
    "ExecuteTime": {
     "end_time": "2021-09-27T14:03:49.657566Z",
     "start_time": "2021-09-27T12:52:26.552791Z"
    }
   },
   "outputs": [
    {
     "name": "stderr",
     "output_type": "stream",
     "text": [
      "C:\\Users\\Yueqiao\\anaconda3\\envs\\ttorch\\lib\\site-packages\\torch\\nn\\functional.py:718: UserWarning: Named tensors and all their associated APIs are an experimental feature and subject to change. Please do not use them for anything important until they are released as stable. (Triggered internally at  ..\\c10/core/TensorImpl.h:1156.)\n",
      "  return torch.max_pool2d(input, kernel_size, stride, padding, dilation, ceil_mode)\n"
     ]
    },
    {
     "name": "stdout",
     "output_type": "stream",
     "text": [
      "Epoch [1/20], Step [7/21], Accuracy: 28.125%, Loss: 1.1002\n",
      "Epoch [1/20], Step [14/21], Accuracy: 34.375%, Loss: 1.1000\n",
      "Epoch [1/20], Step [21/21], Accuracy: 30.952380952380953%, Loss: 1.0988\n",
      "Accuracy: 36.00 %\n",
      "0.16491135358810424\n",
      "Epoch [2/20], Step [7/21], Accuracy: 23.4375%, Loss: 1.0989\n",
      "Epoch [2/20], Step [14/21], Accuracy: 39.0625%, Loss: 1.0959\n",
      "Epoch [2/20], Step [21/21], Accuracy: 35.714285714285715%, Loss: 1.0934\n",
      "Accuracy: 33.33 %\n",
      "0.16425817012786864\n",
      "Epoch [3/20], Step [7/21], Accuracy: 28.125%, Loss: 1.0985\n",
      "Epoch [3/20], Step [14/21], Accuracy: 35.9375%, Loss: 1.0826\n",
      "Epoch [3/20], Step [21/21], Accuracy: 38.095238095238095%, Loss: 1.0644\n",
      "Accuracy: 46.67 %\n",
      "0.1591655433177948\n",
      "Epoch [4/20], Step [7/21], Accuracy: 53.125%, Loss: 1.0475\n",
      "Epoch [4/20], Step [14/21], Accuracy: 57.8125%, Loss: 0.9138\n",
      "Epoch [4/20], Step [21/21], Accuracy: 38.095238095238095%, Loss: 1.7768\n",
      "Accuracy: 34.00 %\n",
      "0.26474970430135725\n",
      "Epoch [5/20], Step [7/21], Accuracy: 28.125%, Loss: 1.1097\n",
      "Epoch [5/20], Step [14/21], Accuracy: 50.0%, Loss: 1.0380\n",
      "Epoch [5/20], Step [21/21], Accuracy: 40.476190476190474%, Loss: 1.1909\n",
      "Accuracy: 40.00 %\n",
      "0.1714375913143158\n",
      "Epoch [6/20], Step [7/21], Accuracy: 53.125%, Loss: 0.9306\n",
      "Epoch [6/20], Step [14/21], Accuracy: 50.0%, Loss: 0.9934\n",
      "Epoch [6/20], Step [21/21], Accuracy: 42.857142857142854%, Loss: 1.0085\n",
      "Accuracy: 46.67 %\n",
      "0.1556730180978775\n",
      "Epoch [7/20], Step [7/21], Accuracy: 43.75%, Loss: 1.0303\n",
      "Epoch [7/20], Step [14/21], Accuracy: 64.0625%, Loss: 0.8539\n",
      "Epoch [7/20], Step [21/21], Accuracy: 57.142857142857146%, Loss: 0.9519\n",
      "Accuracy: 53.33 %\n",
      "0.13761186301708223\n",
      "Epoch [8/20], Step [7/21], Accuracy: 76.5625%, Loss: 0.6180\n",
      "Epoch [8/20], Step [14/21], Accuracy: 59.375%, Loss: 0.7199\n",
      "Epoch [8/20], Step [21/21], Accuracy: 57.142857142857146%, Loss: 0.8035\n",
      "Accuracy: 51.33 %\n",
      "0.1297151505947113\n",
      "Epoch [9/20], Step [7/21], Accuracy: 57.8125%, Loss: 0.7374\n",
      "Epoch [9/20], Step [14/21], Accuracy: 57.8125%, Loss: 0.8502\n",
      "Epoch [9/20], Step [21/21], Accuracy: 45.23809523809524%, Loss: 0.9018\n",
      "Accuracy: 62.67 %\n",
      "0.12010760307312011\n",
      "Epoch [10/20], Step [7/21], Accuracy: 57.8125%, Loss: 0.7963\n",
      "Epoch [10/20], Step [14/21], Accuracy: 46.875%, Loss: 0.7912\n",
      "Epoch [10/20], Step [21/21], Accuracy: 73.80952380952381%, Loss: 0.5773\n",
      "Accuracy: 60.00 %\n",
      "0.10280778408050537\n",
      "Epoch [11/20], Step [7/21], Accuracy: 64.0625%, Loss: 0.6586\n",
      "Epoch [11/20], Step [14/21], Accuracy: 68.75%, Loss: 0.6591\n",
      "Epoch [11/20], Step [21/21], Accuracy: 78.57142857142857%, Loss: 0.4754\n",
      "Accuracy: 60.00 %\n",
      "0.17296816408634186\n",
      "Epoch [12/20], Step [7/21], Accuracy: 73.4375%, Loss: 0.5805\n",
      "Epoch [12/20], Step [14/21], Accuracy: 73.4375%, Loss: 0.5321\n",
      "Epoch [12/20], Step [21/21], Accuracy: 71.42857142857143%, Loss: 0.5219\n",
      "Accuracy: 70.00 %\n",
      "0.11484354436397552\n",
      "Epoch [13/20], Step [7/21], Accuracy: 75.0%, Loss: 0.5080\n",
      "Epoch [13/20], Step [14/21], Accuracy: 75.0%, Loss: 0.5289\n",
      "Epoch [13/20], Step [21/21], Accuracy: 76.19047619047619%, Loss: 0.4808\n",
      "Accuracy: 80.00 %\n",
      "0.0786452278494835\n",
      "Epoch [14/20], Step [7/21], Accuracy: 65.625%, Loss: 0.7108\n",
      "Epoch [14/20], Step [14/21], Accuracy: 68.75%, Loss: 0.6817\n",
      "Epoch [14/20], Step [21/21], Accuracy: 83.33333333333333%, Loss: 0.4401\n",
      "Accuracy: 82.67 %\n",
      "0.07545248568058013\n",
      "Epoch [15/20], Step [7/21], Accuracy: 78.125%, Loss: 0.3688\n",
      "Epoch [15/20], Step [14/21], Accuracy: 87.5%, Loss: 0.4764\n",
      "Epoch [15/20], Step [21/21], Accuracy: 92.85714285714286%, Loss: 0.3021\n",
      "Accuracy: 88.67 %\n",
      "0.05073447898030281\n",
      "Epoch [16/20], Step [7/21], Accuracy: 85.9375%, Loss: 0.3129\n",
      "Epoch [16/20], Step [14/21], Accuracy: 95.3125%, Loss: 0.1650\n",
      "Epoch [16/20], Step [21/21], Accuracy: 88.0952380952381%, Loss: 0.2640\n",
      "Accuracy: 86.00 %\n",
      "0.05702479928731918\n",
      "Epoch [17/20], Step [7/21], Accuracy: 78.125%, Loss: 0.9940\n",
      "Epoch [17/20], Step [14/21], Accuracy: 93.75%, Loss: 0.1997\n",
      "Epoch [17/20], Step [21/21], Accuracy: 83.33333333333333%, Loss: 0.3347\n",
      "Accuracy: 91.33 %\n",
      "0.047536700963974\n",
      "Epoch [18/20], Step [7/21], Accuracy: 85.9375%, Loss: 0.3490\n",
      "Epoch [18/20], Step [14/21], Accuracy: 87.5%, Loss: 0.3794\n",
      "Epoch [18/20], Step [21/21], Accuracy: 92.85714285714286%, Loss: 0.2190\n",
      "Accuracy: 90.00 %\n",
      "0.05521760806441307\n",
      "Epoch [19/20], Step [7/21], Accuracy: 95.3125%, Loss: 0.1259\n",
      "Epoch [19/20], Step [14/21], Accuracy: 96.875%, Loss: 0.1868\n",
      "Epoch [19/20], Step [21/21], Accuracy: 95.23809523809524%, Loss: 0.1498\n",
      "Accuracy: 90.00 %\n",
      "0.04913512095808983\n",
      "Epoch [20/20], Step [7/21], Accuracy: 93.75%, Loss: 0.2947\n",
      "Epoch [20/20], Step [14/21], Accuracy: 87.5%, Loss: 0.2385\n",
      "Epoch [20/20], Step [21/21], Accuracy: 95.23809523809524%, Loss: 0.1260\n",
      "Accuracy: 91.33 %\n",
      "0.035350929200649264\n",
      "Finished Training of AlexNet\n"
     ]
    }
   ],
   "source": [
    "total_step = len(train_dl)\n",
    "num_epoch = 20\n",
    "List_acc_valid=[]\n",
    "List_acc_train=[]  \n",
    "List_loss_valid=[]\n",
    "List_loss_train=[]\n",
    "for epoch in range(num_epoch):  # loop over the dataset multiple times\n",
    "\n",
    "    running_loss = 0.0\n",
    "    AlexNet.train()\n",
    "    for i, data in enumerate(train_dl, 0):\n",
    "        # get the inputs; data is a list of [inputs, labels]\n",
    "        inputs, labels = data[0].to(device), data[1].to(device)\n",
    "\n",
    "        # zero the parameter gradients\n",
    "        optimizer.zero_grad()\n",
    "\n",
    "        # forward + backward + optimize\n",
    "        output = AlexNet(inputs)\n",
    "        loss = criterion(output, labels)\n",
    "        loss.backward()\n",
    "        optimizer.step()\n",
    "\n",
    "        # print statistics\n",
    "        running_loss += loss.item()\n",
    "        if i % 7 == 6:    # print every 1000 mini-batches\n",
    "            correct_train = 0\n",
    "            total_train = 0\n",
    "            _, predicted = torch.max(output.data, 1)\n",
    "            total_train += labels.size(0)\n",
    "            correct_train += (predicted == labels).sum().item()\n",
    "            acc_train = 100 * correct_train/total_train\n",
    "            running_loss = 0.0\n",
    "            print ('Epoch [{}/{}], Step [{}/{}], Accuracy: {}%, Loss: {:.4f}'.format(epoch+1, num_epoch, i+1, total_step, acc_train, loss.item()))\n",
    "    \n",
    "    correct = 0\n",
    "    total = 0\n",
    "    AlexNet.eval()\n",
    "    total_loss_per_epoch = 0\n",
    "    with torch.no_grad():\n",
    "        for data in valid_dl:\n",
    "            images_valid, labels_valid = data[0].to(device), data[1].to(device)\n",
    "            outputs_valid = AlexNet(images_valid)\n",
    "            loss_valid = criterion(outputs_valid, labels_valid)\n",
    "            total_loss_per_epoch += loss_valid.item()\n",
    "            _, predicted = torch.max(outputs_valid.data, 1)\n",
    "            total += labels_valid.size(0)\n",
    "            correct += (predicted == labels_valid).sum().item()\n",
    "            acc_valid = 100 * correct / total\n",
    "        loss_per_epoch = total_loss_per_epoch/i\n",
    "        print('Accuracy: %.2f %%' % (100 * correct / total))\n",
    "        print(loss_per_epoch)\n",
    "        \n",
    "        List_acc_valid.append(acc_valid)\n",
    "        List_acc_train.append(acc_train)\n",
    "        List_loss_valid.append(loss_valid.item())\n",
    "        List_loss_train.append(loss.item()) \n",
    "print('Finished Training of AlexNet')"
   ]
  },
  {
   "cell_type": "code",
   "execution_count": 9,
   "id": "96525006",
   "metadata": {
    "ExecuteTime": {
     "end_time": "2021-09-27T14:03:59.113705Z",
     "start_time": "2021-09-27T14:03:49.658566Z"
    }
   },
   "outputs": [],
   "source": [
    "dataiter = iter(train_dl)\n",
    "images, labels = dataiter.next()\n",
    "classes = ('Healthy', 'Powdery', 'Rust')"
   ]
  },
  {
   "cell_type": "code",
   "execution_count": 10,
   "id": "a2a1642e",
   "metadata": {
    "ExecuteTime": {
     "end_time": "2021-09-27T14:04:20.373514Z",
     "start_time": "2021-09-27T14:03:59.115706Z"
    }
   },
   "outputs": [
    {
     "name": "stdout",
     "output_type": "stream",
     "text": [
      "Accuracy: 91.33 %\n"
     ]
    }
   ],
   "source": [
    "correct = 0\n",
    "total = 0\n",
    "with torch.no_grad():\n",
    "    for data in valid_dl:\n",
    "        images, labels = data[0].to(device), data[1].to(device)\n",
    "        outputs = AlexNet(images)\n",
    "        _, predicted = torch.max(outputs.data, 1)\n",
    "        total += labels.size(0)\n",
    "        correct += (predicted == labels).sum().item()\n",
    "\n",
    "print('Accuracy: %.2f %%' % (100 * correct / total))"
   ]
  },
  {
   "cell_type": "code",
   "execution_count": 11,
   "id": "51000d73",
   "metadata": {
    "ExecuteTime": {
     "end_time": "2021-09-27T14:04:41.921387Z",
     "start_time": "2021-09-27T14:04:20.377514Z"
    }
   },
   "outputs": [
    {
     "name": "stdout",
     "output_type": "stream",
     "text": [
      "Accuracy of Healthy : 86 %\n",
      "Accuracy of Powdery : 95 %\n",
      "Accuracy of  Rust : 90 %\n"
     ]
    }
   ],
   "source": [
    "class_correct = list(0. for i in range(3))\n",
    "class_total = list(0. for i in range(3))\n",
    "with torch.no_grad():\n",
    "    for data in valid_dl:\n",
    "        images, labels = data[0].to(device), data[1].to(device)\n",
    "        outputs = AlexNet(images)\n",
    "        _, predicted = torch.max(outputs, 1)\n",
    "        c = (predicted == labels).squeeze()\n",
    "        for i in range(22):\n",
    "            label = labels[i]\n",
    "            class_correct[label] += c[i].item()\n",
    "            class_total[label] += 1\n",
    "\n",
    "\n",
    "for i in range(3):\n",
    "    print('Accuracy of %5s : %2d %%' % (\n",
    "        classes[i], 100 * class_correct[i] / class_total[i]))"
   ]
  },
  {
   "cell_type": "code",
   "execution_count": 12,
   "id": "41e50b04",
   "metadata": {
    "ExecuteTime": {
     "end_time": "2021-09-27T14:04:42.347189Z",
     "start_time": "2021-09-27T14:04:41.922388Z"
    }
   },
   "outputs": [],
   "source": [
    "PATH = './plant3_AlexNet_full.pth'\n",
    "torch.save(AlexNet, PATH)"
   ]
  },
  {
   "cell_type": "code",
   "execution_count": 13,
   "id": "0de4cd5a",
   "metadata": {
    "ExecuteTime": {
     "end_time": "2021-09-27T14:04:42.613251Z",
     "start_time": "2021-09-27T14:04:42.348190Z"
    }
   },
   "outputs": [
    {
     "name": "stdout",
     "output_type": "stream",
     "text": [
      "\u001b[1m Accuracy for train dataset:95.24%\u001b[0m\n",
      "\u001b[1m Accuracy for valid dataset:91.33%\u001b[0m\n",
      "\n",
      "\n"
     ]
    },
    {
     "data": {
      "image/png": "[encoded data removed]",
      "text/plain": [
       "<Figure size 1080x504 with 2 Axes>"
      ]
     },
     "metadata": {
      "needs_background": "light"
     },
     "output_type": "display_data"
    }
   ],
   "source": [
    "#Train and Valid Accuracy & Loss curve\n",
    "#-------------------------------------------------------------------------------\n",
    "print('\\033[1m Accuracy for train dataset:{:.2f}%\\033[0m'.format(List_acc_train[-1]))\n",
    "print('\\033[1m Accuracy for valid dataset:{:.2f}%\\033[0m'.format(List_acc_valid[-1]))\n",
    "print('\\n')\n",
    "\n",
    "#Accuracy curves\n",
    "#-------------------------------------------------------------------------------\n",
    "plt.figure(figsize=(15,7))\n",
    "plt.subplot(121)\n",
    "plt.plot(List_acc_train,\"royalblue\",linewidth=2)\n",
    "plt.plot(List_acc_valid,\"tomato\",linewidth=2)\n",
    "plt.title('Model accuracy per epoch',fontsize=16)\n",
    "plt.ylabel('accuracy',fontsize=14)\n",
    "plt.xlabel('epoch',fontsize=14)\n",
    "plt.legend(['train', 'valid'], loc='right',fontsize=14)\n",
    "\n",
    "#Loss curves\n",
    "#-------------------------------------------------------------------------------\n",
    "plt.subplot(122)\n",
    "plt.plot(List_loss_train,\"royalblue\",linewidth=2)\n",
    "plt.plot(List_loss_valid,\"tomato\",linewidth=2)\n",
    "plt.title('Model loss per epoch',fontsize=16)\n",
    "plt.ylabel('loss',fontsize=14)\n",
    "plt.xlabel('epoch',fontsize=14)\n",
    "plt.legend(['train', 'valid'], loc='right',fontsize=14)\n",
    "plt.show()"
   ]
  },
  {
   "cell_type": "code",
   "execution_count": 14,
   "id": "bc2ca52e",
   "metadata": {
    "ExecuteTime": {
     "end_time": "2021-09-27T14:04:42.677270Z",
     "start_time": "2021-09-27T14:04:42.614251Z"
    }
   },
   "outputs": [],
   "source": [
    "PATH = './plant3_AlexNet_full.pth'\n",
    "AlexNet = torch.load(PATH)"
   ]
  },
  {
   "cell_type": "code",
   "execution_count": null,
   "id": "470aeaed",
   "metadata": {},
   "outputs": [],
   "source": [
    "PATH = './plant3_AlexNet_full.pth'"
   ]
  }
 ],
 "metadata": {
  "kernelspec": {
   "display_name": "Python 3 (ipykernel)",
   "language": "python",
   "name": "python3"
  },
  "language_info": {
   "codemirror_mode": {
    "name": "ipython",
    "version": 3
   },
   "file_extension": ".py",
   "mimetype": "text/x-python",
   "name": "python",
   "nbconvert_exporter": "python",
   "pygments_lexer": "ipython3",
   "version": "3.8.11"
  }
 },
 "nbformat": 4,
 "nbformat_minor": 5
}

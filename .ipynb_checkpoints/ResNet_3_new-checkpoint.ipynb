{
 "cells": [
  {
   "cell_type": "code",
   "execution_count": null,
   "id": "3062f649",
   "metadata": {
    "ExecuteTime": {
     "start_time": "2021-10-05T18:39:50.942Z"
    }
   },
   "outputs": [],
   "source": [
    "import os\n",
    "import torch\n",
    "import matplotlib.pyplot as plt\n",
    "import torch.nn as nn\n",
    "from torch.utils.data import DataLoader\n",
    "from PIL import Image\n",
    "import torch.nn.functional as F\n",
    "import torchvision.transforms as transforms\n",
    "from torchvision.datasets import ImageFolder  \n",
    "from torchvision import models\n",
    "from torch import optim\n",
    "import pandas as pd\n",
    "%matplotlib inline"
   ]
  },
  {
   "cell_type": "code",
   "execution_count": null,
   "id": "50cfd02c",
   "metadata": {
    "ExecuteTime": {
     "start_time": "2021-10-05T18:39:50.943Z"
    }
   },
   "outputs": [],
   "source": [
    "data_dir = \"../input/plant disease regonition\"\n",
    "train_dir = data_dir + \"/train\"\n",
    "valid_dir = data_dir + \"/valid\"\n",
    "diseases = os.listdir(train_dir)\n",
    "print(diseases)\n",
    "print(len(diseases))"
   ]
  },
  {
   "cell_type": "code",
   "execution_count": null,
   "id": "5347618b",
   "metadata": {
    "ExecuteTime": {
     "start_time": "2021-10-05T18:39:50.944Z"
    }
   },
   "outputs": [],
   "source": [
    "transform= transforms.Compose([\n",
    "    transforms.Resize(256),\n",
    "    transforms.CenterCrop(224),\n",
    "    transforms.ToTensor(),\n",
    "    transforms.Normalize(mean=[0.485, 0.456, 0.406], std=[0.229, 0.224, 0.225]),\n",
    "])"
   ]
  },
  {
   "cell_type": "code",
   "execution_count": null,
   "id": "b61f7296",
   "metadata": {
    "ExecuteTime": {
     "start_time": "2021-10-05T18:39:50.944Z"
    }
   },
   "outputs": [],
   "source": [
    "batch_size = 64\n",
    "train = ImageFolder(train_dir, transform=transform)\n",
    "valid = ImageFolder(valid_dir, transform=transform) \n",
    "train_dl = DataLoader(train, batch_size, shuffle=True, num_workers=2, pin_memory=True)\n",
    "valid_dl = DataLoader(valid, batch_size, num_workers=2, pin_memory=True)"
   ]
  },
  {
   "cell_type": "code",
   "execution_count": null,
   "id": "f69cb60b",
   "metadata": {
    "ExecuteTime": {
     "start_time": "2021-10-05T18:39:50.945Z"
    }
   },
   "outputs": [],
   "source": [
    "model = models.resnet18(pretrained=True)"
   ]
  },
  {
   "cell_type": "code",
   "execution_count": null,
   "id": "c4887882",
   "metadata": {
    "ExecuteTime": {
     "start_time": "2021-10-05T18:39:50.945Z"
    }
   },
   "outputs": [],
   "source": [
    "def show_image(image, label):\n",
    "    print(\"Label :\" + train.classes[label] + \"(\" + str(label) + \")\")\n",
    "    plt.imshow(image.permute(1, 2, 0))"
   ]
  },
  {
   "cell_type": "code",
   "execution_count": null,
   "id": "d24174ff",
   "metadata": {
    "ExecuteTime": {
     "start_time": "2021-10-05T18:39:50.946Z"
    }
   },
   "outputs": [],
   "source": [
    "fc_inputs = model.fc.in_features\n",
    "model.fc = nn.Sequential(\n",
    "    nn.Linear(fc_inputs, 256),\n",
    "    nn.ReLU(),\n",
    "    nn.Dropout(0.4),\n",
    "    nn.Linear(256, 3),\n",
    "    nn.LogSoftmax(dim=1)\n",
    ")"
   ]
  },
  {
   "cell_type": "code",
   "execution_count": null,
   "id": "8b23e5f2",
   "metadata": {
    "ExecuteTime": {
     "start_time": "2021-10-05T18:39:50.946Z"
    }
   },
   "outputs": [],
   "source": [
    "device = torch.device('cuda:0')\n",
    "device"
   ]
  },
  {
   "cell_type": "code",
   "execution_count": null,
   "id": "64271505",
   "metadata": {
    "ExecuteTime": {
     "start_time": "2021-10-05T18:39:50.947Z"
    }
   },
   "outputs": [],
   "source": [
    "learning_rate = 0.0001\n",
    "epochs = 10\n",
    "criterion = nn.CrossEntropyLoss()\n",
    "# set optimizer, only train the classifier parameters, feature parameters are frozen\n",
    "optimizer = optim.Adam(model.parameters(), lr=learning_rate, weight_decay=1e-4)\n",
    "scheduler = torch.optim.lr_scheduler.OneCycleLR(optimizer, learning_rate, epochs=epochs, steps_per_epoch=len(train_dl))"
   ]
  },
  {
   "cell_type": "code",
   "execution_count": null,
   "id": "53a78548",
   "metadata": {
    "ExecuteTime": {
     "start_time": "2021-10-05T18:39:50.947Z"
    }
   },
   "outputs": [],
   "source": [
    "model.to(device)"
   ]
  },
  {
   "cell_type": "code",
   "execution_count": null,
   "id": "7eaf80fd",
   "metadata": {
    "ExecuteTime": {
     "start_time": "2021-10-05T18:39:50.948Z"
    }
   },
   "outputs": [],
   "source": [
    "total_step = len(train_dl)\n",
    "total_step = len(train_dl)\n",
    "num_epoch = 20\n",
    "List_acc_valid=[]\n",
    "List_acc_train=[]  \n",
    "List_loss_valid=[]\n",
    "List_loss_train=[]\n",
    "for epoch in range(num_epoch):  # loop over the dataset multiple times\n",
    "    print ('Epoch [{}/{}], Learning Rate{:.10f}'.format(epoch+1, num_epoch, optimizer.param_groups[0]['lr']))\n",
    "    running_loss = 0.0\n",
    "    model.train()\n",
    "    for i, data in enumerate(train_dl, 0):\n",
    "        # get the inputs; data is a list of [inputs, labels]\n",
    "        inputs, labels = data[0].to(device), data[1].to(device)\n",
    "\n",
    "        # zero the parameter gradients\n",
    "        optimizer.zero_grad()\n",
    "\n",
    "        # forward + backward + optimize\n",
    "        output = model(inputs)\n",
    "        loss = criterion(output, labels)\n",
    "        loss.backward()\n",
    "        optimizer.step()\n",
    "        scheduler.step()\n",
    "        # print statistics\n",
    "        running_loss += loss.item()\n",
    "        if i % 21 == 20:    # print every 1000 mini-batches\n",
    "            correct_train = 0\n",
    "            total_train = 0\n",
    "            _, predicted = torch.max(output.data, 1)\n",
    "            total_train += labels.size(0)\n",
    "            correct_train += (predicted == labels).sum().item()\n",
    "            acc_train = 100 * correct_train/total_train\n",
    "            running_loss = 0.0\n",
    "            print ('Epoch [{}/{}], Step [{}/{}], Accuracy: {}%, Loss: {:.4f}'.format(epoch+1, num_epoch, i+1, total_step, acc_train, loss.item()))\n",
    "        \n",
    "    correct = 0\n",
    "    total = 0\n",
    "    model.eval()\n",
    "    total_loss_per_epoch = 0\n",
    "    with torch.no_grad():\n",
    "        for i, data in enumerate(valid_dl):\n",
    "            images_valid, labels_valid = data[0].to(device), data[1].to(device)\n",
    "            outputs_valid = model(images_valid)\n",
    "            loss_valid = criterion(outputs_valid, labels_valid)\n",
    "            total_loss_per_epoch += loss_valid.item()\n",
    "            _, predicted = torch.max(outputs_valid.data, 1)\n",
    "            total += labels_valid.size(0)\n",
    "            correct += (predicted == labels_valid).sum().item()\n",
    "            acc_valid = 100 * correct / total\n",
    "        loss_per_epoch = total_loss_per_epoch/i    \n",
    "        print('Accuracy: %.2f %%' % (100 * correct / total))\n",
    "        print(loss_per_epoch)\n",
    "    \n",
    "    List_acc_valid.append(acc_valid)\n",
    "    List_acc_train.append(acc_train)\n",
    "    List_loss_valid.append(loss_valid.item())\n",
    "    List_loss_train.append(loss.item()) \n",
    "print('Finished Training of VGG-16')"
   ]
  },
  {
   "cell_type": "code",
   "execution_count": null,
   "id": "f6bdd899",
   "metadata": {
    "ExecuteTime": {
     "start_time": "2021-10-05T18:39:50.949Z"
    }
   },
   "outputs": [],
   "source": [
    "dataiter = iter(train_dl)\n",
    "images, labels = dataiter.next()\n",
    "classes = ('Healthy', 'Powdery', 'Rust')"
   ]
  },
  {
   "cell_type": "code",
   "execution_count": null,
   "id": "efeb96da",
   "metadata": {
    "ExecuteTime": {
     "start_time": "2021-10-05T18:39:50.949Z"
    }
   },
   "outputs": [],
   "source": [
    "class_correct = list(0. for i in range(3))\n",
    "class_total = list(0. for i in range(3))\n",
    "with torch.no_grad():\n",
    "    for data in valid_dl:\n",
    "        images, labels = data[0].to(device), data[1].to(device)\n",
    "        outputs = model(images)\n",
    "        _, predicted = torch.max(outputs, 1)\n",
    "        c = (predicted == labels).squeeze()\n",
    "        for i in range(22):\n",
    "            label = labels[i]\n",
    "            class_correct[label] += c[i].item()\n",
    "            class_total[label] += 1\n",
    "\n",
    "\n",
    "for i in range(3):\n",
    "    print('Accuracy of %5s : %2d %%' % (\n",
    "        classes[i], 100 * class_correct[i] / class_total[i]))"
   ]
  },
  {
   "cell_type": "code",
   "execution_count": null,
   "id": "90d620ea",
   "metadata": {
    "ExecuteTime": {
     "start_time": "2021-10-05T18:39:50.950Z"
    }
   },
   "outputs": [],
   "source": [
    "correct = 0\n",
    "total = 0\n",
    "with torch.no_grad():\n",
    "    for data in valid_dl:\n",
    "        images, labels = data[0].to(device), data[1].to(device)\n",
    "        outputs = model(images)\n",
    "        _, predicted = torch.max(outputs.data, 1)\n",
    "        total += labels.size(0)\n",
    "        correct += (predicted == labels).sum().item()\n",
    "\n",
    "print('Accuracy: %.2f %%' % (100 * correct / total))"
   ]
  },
  {
   "cell_type": "code",
   "execution_count": null,
   "id": "118329ac",
   "metadata": {
    "ExecuteTime": {
     "start_time": "2021-10-05T18:39:50.950Z"
    }
   },
   "outputs": [],
   "source": [
    "#Train and Valid Accuracy & Loss curve\n",
    "#-------------------------------------------------------------------------------\n",
    "print('\\033[1m Accuracy for train dataset:{:.2f}%\\033[0m'.format(List_acc_train[-1]))\n",
    "print('\\033[1m Accuracy for valid dataset:{:.2f}%\\033[0m'.format(List_acc_valid[-1]))\n",
    "print('\\n')\n",
    "\n",
    "#Accuracy curves\n",
    "#-------------------------------------------------------------------------------\n",
    "plt.figure(figsize=(15,7))\n",
    "plt.subplot(121)\n",
    "plt.plot(List_acc_train,\"royalblue\",linewidth=2)\n",
    "plt.plot(List_acc_valid,\"tomato\",linewidth=2)\n",
    "plt.title('Model accuracy per epoch',fontsize=16)\n",
    "plt.ylabel('accuracy',fontsize=14)\n",
    "plt.xlabel('epoch',fontsize=14)\n",
    "plt.legend(['train', 'valid'], loc='right',fontsize=14)\n",
    "\n",
    "#Loss curves\n",
    "#-------------------------------------------------------------------------------\n",
    "plt.subplot(122)\n",
    "plt.plot(List_loss_train,\"royalblue\",linewidth=2)\n",
    "plt.plot(List_loss_valid,\"tomato\",linewidth=2)\n",
    "plt.title('Model loss per epoch',fontsize=16)\n",
    "plt.ylabel('loss',fontsize=14)\n",
    "plt.xlabel('epoch',fontsize=14)\n",
    "plt.legend(['train', 'valid'], loc='right',fontsize=14)\n",
    "plt.show()"
   ]
  },
  {
   "cell_type": "code",
   "execution_count": null,
   "id": "8ab650cd",
   "metadata": {
    "ExecuteTime": {
     "start_time": "2021-10-05T18:39:50.951Z"
    }
   },
   "outputs": [],
   "source": [
    "PATH = './plant3_Res18_full.pth'\n",
    "torch.save(model, PATH)"
   ]
  },
  {
   "cell_type": "code",
   "execution_count": null,
   "id": "c4e73f43",
   "metadata": {
    "ExecuteTime": {
     "start_time": "2021-10-05T18:39:50.952Z"
    }
   },
   "outputs": [],
   "source": [
    "show_image(*train[1000])"
   ]
  },
  {
   "cell_type": "code",
   "execution_count": null,
   "id": "c950f6fa",
   "metadata": {
    "ExecuteTime": {
     "start_time": "2021-10-05T18:39:50.952Z"
    }
   },
   "outputs": [],
   "source": [
    "transform_train = transforms.Compose([\n",
    "    # 随机裁剪图像，所得图像为原始面积的0.08到1之间，高宽比在3/4和4/3之间。 \n",
    "    # 然后，缩放图像以创建224 x 224的新图像\n",
    "    transforms.RandomResizedCrop(224, scale=(0.5, 1.0),\n",
    "                                             ratio=(3.0/4.0, 4.0/3.0)),\n",
    "    # 随机更改亮度，对比度和饱和度\n",
    "    transforms.ColorJitter(brightness=0.4,\n",
    "                                       contrast=0.4,\n",
    "                                       saturation=0.4),\n",
    "    # 添加随机噪声\n",
    "    transforms.ToTensor(),\n",
    "    # 标准化图像的每个通道\n",
    "    transforms.Normalize([0.485, 0.456, 0.406],\n",
    "                                     [0.229, 0.224, 0.225])])\n",
    "transform_valid = transforms.Compose([\n",
    "    transforms.Resize(256),\n",
    "    transforms.CenterCrop(224),\n",
    "    transforms.ToTensor(),\n",
    "    transforms.Normalize(mean=[0.485, 0.456, 0.406], std=[0.229, 0.224, 0.225]),\n",
    "])"
   ]
  },
  {
   "cell_type": "code",
   "execution_count": null,
   "id": "de25bef9",
   "metadata": {
    "ExecuteTime": {
     "start_time": "2021-10-05T18:39:50.953Z"
    }
   },
   "outputs": [],
   "source": [
    "batch_size = 64\n",
    "train1 = ImageFolder(train_dir, transform=transform_train)\n",
    "valid1 = ImageFolder(valid_dir, transform=transform_valid) \n",
    "train_dl1 = DataLoader(train1, batch_size, shuffle=True, num_workers=2, pin_memory=True)\n",
    "valid_dl1 = DataLoader(valid1, batch_size, num_workers=2, pin_memory=True)"
   ]
  },
  {
   "cell_type": "code",
   "execution_count": null,
   "id": "85f43484",
   "metadata": {
    "ExecuteTime": {
     "start_time": "2021-10-05T18:39:50.953Z"
    }
   },
   "outputs": [],
   "source": [
    "show_image(*train1[1000])"
   ]
  },
  {
   "cell_type": "code",
   "execution_count": null,
   "id": "48099bbb",
   "metadata": {
    "ExecuteTime": {
     "start_time": "2021-10-05T18:39:50.954Z"
    }
   },
   "outputs": [],
   "source": [
    "show_image(*train[1000])"
   ]
  },
  {
   "cell_type": "code",
   "execution_count": null,
   "id": "17a170e2",
   "metadata": {},
   "outputs": [],
   "source": []
  }
 ],
 "metadata": {
  "kernelspec": {
   "display_name": "Python 3 (ipykernel)",
   "language": "python",
   "name": "python3"
  },
  "language_info": {
   "codemirror_mode": {
    "name": "ipython",
    "version": 3
   },
   "file_extension": ".py",
   "mimetype": "text/x-python",
   "name": "python",
   "nbconvert_exporter": "python",
   "pygments_lexer": "ipython3",
   "version": "3.8.11"
  }
 },
 "nbformat": 4,
 "nbformat_minor": 5
}
